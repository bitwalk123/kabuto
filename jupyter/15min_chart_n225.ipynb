{
 "cells": [
  {
   "cell_type": "markdown",
   "id": "07ceea52-6536-47e0-81aa-30c017b5bfc5",
   "metadata": {},
   "source": [
    "# 日経平均株価 15分足"
   ]
  },
  {
   "cell_type": "markdown",
   "id": "8a363236-5477-4a61-99da-bf92362631f4",
   "metadata": {},
   "source": [
    "### 一つ上のディレクトリをパスに追加"
   ]
  },
  {
   "cell_type": "code",
   "execution_count": 61,
   "id": "f1f6d8b7-4107-4a29-ae60-f3cbfa1f5a38",
   "metadata": {},
   "outputs": [],
   "source": [
    "import sys\n",
    "\n",
    "path_up = \"..\"\n",
    "if not path_up in sys.path:\n",
    "    sys.path.append(path_up)"
   ]
  },
  {
   "cell_type": "markdown",
   "id": "19d64844-3cbf-4a92-827e-43c425e34eb6",
   "metadata": {},
   "source": [
    "### ライブラリをここで一括インポート"
   ]
  },
  {
   "cell_type": "code",
   "execution_count": 62,
   "id": "3421a3f8-52ac-41e8-8e08-921ddaa4b37a",
   "metadata": {},
   "outputs": [],
   "source": [
    "import datetime\n",
    "\n",
    "import matplotlib.font_manager as fm\n",
    "import matplotlib.pyplot as plt\n",
    "import mplfinance as mpf\n",
    "import numpy as np\n",
    "import pandas as pd\n",
    "import yfinance as yf\n",
    "\n",
    "from funcs.common import get_name_15min_chart, get_name_15min_chart_now"
   ]
  },
  {
   "cell_type": "markdown",
   "id": "8efa7b4f-c5a5-45df-bcbc-c689517b5fb2",
   "metadata": {},
   "source": [
    "## yfinance による株価データの取得"
   ]
  },
  {
   "cell_type": "code",
   "execution_count": 63,
   "id": "513d138a-5223-48b6-868d-a4e49a86c6b6",
   "metadata": {},
   "outputs": [
    {
     "data": {
      "text/html": [
       "<div>\n",
       "<style scoped>\n",
       "    .dataframe tbody tr th:only-of-type {\n",
       "        vertical-align: middle;\n",
       "    }\n",
       "\n",
       "    .dataframe tbody tr th {\n",
       "        vertical-align: top;\n",
       "    }\n",
       "\n",
       "    .dataframe thead th {\n",
       "        text-align: right;\n",
       "    }\n",
       "</style>\n",
       "<table border=\"1\" class=\"dataframe\">\n",
       "  <thead>\n",
       "    <tr style=\"text-align: right;\">\n",
       "      <th></th>\n",
       "      <th>Open</th>\n",
       "      <th>High</th>\n",
       "      <th>Low</th>\n",
       "      <th>Close</th>\n",
       "      <th>Volume</th>\n",
       "      <th>Dividends</th>\n",
       "      <th>Stock Splits</th>\n",
       "    </tr>\n",
       "    <tr>\n",
       "      <th>Datetime</th>\n",
       "      <th></th>\n",
       "      <th></th>\n",
       "      <th></th>\n",
       "      <th></th>\n",
       "      <th></th>\n",
       "      <th></th>\n",
       "      <th></th>\n",
       "    </tr>\n",
       "  </thead>\n",
       "  <tbody>\n",
       "    <tr>\n",
       "      <th>2025-09-26 09:00:00+09:00</th>\n",
       "      <td>45634.199219</td>\n",
       "      <td>45694.511719</td>\n",
       "      <td>45466.359375</td>\n",
       "      <td>45524.148438</td>\n",
       "      <td>0</td>\n",
       "      <td>0.0</td>\n",
       "      <td>0.0</td>\n",
       "    </tr>\n",
       "    <tr>\n",
       "      <th>2025-09-26 09:15:00+09:00</th>\n",
       "      <td>45521.109375</td>\n",
       "      <td>45754.929688</td>\n",
       "      <td>45423.078125</td>\n",
       "      <td>45502.949219</td>\n",
       "      <td>0</td>\n",
       "      <td>0.0</td>\n",
       "      <td>0.0</td>\n",
       "    </tr>\n",
       "    <tr>\n",
       "      <th>2025-09-26 09:30:00+09:00</th>\n",
       "      <td>45507.871094</td>\n",
       "      <td>45644.191406</td>\n",
       "      <td>45507.871094</td>\n",
       "      <td>45611.671875</td>\n",
       "      <td>0</td>\n",
       "      <td>0.0</td>\n",
       "      <td>0.0</td>\n",
       "    </tr>\n",
       "    <tr>\n",
       "      <th>2025-09-26 09:45:00+09:00</th>\n",
       "      <td>45614.101562</td>\n",
       "      <td>45633.031250</td>\n",
       "      <td>45538.160156</td>\n",
       "      <td>45628.359375</td>\n",
       "      <td>0</td>\n",
       "      <td>0.0</td>\n",
       "      <td>0.0</td>\n",
       "    </tr>\n",
       "    <tr>\n",
       "      <th>2025-09-26 10:00:00+09:00</th>\n",
       "      <td>45630.480469</td>\n",
       "      <td>45684.871094</td>\n",
       "      <td>45562.769531</td>\n",
       "      <td>45663.039062</td>\n",
       "      <td>0</td>\n",
       "      <td>0.0</td>\n",
       "      <td>0.0</td>\n",
       "    </tr>\n",
       "    <tr>\n",
       "      <th>2025-09-26 10:15:00+09:00</th>\n",
       "      <td>45659.980469</td>\n",
       "      <td>45695.699219</td>\n",
       "      <td>45630.558594</td>\n",
       "      <td>45645.011719</td>\n",
       "      <td>0</td>\n",
       "      <td>0.0</td>\n",
       "      <td>0.0</td>\n",
       "    </tr>\n",
       "    <tr>\n",
       "      <th>2025-09-26 10:30:00+09:00</th>\n",
       "      <td>45641.191406</td>\n",
       "      <td>45745.988281</td>\n",
       "      <td>45635.660156</td>\n",
       "      <td>45739.121094</td>\n",
       "      <td>0</td>\n",
       "      <td>0.0</td>\n",
       "      <td>0.0</td>\n",
       "    </tr>\n",
       "    <tr>\n",
       "      <th>2025-09-26 10:45:00+09:00</th>\n",
       "      <td>45738.800781</td>\n",
       "      <td>45766.769531</td>\n",
       "      <td>45702.410156</td>\n",
       "      <td>45728.140625</td>\n",
       "      <td>0</td>\n",
       "      <td>0.0</td>\n",
       "      <td>0.0</td>\n",
       "    </tr>\n",
       "    <tr>\n",
       "      <th>2025-09-26 11:00:00+09:00</th>\n",
       "      <td>45726.609375</td>\n",
       "      <td>45743.269531</td>\n",
       "      <td>45680.921875</td>\n",
       "      <td>45721.378906</td>\n",
       "      <td>0</td>\n",
       "      <td>0.0</td>\n",
       "      <td>0.0</td>\n",
       "    </tr>\n",
       "    <tr>\n",
       "      <th>2025-09-26 11:15:00+09:00</th>\n",
       "      <td>45720.578125</td>\n",
       "      <td>45737.359375</td>\n",
       "      <td>45619.390625</td>\n",
       "      <td>45629.089844</td>\n",
       "      <td>0</td>\n",
       "      <td>0.0</td>\n",
       "      <td>0.0</td>\n",
       "    </tr>\n",
       "    <tr>\n",
       "      <th>2025-09-26 11:30:00+09:00</th>\n",
       "      <td>45625.750000</td>\n",
       "      <td>45629.789062</td>\n",
       "      <td>45625.750000</td>\n",
       "      <td>45629.789062</td>\n",
       "      <td>0</td>\n",
       "      <td>0.0</td>\n",
       "      <td>0.0</td>\n",
       "    </tr>\n",
       "    <tr>\n",
       "      <th>2025-09-26 12:30:00+09:00</th>\n",
       "      <td>45578.609375</td>\n",
       "      <td>45588.289062</td>\n",
       "      <td>45433.878906</td>\n",
       "      <td>45454.218750</td>\n",
       "      <td>0</td>\n",
       "      <td>0.0</td>\n",
       "      <td>0.0</td>\n",
       "    </tr>\n",
       "    <tr>\n",
       "      <th>2025-09-26 12:45:00+09:00</th>\n",
       "      <td>45449.511719</td>\n",
       "      <td>45508.910156</td>\n",
       "      <td>45444.359375</td>\n",
       "      <td>45497.261719</td>\n",
       "      <td>0</td>\n",
       "      <td>0.0</td>\n",
       "      <td>0.0</td>\n",
       "    </tr>\n",
       "    <tr>\n",
       "      <th>2025-09-26 13:00:00+09:00</th>\n",
       "      <td>45499.328125</td>\n",
       "      <td>45593.878906</td>\n",
       "      <td>45406.500000</td>\n",
       "      <td>45593.878906</td>\n",
       "      <td>0</td>\n",
       "      <td>0.0</td>\n",
       "      <td>0.0</td>\n",
       "    </tr>\n",
       "    <tr>\n",
       "      <th>2025-09-26 13:15:00+09:00</th>\n",
       "      <td>45590.378906</td>\n",
       "      <td>45610.050781</td>\n",
       "      <td>45526.468750</td>\n",
       "      <td>45529.488281</td>\n",
       "      <td>0</td>\n",
       "      <td>0.0</td>\n",
       "      <td>0.0</td>\n",
       "    </tr>\n",
       "    <tr>\n",
       "      <th>2025-09-26 13:30:00+09:00</th>\n",
       "      <td>45529.250000</td>\n",
       "      <td>45530.000000</td>\n",
       "      <td>45474.769531</td>\n",
       "      <td>45519.679688</td>\n",
       "      <td>0</td>\n",
       "      <td>0.0</td>\n",
       "      <td>0.0</td>\n",
       "    </tr>\n",
       "  </tbody>\n",
       "</table>\n",
       "</div>"
      ],
      "text/plain": [
       "                                   Open          High           Low  \\\n",
       "Datetime                                                              \n",
       "2025-09-26 09:00:00+09:00  45634.199219  45694.511719  45466.359375   \n",
       "2025-09-26 09:15:00+09:00  45521.109375  45754.929688  45423.078125   \n",
       "2025-09-26 09:30:00+09:00  45507.871094  45644.191406  45507.871094   \n",
       "2025-09-26 09:45:00+09:00  45614.101562  45633.031250  45538.160156   \n",
       "2025-09-26 10:00:00+09:00  45630.480469  45684.871094  45562.769531   \n",
       "2025-09-26 10:15:00+09:00  45659.980469  45695.699219  45630.558594   \n",
       "2025-09-26 10:30:00+09:00  45641.191406  45745.988281  45635.660156   \n",
       "2025-09-26 10:45:00+09:00  45738.800781  45766.769531  45702.410156   \n",
       "2025-09-26 11:00:00+09:00  45726.609375  45743.269531  45680.921875   \n",
       "2025-09-26 11:15:00+09:00  45720.578125  45737.359375  45619.390625   \n",
       "2025-09-26 11:30:00+09:00  45625.750000  45629.789062  45625.750000   \n",
       "2025-09-26 12:30:00+09:00  45578.609375  45588.289062  45433.878906   \n",
       "2025-09-26 12:45:00+09:00  45449.511719  45508.910156  45444.359375   \n",
       "2025-09-26 13:00:00+09:00  45499.328125  45593.878906  45406.500000   \n",
       "2025-09-26 13:15:00+09:00  45590.378906  45610.050781  45526.468750   \n",
       "2025-09-26 13:30:00+09:00  45529.250000  45530.000000  45474.769531   \n",
       "\n",
       "                                  Close  Volume  Dividends  Stock Splits  \n",
       "Datetime                                                                  \n",
       "2025-09-26 09:00:00+09:00  45524.148438       0        0.0           0.0  \n",
       "2025-09-26 09:15:00+09:00  45502.949219       0        0.0           0.0  \n",
       "2025-09-26 09:30:00+09:00  45611.671875       0        0.0           0.0  \n",
       "2025-09-26 09:45:00+09:00  45628.359375       0        0.0           0.0  \n",
       "2025-09-26 10:00:00+09:00  45663.039062       0        0.0           0.0  \n",
       "2025-09-26 10:15:00+09:00  45645.011719       0        0.0           0.0  \n",
       "2025-09-26 10:30:00+09:00  45739.121094       0        0.0           0.0  \n",
       "2025-09-26 10:45:00+09:00  45728.140625       0        0.0           0.0  \n",
       "2025-09-26 11:00:00+09:00  45721.378906       0        0.0           0.0  \n",
       "2025-09-26 11:15:00+09:00  45629.089844       0        0.0           0.0  \n",
       "2025-09-26 11:30:00+09:00  45629.789062       0        0.0           0.0  \n",
       "2025-09-26 12:30:00+09:00  45454.218750       0        0.0           0.0  \n",
       "2025-09-26 12:45:00+09:00  45497.261719       0        0.0           0.0  \n",
       "2025-09-26 13:00:00+09:00  45593.878906       0        0.0           0.0  \n",
       "2025-09-26 13:15:00+09:00  45529.488281       0        0.0           0.0  \n",
       "2025-09-26 13:30:00+09:00  45519.679688       0        0.0           0.0  "
      ]
     },
     "execution_count": 63,
     "metadata": {},
     "output_type": "execute_result"
    }
   ],
   "source": [
    "code = \"N225\"\n",
    "symbol = f\"^{code}\"\n",
    "ticker = yf.Ticker(symbol)\n",
    "df = ticker.history(period=\"1d\", interval=\"15m\")\n",
    "df"
   ]
  },
  {
   "cell_type": "markdown",
   "id": "2b974883-632b-43cf-8f1b-9f3e4cededdd",
   "metadata": {},
   "source": [
    "## 前日終値の取得"
   ]
  },
  {
   "cell_type": "code",
   "execution_count": 64,
   "id": "cf79a23f-ac87-47e6-bd34-0746a65c86f9",
   "metadata": {},
   "outputs": [
    {
     "name": "stdout",
     "output_type": "stream",
     "text": [
      "Date\n",
      "2025-09-19 00:00:00+09:00    45045.808594\n",
      "2025-09-22 00:00:00+09:00    45493.660156\n",
      "2025-09-24 00:00:00+09:00    45630.308594\n",
      "2025-09-25 00:00:00+09:00    45754.929688\n",
      "2025-09-26 00:00:00+09:00    45519.679688\n",
      "Name: Close, dtype: float64\n"
     ]
    },
    {
     "data": {
      "text/plain": [
       "Date\n",
       "2025-09-25 00:00:00+09:00    45754.929688\n",
       "Name: Close, dtype: float64"
      ]
     },
     "execution_count": 64,
     "metadata": {},
     "output_type": "execute_result"
    }
   ],
   "source": [
    "# 過去一週間のデータを取得\n",
    "td = datetime.timedelta(days=7)\n",
    "dt_first = df.index[0]\n",
    "dt_prev = dt_first - td\n",
    "df_last = ticker.history(interval=\"1d\", start=str(dt_prev.date()))\n",
    "print(df_last[\"Close\"])\n",
    "n = len(df_last)\n",
    "lastclose = df_last[n - 2 : n - 1][\"Close\"].iloc[0]\n",
    "# lastclose = 44902.27 # 9/16 終値\n",
    "# 確認のため出力\n",
    "df_last[n - 2 : n - 1][\"Close\"]"
   ]
  },
  {
   "cell_type": "markdown",
   "id": "e41961ad-e3e5-4055-a368-6295b0c73219",
   "metadata": {},
   "source": [
    "### 当日始値 - 前日終値"
   ]
  },
  {
   "cell_type": "code",
   "execution_count": 65,
   "id": "0acbf95b-3e5c-4df6-a7dc-c3e4f82578af",
   "metadata": {},
   "outputs": [
    {
     "name": "stdout",
     "output_type": "stream",
     "text": [
      "-120.73\n"
     ]
    }
   ],
   "source": [
    "delta_open = df.head(1)[\"Open\"].iloc[0] - lastclose\n",
    "print(f\"{delta_open:+.2f}\")"
   ]
  },
  {
   "cell_type": "markdown",
   "id": "432d492c-6e58-46b6-8004-044d4419c02c",
   "metadata": {},
   "source": [
    "## ローソク足チャート（小さいサイズ）"
   ]
  },
  {
   "cell_type": "code",
   "execution_count": 66,
   "id": "f4d0b7d0-b14a-4bfd-949a-c03ee4a578a0",
   "metadata": {},
   "outputs": [
    {
     "data": {
      "image/png": "[encoded data removed]",
      "text/plain": [
       "<Figure size 300x200 with 1 Axes>"
      ]
     },
     "metadata": {},
     "output_type": "display_data"
    }
   ],
   "source": [
    "FONT_PATH = \"../fonts/RictyDiminished-Regular.ttf\"\n",
    "fm.fontManager.addfont(FONT_PATH)\n",
    "\n",
    "# FontPropertiesオブジェクト生成（名前の取得のため）\n",
    "font_prop = fm.FontProperties(fname=FONT_PATH)\n",
    "font_prop.get_name()\n",
    "\n",
    "plt.rcParams[\"font.family\"] = font_prop.get_name()\n",
    "plt.rcParams[\"font.size\"] = 9\n",
    "\n",
    "fig, ax = plt.subplots(figsize=(3, 2))\n",
    "mpf.plot(\n",
    "    df,\n",
    "    type=\"candle\",\n",
    "    style=\"default\",\n",
    "    datetime_format=\"%H:%M\",\n",
    "    xrotation=0,\n",
    "    update_width_config=dict(candle_linewidth=0.75),\n",
    "    ax=ax,\n",
    ")\n",
    "ax.axhline(y=lastclose, color=\"red\", linewidth=0.75)\n",
    "ax.set_ylabel(None)\n",
    "ax.grid()\n",
    "\n",
    "if \"shortName\" in ticker.info:\n",
    "    ax.set_title(f\"{ticker.info['shortName']} ({symbol})\")\n",
    "elif \"longName\" in ticker.info:\n",
    "    ax.set_title(f\"{ticker.info['longName']} ({symbol})\")\n",
    "else:\n",
    "    ax.set_title(f\"{symbol}\")\n",
    "\n",
    "plt.tight_layout()\n",
    "plt.savefig(get_name_15min_chart(code, dt_first))\n",
    "plt.show()"
   ]
  },
  {
   "cell_type": "code",
   "execution_count": null,
   "id": "f18e1ab8-e1be-4684-a805-0584f61e0488",
   "metadata": {},
   "outputs": [],
   "source": []
  }
 ],
 "metadata": {
  "kernelspec": {
   "display_name": "Python 3 (ipykernel)",
   "language": "python",
   "name": "python3"
  },
  "language_info": {
   "codemirror_mode": {
    "name": "ipython",
    "version": 3
   },
   "file_extension": ".py",
   "mimetype": "text/x-python",
   "name": "python",
   "nbconvert_exporter": "python",
   "pygments_lexer": "ipython3",
   "version": "3.13.7"
  }
 },
 "nbformat": 4,
 "nbformat_minor": 5
}
