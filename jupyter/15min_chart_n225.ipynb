{
 "cells": [
  {
   "cell_type": "markdown",
   "id": "07ceea52-6536-47e0-81aa-30c017b5bfc5",
   "metadata": {},
   "source": [
    "# 日経平均株価 15分足"
   ]
  },
  {
   "cell_type": "markdown",
   "id": "8a363236-5477-4a61-99da-bf92362631f4",
   "metadata": {},
   "source": [
    "### 一つ上のディレクトリをパスに追加"
   ]
  },
  {
   "cell_type": "code",
   "execution_count": 121,
   "id": "f1f6d8b7-4107-4a29-ae60-f3cbfa1f5a38",
   "metadata": {},
   "outputs": [],
   "source": [
    "import sys\n",
    "\n",
    "path_up = \"..\"\n",
    "if not path_up in sys.path:\n",
    "    sys.path.append(path_up)"
   ]
  },
  {
   "cell_type": "markdown",
   "id": "19d64844-3cbf-4a92-827e-43c425e34eb6",
   "metadata": {},
   "source": [
    "### ライブラリをここで一括インポート"
   ]
  },
  {
   "cell_type": "code",
   "execution_count": 122,
   "id": "3421a3f8-52ac-41e8-8e08-921ddaa4b37a",
   "metadata": {},
   "outputs": [],
   "source": [
    "import datetime\n",
    "\n",
    "import matplotlib.font_manager as fm\n",
    "import matplotlib.pyplot as plt\n",
    "import mplfinance as mpf\n",
    "import numpy as np\n",
    "import pandas as pd\n",
    "import yfinance as yf\n",
    "\n",
    "from funcs.common import get_name_15min_chart, get_name_15min_chart_now"
   ]
  },
  {
   "cell_type": "markdown",
   "id": "8efa7b4f-c5a5-45df-bcbc-c689517b5fb2",
   "metadata": {},
   "source": [
    "## yfinance による株価データの取得"
   ]
  },
  {
   "cell_type": "code",
   "execution_count": 123,
   "id": "513d138a-5223-48b6-868d-a4e49a86c6b6",
   "metadata": {},
   "outputs": [
    {
     "data": {
      "text/html": [
       "<div>\n",
       "<style scoped>\n",
       "    .dataframe tbody tr th:only-of-type {\n",
       "        vertical-align: middle;\n",
       "    }\n",
       "\n",
       "    .dataframe tbody tr th {\n",
       "        vertical-align: top;\n",
       "    }\n",
       "\n",
       "    .dataframe thead th {\n",
       "        text-align: right;\n",
       "    }\n",
       "</style>\n",
       "<table border=\"1\" class=\"dataframe\">\n",
       "  <thead>\n",
       "    <tr style=\"text-align: right;\">\n",
       "      <th></th>\n",
       "      <th>Open</th>\n",
       "      <th>High</th>\n",
       "      <th>Low</th>\n",
       "      <th>Close</th>\n",
       "      <th>Volume</th>\n",
       "      <th>Dividends</th>\n",
       "      <th>Stock Splits</th>\n",
       "    </tr>\n",
       "    <tr>\n",
       "      <th>Datetime</th>\n",
       "      <th></th>\n",
       "      <th></th>\n",
       "      <th></th>\n",
       "      <th></th>\n",
       "      <th></th>\n",
       "      <th></th>\n",
       "      <th></th>\n",
       "    </tr>\n",
       "  </thead>\n",
       "  <tbody>\n",
       "    <tr>\n",
       "      <th>2025-08-15 09:00:00+09:00</th>\n",
       "      <td>42866.378906</td>\n",
       "      <td>42972.359375</td>\n",
       "      <td>42826.089844</td>\n",
       "      <td>42934.949219</td>\n",
       "      <td>0</td>\n",
       "      <td>0.0</td>\n",
       "      <td>0.0</td>\n",
       "    </tr>\n",
       "    <tr>\n",
       "      <th>2025-08-15 09:15:00+09:00</th>\n",
       "      <td>42933.421875</td>\n",
       "      <td>42937.960938</td>\n",
       "      <td>42736.859375</td>\n",
       "      <td>42791.160156</td>\n",
       "      <td>0</td>\n",
       "      <td>0.0</td>\n",
       "      <td>0.0</td>\n",
       "    </tr>\n",
       "    <tr>\n",
       "      <th>2025-08-15 09:30:00+09:00</th>\n",
       "      <td>42811.199219</td>\n",
       "      <td>42943.238281</td>\n",
       "      <td>42804.800781</td>\n",
       "      <td>42943.238281</td>\n",
       "      <td>0</td>\n",
       "      <td>0.0</td>\n",
       "      <td>0.0</td>\n",
       "    </tr>\n",
       "    <tr>\n",
       "      <th>2025-08-15 09:45:00+09:00</th>\n",
       "      <td>42942.039062</td>\n",
       "      <td>42967.730469</td>\n",
       "      <td>42873.148438</td>\n",
       "      <td>42894.378906</td>\n",
       "      <td>0</td>\n",
       "      <td>0.0</td>\n",
       "      <td>0.0</td>\n",
       "    </tr>\n",
       "    <tr>\n",
       "      <th>2025-08-15 10:00:00+09:00</th>\n",
       "      <td>42891.851562</td>\n",
       "      <td>42918.261719</td>\n",
       "      <td>42827.890625</td>\n",
       "      <td>42885.398438</td>\n",
       "      <td>0</td>\n",
       "      <td>0.0</td>\n",
       "      <td>0.0</td>\n",
       "    </tr>\n",
       "    <tr>\n",
       "      <th>2025-08-15 10:15:00+09:00</th>\n",
       "      <td>42884.261719</td>\n",
       "      <td>42901.148438</td>\n",
       "      <td>42828.199219</td>\n",
       "      <td>42901.148438</td>\n",
       "      <td>0</td>\n",
       "      <td>0.0</td>\n",
       "      <td>0.0</td>\n",
       "    </tr>\n",
       "    <tr>\n",
       "      <th>2025-08-15 10:30:00+09:00</th>\n",
       "      <td>42900.511719</td>\n",
       "      <td>42967.351562</td>\n",
       "      <td>42875.421875</td>\n",
       "      <td>42965.800781</td>\n",
       "      <td>0</td>\n",
       "      <td>0.0</td>\n",
       "      <td>0.0</td>\n",
       "    </tr>\n",
       "    <tr>\n",
       "      <th>2025-08-15 10:45:00+09:00</th>\n",
       "      <td>42963.531250</td>\n",
       "      <td>42964.261719</td>\n",
       "      <td>42896.191406</td>\n",
       "      <td>42946.410156</td>\n",
       "      <td>0</td>\n",
       "      <td>0.0</td>\n",
       "      <td>0.0</td>\n",
       "    </tr>\n",
       "    <tr>\n",
       "      <th>2025-08-15 11:00:00+09:00</th>\n",
       "      <td>42947.558594</td>\n",
       "      <td>43012.871094</td>\n",
       "      <td>42947.078125</td>\n",
       "      <td>42985.539062</td>\n",
       "      <td>0</td>\n",
       "      <td>0.0</td>\n",
       "      <td>0.0</td>\n",
       "    </tr>\n",
       "    <tr>\n",
       "      <th>2025-08-15 11:15:00+09:00</th>\n",
       "      <td>42982.929688</td>\n",
       "      <td>43042.921875</td>\n",
       "      <td>42957.089844</td>\n",
       "      <td>43042.921875</td>\n",
       "      <td>0</td>\n",
       "      <td>0.0</td>\n",
       "      <td>0.0</td>\n",
       "    </tr>\n",
       "    <tr>\n",
       "      <th>2025-08-15 11:30:00+09:00</th>\n",
       "      <td>43046.550781</td>\n",
       "      <td>43046.550781</td>\n",
       "      <td>43036.460938</td>\n",
       "      <td>43036.460938</td>\n",
       "      <td>0</td>\n",
       "      <td>0.0</td>\n",
       "      <td>0.0</td>\n",
       "    </tr>\n",
       "  </tbody>\n",
       "</table>\n",
       "</div>"
      ],
      "text/plain": [
       "                                   Open          High           Low  \\\n",
       "Datetime                                                              \n",
       "2025-08-15 09:00:00+09:00  42866.378906  42972.359375  42826.089844   \n",
       "2025-08-15 09:15:00+09:00  42933.421875  42937.960938  42736.859375   \n",
       "2025-08-15 09:30:00+09:00  42811.199219  42943.238281  42804.800781   \n",
       "2025-08-15 09:45:00+09:00  42942.039062  42967.730469  42873.148438   \n",
       "2025-08-15 10:00:00+09:00  42891.851562  42918.261719  42827.890625   \n",
       "2025-08-15 10:15:00+09:00  42884.261719  42901.148438  42828.199219   \n",
       "2025-08-15 10:30:00+09:00  42900.511719  42967.351562  42875.421875   \n",
       "2025-08-15 10:45:00+09:00  42963.531250  42964.261719  42896.191406   \n",
       "2025-08-15 11:00:00+09:00  42947.558594  43012.871094  42947.078125   \n",
       "2025-08-15 11:15:00+09:00  42982.929688  43042.921875  42957.089844   \n",
       "2025-08-15 11:30:00+09:00  43046.550781  43046.550781  43036.460938   \n",
       "\n",
       "                                  Close  Volume  Dividends  Stock Splits  \n",
       "Datetime                                                                  \n",
       "2025-08-15 09:00:00+09:00  42934.949219       0        0.0           0.0  \n",
       "2025-08-15 09:15:00+09:00  42791.160156       0        0.0           0.0  \n",
       "2025-08-15 09:30:00+09:00  42943.238281       0        0.0           0.0  \n",
       "2025-08-15 09:45:00+09:00  42894.378906       0        0.0           0.0  \n",
       "2025-08-15 10:00:00+09:00  42885.398438       0        0.0           0.0  \n",
       "2025-08-15 10:15:00+09:00  42901.148438       0        0.0           0.0  \n",
       "2025-08-15 10:30:00+09:00  42965.800781       0        0.0           0.0  \n",
       "2025-08-15 10:45:00+09:00  42946.410156       0        0.0           0.0  \n",
       "2025-08-15 11:00:00+09:00  42985.539062       0        0.0           0.0  \n",
       "2025-08-15 11:15:00+09:00  43042.921875       0        0.0           0.0  \n",
       "2025-08-15 11:30:00+09:00  43036.460938       0        0.0           0.0  "
      ]
     },
     "execution_count": 123,
     "metadata": {},
     "output_type": "execute_result"
    }
   ],
   "source": [
    "code = \"N225\"\n",
    "symbol = f\"^{code}\"\n",
    "ticker = yf.Ticker(symbol)\n",
    "df = ticker.history(period=\"1d\", interval=\"15m\")\n",
    "df"
   ]
  },
  {
   "cell_type": "markdown",
   "id": "2b974883-632b-43cf-8f1b-9f3e4cededdd",
   "metadata": {},
   "source": [
    "## 前日終値の取得"
   ]
  },
  {
   "cell_type": "code",
   "execution_count": 124,
   "id": "cf79a23f-ac87-47e6-bd34-0746a65c86f9",
   "metadata": {},
   "outputs": [
    {
     "name": "stdout",
     "output_type": "stream",
     "text": [
      "Date\n",
      "2025-08-08 00:00:00+09:00    41820.480469\n",
      "2025-08-12 00:00:00+09:00    42718.171875\n",
      "2025-08-13 00:00:00+09:00    43274.671875\n",
      "2025-08-14 00:00:00+09:00    42649.261719\n",
      "2025-08-15 00:00:00+09:00    43036.460938\n",
      "Name: Close, dtype: float64\n"
     ]
    },
    {
     "data": {
      "text/plain": [
       "Date\n",
       "2025-08-14 00:00:00+09:00    42649.261719\n",
       "Name: Close, dtype: float64"
      ]
     },
     "execution_count": 124,
     "metadata": {},
     "output_type": "execute_result"
    }
   ],
   "source": [
    "# 過去一週間のデータを取得\n",
    "td = datetime.timedelta(days=7)\n",
    "dt_first = df.index[0]\n",
    "dt_prev = dt_first - td\n",
    "df_last = ticker.history(interval=\"1d\", start=str(dt_prev.date()))\n",
    "print(df_last[\"Close\"])\n",
    "n = len(df_last)\n",
    "lastclose = df_last[n - 2 : n - 1][\"Close\"].iloc[0]\n",
    "# 確認のため出力\n",
    "df_last[n - 2 : n - 1][\"Close\"]"
   ]
  },
  {
   "cell_type": "markdown",
   "id": "432d492c-6e58-46b6-8004-044d4419c02c",
   "metadata": {},
   "source": [
    "## ローソク足チャート（小さいサイズ）"
   ]
  },
  {
   "cell_type": "code",
   "execution_count": 125,
   "id": "f4d0b7d0-b14a-4bfd-949a-c03ee4a578a0",
   "metadata": {},
   "outputs": [
    {
     "data": {
      "image/png": "[encoded data removed]",
      "text/plain": [
       "<Figure size 300x200 with 1 Axes>"
      ]
     },
     "metadata": {},
     "output_type": "display_data"
    }
   ],
   "source": [
    "FONT_PATH = \"../fonts/RictyDiminished-Regular.ttf\"\n",
    "fm.fontManager.addfont(FONT_PATH)\n",
    "\n",
    "# FontPropertiesオブジェクト生成（名前の取得のため）\n",
    "font_prop = fm.FontProperties(fname=FONT_PATH)\n",
    "font_prop.get_name()\n",
    "\n",
    "plt.rcParams[\"font.family\"] = font_prop.get_name()\n",
    "plt.rcParams[\"font.size\"] = 9\n",
    "\n",
    "fig, ax = plt.subplots(figsize=(3, 2))\n",
    "mpf.plot(\n",
    "    df,\n",
    "    type=\"candle\",\n",
    "    style=\"default\",\n",
    "    datetime_format=\"%H:%M\",\n",
    "    xrotation=0,\n",
    "    update_width_config=dict(candle_linewidth=0.75),\n",
    "    ax=ax,\n",
    ")\n",
    "ax.axhline(y=lastclose, color=\"red\", linewidth=0.75)\n",
    "ax.set_ylabel(None)\n",
    "ax.grid()\n",
    "\n",
    "if \"shortName\" in ticker.info:\n",
    "    ax.set_title(f\"{ticker.info['shortName']} ({symbol})\")\n",
    "elif \"longName\" in ticker.info:\n",
    "    ax.set_title(f\"{ticker.info['longName']} ({symbol})\")\n",
    "else:\n",
    "    ax.set_title(f\"{symbol}\")\n",
    "\n",
    "plt.tight_layout()\n",
    "plt.savefig(get_name_15min_chart(code, dt_first))\n",
    "plt.show()"
   ]
  },
  {
   "cell_type": "code",
   "execution_count": null,
   "id": "f18e1ab8-e1be-4684-a805-0584f61e0488",
   "metadata": {},
   "outputs": [],
   "source": []
  }
 ],
 "metadata": {
  "kernelspec": {
   "display_name": "Python 3 (ipykernel)",
   "language": "python",
   "name": "python3"
  },
  "language_info": {
   "codemirror_mode": {
    "name": "ipython",
    "version": 3
   },
   "file_extension": ".py",
   "mimetype": "text/x-python",
   "name": "python",
   "nbconvert_exporter": "python",
   "pygments_lexer": "ipython3",
   "version": "3.13.5"
  }
 },
 "nbformat": 4,
 "nbformat_minor": 5
}
