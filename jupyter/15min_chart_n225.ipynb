{
 "cells": [
  {
   "cell_type": "markdown",
   "id": "07ceea52-6536-47e0-81aa-30c017b5bfc5",
   "metadata": {},
   "source": [
    "# 日経平均株価 15分足"
   ]
  },
  {
   "cell_type": "markdown",
   "id": "8a363236-5477-4a61-99da-bf92362631f4",
   "metadata": {},
   "source": [
    "### 一つ上のディレクトリをパスに追加"
   ]
  },
  {
   "cell_type": "code",
   "execution_count": 121,
   "id": "f1f6d8b7-4107-4a29-ae60-f3cbfa1f5a38",
   "metadata": {},
   "outputs": [],
   "source": [
    "import sys\n",
    "\n",
    "path_up = \"..\"\n",
    "if not path_up in sys.path:\n",
    "    sys.path.append(path_up)"
   ]
  },
  {
   "cell_type": "markdown",
   "id": "19d64844-3cbf-4a92-827e-43c425e34eb6",
   "metadata": {},
   "source": [
    "### ライブラリをここで一括インポート"
   ]
  },
  {
   "cell_type": "code",
   "execution_count": 122,
   "id": "3421a3f8-52ac-41e8-8e08-921ddaa4b37a",
   "metadata": {},
   "outputs": [],
   "source": [
    "import datetime\n",
    "\n",
    "import matplotlib.font_manager as fm\n",
    "import matplotlib.pyplot as plt\n",
    "import mplfinance as mpf\n",
    "import numpy as np\n",
    "import pandas as pd\n",
    "import yfinance as yf\n",
    "\n",
    "from funcs.common import get_name_15min_chart, get_name_15min_chart_now"
   ]
  },
  {
   "cell_type": "markdown",
   "id": "8efa7b4f-c5a5-45df-bcbc-c689517b5fb2",
   "metadata": {},
   "source": [
    "## yfinance による株価データの取得"
   ]
  },
  {
   "cell_type": "code",
   "execution_count": 123,
   "id": "513d138a-5223-48b6-868d-a4e49a86c6b6",
   "metadata": {},
   "outputs": [
    {
     "data": {
      "text/html": [
       "<div>\n",
       "<style scoped>\n",
       "    .dataframe tbody tr th:only-of-type {\n",
       "        vertical-align: middle;\n",
       "    }\n",
       "\n",
       "    .dataframe tbody tr th {\n",
       "        vertical-align: top;\n",
       "    }\n",
       "\n",
       "    .dataframe thead th {\n",
       "        text-align: right;\n",
       "    }\n",
       "</style>\n",
       "<table border=\"1\" class=\"dataframe\">\n",
       "  <thead>\n",
       "    <tr style=\"text-align: right;\">\n",
       "      <th></th>\n",
       "      <th>Open</th>\n",
       "      <th>High</th>\n",
       "      <th>Low</th>\n",
       "      <th>Close</th>\n",
       "      <th>Volume</th>\n",
       "      <th>Dividends</th>\n",
       "      <th>Stock Splits</th>\n",
       "    </tr>\n",
       "    <tr>\n",
       "      <th>Datetime</th>\n",
       "      <th></th>\n",
       "      <th></th>\n",
       "      <th></th>\n",
       "      <th></th>\n",
       "      <th></th>\n",
       "      <th></th>\n",
       "      <th></th>\n",
       "    </tr>\n",
       "  </thead>\n",
       "  <tbody>\n",
       "    <tr>\n",
       "      <th>2025-09-03 09:00:00+09:00</th>\n",
       "      <td>42085.660156</td>\n",
       "      <td>42192.511719</td>\n",
       "      <td>42036.988281</td>\n",
       "      <td>42112.031250</td>\n",
       "      <td>0</td>\n",
       "      <td>0.0</td>\n",
       "      <td>0.0</td>\n",
       "    </tr>\n",
       "    <tr>\n",
       "      <th>2025-09-03 09:15:00+09:00</th>\n",
       "      <td>42113.171875</td>\n",
       "      <td>42209.828125</td>\n",
       "      <td>42095.988281</td>\n",
       "      <td>42209.828125</td>\n",
       "      <td>0</td>\n",
       "      <td>0.0</td>\n",
       "      <td>0.0</td>\n",
       "    </tr>\n",
       "    <tr>\n",
       "      <th>2025-09-03 09:30:00+09:00</th>\n",
       "      <td>42210.281250</td>\n",
       "      <td>42247.550781</td>\n",
       "      <td>42170.781250</td>\n",
       "      <td>42206.800781</td>\n",
       "      <td>0</td>\n",
       "      <td>0.0</td>\n",
       "      <td>0.0</td>\n",
       "    </tr>\n",
       "    <tr>\n",
       "      <th>2025-09-03 09:45:00+09:00</th>\n",
       "      <td>42206.828125</td>\n",
       "      <td>42230.808594</td>\n",
       "      <td>42157.761719</td>\n",
       "      <td>42220.960938</td>\n",
       "      <td>0</td>\n",
       "      <td>0.0</td>\n",
       "      <td>0.0</td>\n",
       "    </tr>\n",
       "    <tr>\n",
       "      <th>2025-09-03 10:00:00+09:00</th>\n",
       "      <td>42222.871094</td>\n",
       "      <td>42253.089844</td>\n",
       "      <td>42170.148438</td>\n",
       "      <td>42229.218750</td>\n",
       "      <td>0</td>\n",
       "      <td>0.0</td>\n",
       "      <td>0.0</td>\n",
       "    </tr>\n",
       "    <tr>\n",
       "      <th>2025-09-03 10:15:00+09:00</th>\n",
       "      <td>42223.808594</td>\n",
       "      <td>42231.550781</td>\n",
       "      <td>42161.910156</td>\n",
       "      <td>42184.171875</td>\n",
       "      <td>0</td>\n",
       "      <td>0.0</td>\n",
       "      <td>0.0</td>\n",
       "    </tr>\n",
       "    <tr>\n",
       "      <th>2025-09-03 10:30:00+09:00</th>\n",
       "      <td>42183.691406</td>\n",
       "      <td>42202.109375</td>\n",
       "      <td>42093.601562</td>\n",
       "      <td>42170.718750</td>\n",
       "      <td>0</td>\n",
       "      <td>0.0</td>\n",
       "      <td>0.0</td>\n",
       "    </tr>\n",
       "    <tr>\n",
       "      <th>2025-09-03 10:45:00+09:00</th>\n",
       "      <td>42170.960938</td>\n",
       "      <td>42293.539062</td>\n",
       "      <td>42163.828125</td>\n",
       "      <td>42270.250000</td>\n",
       "      <td>0</td>\n",
       "      <td>0.0</td>\n",
       "      <td>0.0</td>\n",
       "    </tr>\n",
       "    <tr>\n",
       "      <th>2025-09-03 11:00:00+09:00</th>\n",
       "      <td>42273.121094</td>\n",
       "      <td>42288.250000</td>\n",
       "      <td>42199.128906</td>\n",
       "      <td>42228.609375</td>\n",
       "      <td>0</td>\n",
       "      <td>0.0</td>\n",
       "      <td>0.0</td>\n",
       "    </tr>\n",
       "    <tr>\n",
       "      <th>2025-09-03 11:15:00+09:00</th>\n",
       "      <td>42231.039062</td>\n",
       "      <td>42231.039062</td>\n",
       "      <td>42179.898438</td>\n",
       "      <td>42189.230469</td>\n",
       "      <td>0</td>\n",
       "      <td>0.0</td>\n",
       "      <td>0.0</td>\n",
       "    </tr>\n",
       "    <tr>\n",
       "      <th>2025-09-03 11:30:00+09:00</th>\n",
       "      <td>42188.230469</td>\n",
       "      <td>42188.230469</td>\n",
       "      <td>42186.589844</td>\n",
       "      <td>42186.589844</td>\n",
       "      <td>0</td>\n",
       "      <td>0.0</td>\n",
       "      <td>0.0</td>\n",
       "    </tr>\n",
       "    <tr>\n",
       "      <th>2025-09-03 12:30:00+09:00</th>\n",
       "      <td>42142.269531</td>\n",
       "      <td>42175.960938</td>\n",
       "      <td>42010.031250</td>\n",
       "      <td>42074.050781</td>\n",
       "      <td>0</td>\n",
       "      <td>0.0</td>\n",
       "      <td>0.0</td>\n",
       "    </tr>\n",
       "    <tr>\n",
       "      <th>2025-09-03 12:45:00+09:00</th>\n",
       "      <td>42076.769531</td>\n",
       "      <td>42096.390625</td>\n",
       "      <td>41992.128906</td>\n",
       "      <td>42010.171875</td>\n",
       "      <td>0</td>\n",
       "      <td>0.0</td>\n",
       "      <td>0.0</td>\n",
       "    </tr>\n",
       "    <tr>\n",
       "      <th>2025-09-03 13:00:00+09:00</th>\n",
       "      <td>42008.921875</td>\n",
       "      <td>42074.589844</td>\n",
       "      <td>41995.300781</td>\n",
       "      <td>42020.679688</td>\n",
       "      <td>0</td>\n",
       "      <td>0.0</td>\n",
       "      <td>0.0</td>\n",
       "    </tr>\n",
       "    <tr>\n",
       "      <th>2025-09-03 13:15:00+09:00</th>\n",
       "      <td>42007.859375</td>\n",
       "      <td>42011.839844</td>\n",
       "      <td>42004.289062</td>\n",
       "      <td>42011.839844</td>\n",
       "      <td>0</td>\n",
       "      <td>0.0</td>\n",
       "      <td>0.0</td>\n",
       "    </tr>\n",
       "  </tbody>\n",
       "</table>\n",
       "</div>"
      ],
      "text/plain": [
       "                                   Open          High           Low  \\\n",
       "Datetime                                                              \n",
       "2025-09-03 09:00:00+09:00  42085.660156  42192.511719  42036.988281   \n",
       "2025-09-03 09:15:00+09:00  42113.171875  42209.828125  42095.988281   \n",
       "2025-09-03 09:30:00+09:00  42210.281250  42247.550781  42170.781250   \n",
       "2025-09-03 09:45:00+09:00  42206.828125  42230.808594  42157.761719   \n",
       "2025-09-03 10:00:00+09:00  42222.871094  42253.089844  42170.148438   \n",
       "2025-09-03 10:15:00+09:00  42223.808594  42231.550781  42161.910156   \n",
       "2025-09-03 10:30:00+09:00  42183.691406  42202.109375  42093.601562   \n",
       "2025-09-03 10:45:00+09:00  42170.960938  42293.539062  42163.828125   \n",
       "2025-09-03 11:00:00+09:00  42273.121094  42288.250000  42199.128906   \n",
       "2025-09-03 11:15:00+09:00  42231.039062  42231.039062  42179.898438   \n",
       "2025-09-03 11:30:00+09:00  42188.230469  42188.230469  42186.589844   \n",
       "2025-09-03 12:30:00+09:00  42142.269531  42175.960938  42010.031250   \n",
       "2025-09-03 12:45:00+09:00  42076.769531  42096.390625  41992.128906   \n",
       "2025-09-03 13:00:00+09:00  42008.921875  42074.589844  41995.300781   \n",
       "2025-09-03 13:15:00+09:00  42007.859375  42011.839844  42004.289062   \n",
       "\n",
       "                                  Close  Volume  Dividends  Stock Splits  \n",
       "Datetime                                                                  \n",
       "2025-09-03 09:00:00+09:00  42112.031250       0        0.0           0.0  \n",
       "2025-09-03 09:15:00+09:00  42209.828125       0        0.0           0.0  \n",
       "2025-09-03 09:30:00+09:00  42206.800781       0        0.0           0.0  \n",
       "2025-09-03 09:45:00+09:00  42220.960938       0        0.0           0.0  \n",
       "2025-09-03 10:00:00+09:00  42229.218750       0        0.0           0.0  \n",
       "2025-09-03 10:15:00+09:00  42184.171875       0        0.0           0.0  \n",
       "2025-09-03 10:30:00+09:00  42170.718750       0        0.0           0.0  \n",
       "2025-09-03 10:45:00+09:00  42270.250000       0        0.0           0.0  \n",
       "2025-09-03 11:00:00+09:00  42228.609375       0        0.0           0.0  \n",
       "2025-09-03 11:15:00+09:00  42189.230469       0        0.0           0.0  \n",
       "2025-09-03 11:30:00+09:00  42186.589844       0        0.0           0.0  \n",
       "2025-09-03 12:30:00+09:00  42074.050781       0        0.0           0.0  \n",
       "2025-09-03 12:45:00+09:00  42010.171875       0        0.0           0.0  \n",
       "2025-09-03 13:00:00+09:00  42020.679688       0        0.0           0.0  \n",
       "2025-09-03 13:15:00+09:00  42011.839844       0        0.0           0.0  "
      ]
     },
     "execution_count": 123,
     "metadata": {},
     "output_type": "execute_result"
    }
   ],
   "source": [
    "code = \"N225\"\n",
    "symbol = f\"^{code}\"\n",
    "ticker = yf.Ticker(symbol)\n",
    "df = ticker.history(period=\"1d\", interval=\"15m\")\n",
    "df"
   ]
  },
  {
   "cell_type": "markdown",
   "id": "2b974883-632b-43cf-8f1b-9f3e4cededdd",
   "metadata": {},
   "source": [
    "## 前日終値の取得"
   ]
  },
  {
   "cell_type": "code",
   "execution_count": 124,
   "id": "cf79a23f-ac87-47e6-bd34-0746a65c86f9",
   "metadata": {},
   "outputs": [
    {
     "name": "stdout",
     "output_type": "stream",
     "text": [
      "Date\n",
      "2025-08-27 00:00:00+09:00    42520.269531\n",
      "2025-08-28 00:00:00+09:00    42828.789062\n",
      "2025-08-29 00:00:00+09:00    42718.468750\n",
      "2025-09-01 00:00:00+09:00    42188.789062\n",
      "2025-09-02 00:00:00+09:00    42310.488281\n",
      "2025-09-03 00:00:00+09:00    42011.839844\n",
      "Name: Close, dtype: float64\n"
     ]
    },
    {
     "data": {
      "text/plain": [
       "Date\n",
       "2025-09-02 00:00:00+09:00    42310.488281\n",
       "Name: Close, dtype: float64"
      ]
     },
     "execution_count": 124,
     "metadata": {},
     "output_type": "execute_result"
    }
   ],
   "source": [
    "# 過去一週間のデータを取得\n",
    "td = datetime.timedelta(days=7)\n",
    "dt_first = df.index[0]\n",
    "dt_prev = dt_first - td\n",
    "df_last = ticker.history(interval=\"1d\", start=str(dt_prev.date()))\n",
    "print(df_last[\"Close\"])\n",
    "n = len(df_last)\n",
    "lastclose = df_last[n - 2 : n - 1][\"Close\"].iloc[0]\n",
    "# 確認のため出力\n",
    "df_last[n - 2 : n - 1][\"Close\"]"
   ]
  },
  {
   "cell_type": "markdown",
   "id": "e41961ad-e3e5-4055-a368-6295b0c73219",
   "metadata": {},
   "source": [
    "### 当日始値 - 前日終値"
   ]
  },
  {
   "cell_type": "code",
   "execution_count": 125,
   "id": "0acbf95b-3e5c-4df6-a7dc-c3e4f82578af",
   "metadata": {},
   "outputs": [
    {
     "name": "stdout",
     "output_type": "stream",
     "text": [
      "-224.83\n"
     ]
    }
   ],
   "source": [
    "delta_open = df.head(1)[\"Open\"].iloc[0] - lastclose\n",
    "print(f\"{delta_open:+.2f}\")"
   ]
  },
  {
   "cell_type": "markdown",
   "id": "432d492c-6e58-46b6-8004-044d4419c02c",
   "metadata": {},
   "source": [
    "## ローソク足チャート（小さいサイズ）"
   ]
  },
  {
   "cell_type": "code",
   "execution_count": 126,
   "id": "f4d0b7d0-b14a-4bfd-949a-c03ee4a578a0",
   "metadata": {},
   "outputs": [
    {
     "data": {
      "image/png": "[encoded data removed]",
      "text/plain": [
       "<Figure size 300x200 with 1 Axes>"
      ]
     },
     "metadata": {},
     "output_type": "display_data"
    }
   ],
   "source": [
    "FONT_PATH = \"../fonts/RictyDiminished-Regular.ttf\"\n",
    "fm.fontManager.addfont(FONT_PATH)\n",
    "\n",
    "# FontPropertiesオブジェクト生成（名前の取得のため）\n",
    "font_prop = fm.FontProperties(fname=FONT_PATH)\n",
    "font_prop.get_name()\n",
    "\n",
    "plt.rcParams[\"font.family\"] = font_prop.get_name()\n",
    "plt.rcParams[\"font.size\"] = 9\n",
    "\n",
    "fig, ax = plt.subplots(figsize=(3, 2))\n",
    "mpf.plot(\n",
    "    df,\n",
    "    type=\"candle\",\n",
    "    style=\"default\",\n",
    "    datetime_format=\"%H:%M\",\n",
    "    xrotation=0,\n",
    "    update_width_config=dict(candle_linewidth=0.75),\n",
    "    ax=ax,\n",
    ")\n",
    "ax.axhline(y=lastclose, color=\"red\", linewidth=0.75)\n",
    "ax.set_ylabel(None)\n",
    "ax.grid()\n",
    "\n",
    "if \"shortName\" in ticker.info:\n",
    "    ax.set_title(f\"{ticker.info['shortName']} ({symbol})\")\n",
    "elif \"longName\" in ticker.info:\n",
    "    ax.set_title(f\"{ticker.info['longName']} ({symbol})\")\n",
    "else:\n",
    "    ax.set_title(f\"{symbol}\")\n",
    "\n",
    "plt.tight_layout()\n",
    "plt.savefig(get_name_15min_chart(code, dt_first))\n",
    "plt.show()"
   ]
  },
  {
   "cell_type": "code",
   "execution_count": null,
   "id": "f18e1ab8-e1be-4684-a805-0584f61e0488",
   "metadata": {},
   "outputs": [],
   "source": []
  }
 ],
 "metadata": {
  "kernelspec": {
   "display_name": "Python 3 (ipykernel)",
   "language": "python",
   "name": "python3"
  },
  "language_info": {
   "codemirror_mode": {
    "name": "ipython",
    "version": 3
   },
   "file_extension": ".py",
   "mimetype": "text/x-python",
   "name": "python",
   "nbconvert_exporter": "python",
   "pygments_lexer": "ipython3",
   "version": "3.13.7"
  }
 },
 "nbformat": 4,
 "nbformat_minor": 5
}
