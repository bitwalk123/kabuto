{
 "cells": [
  {
   "cell_type": "markdown",
   "id": "07ceea52-6536-47e0-81aa-30c017b5bfc5",
   "metadata": {},
   "source": [
    "# 日経平均株価 15分足"
   ]
  },
  {
   "cell_type": "markdown",
   "id": "8a363236-5477-4a61-99da-bf92362631f4",
   "metadata": {},
   "source": [
    "### 一つ上のディレクトリをパスに追加"
   ]
  },
  {
   "cell_type": "code",
   "execution_count": 69,
   "id": "f1f6d8b7-4107-4a29-ae60-f3cbfa1f5a38",
   "metadata": {},
   "outputs": [],
   "source": [
    "import sys\n",
    "\n",
    "path_up = \"..\"\n",
    "if not path_up in sys.path:\n",
    "    sys.path.append(path_up)"
   ]
  },
  {
   "cell_type": "markdown",
   "id": "19d64844-3cbf-4a92-827e-43c425e34eb6",
   "metadata": {},
   "source": [
    "### ライブラリをここで一括インポート"
   ]
  },
  {
   "cell_type": "code",
   "execution_count": 70,
   "id": "3421a3f8-52ac-41e8-8e08-921ddaa4b37a",
   "metadata": {},
   "outputs": [],
   "source": [
    "import datetime\n",
    "\n",
    "import matplotlib.font_manager as fm\n",
    "import matplotlib.pyplot as plt\n",
    "import mplfinance as mpf\n",
    "import numpy as np\n",
    "import pandas as pd\n",
    "import yfinance as yf\n",
    "\n",
    "from funcs.common import get_name_15min_chart, get_name_15min_chart_now"
   ]
  },
  {
   "cell_type": "markdown",
   "id": "8efa7b4f-c5a5-45df-bcbc-c689517b5fb2",
   "metadata": {},
   "source": [
    "## yfinance による株価データの取得"
   ]
  },
  {
   "cell_type": "code",
   "execution_count": 71,
   "id": "513d138a-5223-48b6-868d-a4e49a86c6b6",
   "metadata": {},
   "outputs": [
    {
     "data": {
      "text/html": [
       "<div>\n",
       "<style scoped>\n",
       "    .dataframe tbody tr th:only-of-type {\n",
       "        vertical-align: middle;\n",
       "    }\n",
       "\n",
       "    .dataframe tbody tr th {\n",
       "        vertical-align: top;\n",
       "    }\n",
       "\n",
       "    .dataframe thead th {\n",
       "        text-align: right;\n",
       "    }\n",
       "</style>\n",
       "<table border=\"1\" class=\"dataframe\">\n",
       "  <thead>\n",
       "    <tr style=\"text-align: right;\">\n",
       "      <th></th>\n",
       "      <th>Open</th>\n",
       "      <th>High</th>\n",
       "      <th>Low</th>\n",
       "      <th>Close</th>\n",
       "      <th>Volume</th>\n",
       "      <th>Dividends</th>\n",
       "      <th>Stock Splits</th>\n",
       "    </tr>\n",
       "    <tr>\n",
       "      <th>Datetime</th>\n",
       "      <th></th>\n",
       "      <th></th>\n",
       "      <th></th>\n",
       "      <th></th>\n",
       "      <th></th>\n",
       "      <th></th>\n",
       "      <th></th>\n",
       "    </tr>\n",
       "  </thead>\n",
       "  <tbody>\n",
       "    <tr>\n",
       "      <th>2025-08-04 09:00:00+09:00</th>\n",
       "      <td>40118.808594</td>\n",
       "      <td>40138.078125</td>\n",
       "      <td>39850.519531</td>\n",
       "      <td>40056.339844</td>\n",
       "      <td>0</td>\n",
       "      <td>0.0</td>\n",
       "      <td>0.0</td>\n",
       "    </tr>\n",
       "    <tr>\n",
       "      <th>2025-08-04 09:15:00+09:00</th>\n",
       "      <td>40057.199219</td>\n",
       "      <td>40057.199219</td>\n",
       "      <td>39930.640625</td>\n",
       "      <td>39993.578125</td>\n",
       "      <td>0</td>\n",
       "      <td>0.0</td>\n",
       "      <td>0.0</td>\n",
       "    </tr>\n",
       "    <tr>\n",
       "      <th>2025-08-04 09:30:00+09:00</th>\n",
       "      <td>39993.250000</td>\n",
       "      <td>40008.050781</td>\n",
       "      <td>39896.800781</td>\n",
       "      <td>39912.640625</td>\n",
       "      <td>0</td>\n",
       "      <td>0.0</td>\n",
       "      <td>0.0</td>\n",
       "    </tr>\n",
       "    <tr>\n",
       "      <th>2025-08-04 09:45:00+09:00</th>\n",
       "      <td>39914.261719</td>\n",
       "      <td>39969.929688</td>\n",
       "      <td>39878.230469</td>\n",
       "      <td>39927.890625</td>\n",
       "      <td>0</td>\n",
       "      <td>0.0</td>\n",
       "      <td>0.0</td>\n",
       "    </tr>\n",
       "    <tr>\n",
       "      <th>2025-08-04 10:00:00+09:00</th>\n",
       "      <td>39942.351562</td>\n",
       "      <td>40009.308594</td>\n",
       "      <td>39885.519531</td>\n",
       "      <td>39948.699219</td>\n",
       "      <td>0</td>\n",
       "      <td>0.0</td>\n",
       "      <td>0.0</td>\n",
       "    </tr>\n",
       "    <tr>\n",
       "      <th>2025-08-04 10:15:00+09:00</th>\n",
       "      <td>39948.898438</td>\n",
       "      <td>40020.789062</td>\n",
       "      <td>39907.421875</td>\n",
       "      <td>39994.101562</td>\n",
       "      <td>0</td>\n",
       "      <td>0.0</td>\n",
       "      <td>0.0</td>\n",
       "    </tr>\n",
       "    <tr>\n",
       "      <th>2025-08-04 10:30:00+09:00</th>\n",
       "      <td>39994.191406</td>\n",
       "      <td>40099.078125</td>\n",
       "      <td>39994.191406</td>\n",
       "      <td>40075.859375</td>\n",
       "      <td>0</td>\n",
       "      <td>0.0</td>\n",
       "      <td>0.0</td>\n",
       "    </tr>\n",
       "    <tr>\n",
       "      <th>2025-08-04 10:45:00+09:00</th>\n",
       "      <td>40076.789062</td>\n",
       "      <td>40081.738281</td>\n",
       "      <td>40001.929688</td>\n",
       "      <td>40006.148438</td>\n",
       "      <td>0</td>\n",
       "      <td>0.0</td>\n",
       "      <td>0.0</td>\n",
       "    </tr>\n",
       "    <tr>\n",
       "      <th>2025-08-04 11:00:00+09:00</th>\n",
       "      <td>40014.269531</td>\n",
       "      <td>40098.640625</td>\n",
       "      <td>40007.769531</td>\n",
       "      <td>40085.281250</td>\n",
       "      <td>0</td>\n",
       "      <td>0.0</td>\n",
       "      <td>0.0</td>\n",
       "    </tr>\n",
       "    <tr>\n",
       "      <th>2025-08-04 11:15:00+09:00</th>\n",
       "      <td>40087.738281</td>\n",
       "      <td>40144.058594</td>\n",
       "      <td>40084.550781</td>\n",
       "      <td>40132.101562</td>\n",
       "      <td>0</td>\n",
       "      <td>0.0</td>\n",
       "      <td>0.0</td>\n",
       "    </tr>\n",
       "    <tr>\n",
       "      <th>2025-08-04 11:30:00+09:00</th>\n",
       "      <td>40129.730469</td>\n",
       "      <td>40134.968750</td>\n",
       "      <td>40129.730469</td>\n",
       "      <td>40134.968750</td>\n",
       "      <td>0</td>\n",
       "      <td>0.0</td>\n",
       "      <td>0.0</td>\n",
       "    </tr>\n",
       "    <tr>\n",
       "      <th>2025-08-04 12:30:00+09:00</th>\n",
       "      <td>40133.750000</td>\n",
       "      <td>40257.929688</td>\n",
       "      <td>40131.019531</td>\n",
       "      <td>40247.988281</td>\n",
       "      <td>0</td>\n",
       "      <td>0.0</td>\n",
       "      <td>0.0</td>\n",
       "    </tr>\n",
       "    <tr>\n",
       "      <th>2025-08-04 12:45:00+09:00</th>\n",
       "      <td>40250.269531</td>\n",
       "      <td>40297.949219</td>\n",
       "      <td>40234.191406</td>\n",
       "      <td>40294.339844</td>\n",
       "      <td>0</td>\n",
       "      <td>0.0</td>\n",
       "      <td>0.0</td>\n",
       "    </tr>\n",
       "  </tbody>\n",
       "</table>\n",
       "</div>"
      ],
      "text/plain": [
       "                                   Open          High           Low  \\\n",
       "Datetime                                                              \n",
       "2025-08-04 09:00:00+09:00  40118.808594  40138.078125  39850.519531   \n",
       "2025-08-04 09:15:00+09:00  40057.199219  40057.199219  39930.640625   \n",
       "2025-08-04 09:30:00+09:00  39993.250000  40008.050781  39896.800781   \n",
       "2025-08-04 09:45:00+09:00  39914.261719  39969.929688  39878.230469   \n",
       "2025-08-04 10:00:00+09:00  39942.351562  40009.308594  39885.519531   \n",
       "2025-08-04 10:15:00+09:00  39948.898438  40020.789062  39907.421875   \n",
       "2025-08-04 10:30:00+09:00  39994.191406  40099.078125  39994.191406   \n",
       "2025-08-04 10:45:00+09:00  40076.789062  40081.738281  40001.929688   \n",
       "2025-08-04 11:00:00+09:00  40014.269531  40098.640625  40007.769531   \n",
       "2025-08-04 11:15:00+09:00  40087.738281  40144.058594  40084.550781   \n",
       "2025-08-04 11:30:00+09:00  40129.730469  40134.968750  40129.730469   \n",
       "2025-08-04 12:30:00+09:00  40133.750000  40257.929688  40131.019531   \n",
       "2025-08-04 12:45:00+09:00  40250.269531  40297.949219  40234.191406   \n",
       "\n",
       "                                  Close  Volume  Dividends  Stock Splits  \n",
       "Datetime                                                                  \n",
       "2025-08-04 09:00:00+09:00  40056.339844       0        0.0           0.0  \n",
       "2025-08-04 09:15:00+09:00  39993.578125       0        0.0           0.0  \n",
       "2025-08-04 09:30:00+09:00  39912.640625       0        0.0           0.0  \n",
       "2025-08-04 09:45:00+09:00  39927.890625       0        0.0           0.0  \n",
       "2025-08-04 10:00:00+09:00  39948.699219       0        0.0           0.0  \n",
       "2025-08-04 10:15:00+09:00  39994.101562       0        0.0           0.0  \n",
       "2025-08-04 10:30:00+09:00  40075.859375       0        0.0           0.0  \n",
       "2025-08-04 10:45:00+09:00  40006.148438       0        0.0           0.0  \n",
       "2025-08-04 11:00:00+09:00  40085.281250       0        0.0           0.0  \n",
       "2025-08-04 11:15:00+09:00  40132.101562       0        0.0           0.0  \n",
       "2025-08-04 11:30:00+09:00  40134.968750       0        0.0           0.0  \n",
       "2025-08-04 12:30:00+09:00  40247.988281       0        0.0           0.0  \n",
       "2025-08-04 12:45:00+09:00  40294.339844       0        0.0           0.0  "
      ]
     },
     "execution_count": 71,
     "metadata": {},
     "output_type": "execute_result"
    }
   ],
   "source": [
    "code = \"N225\"\n",
    "symbol = f\"^{code}\"\n",
    "ticker = yf.Ticker(symbol)\n",
    "df = ticker.history(period=\"1d\", interval=\"15m\")\n",
    "df"
   ]
  },
  {
   "cell_type": "markdown",
   "id": "2b974883-632b-43cf-8f1b-9f3e4cededdd",
   "metadata": {},
   "source": [
    "## 前日終値の取得"
   ]
  },
  {
   "cell_type": "code",
   "execution_count": 72,
   "id": "cf79a23f-ac87-47e6-bd34-0746a65c86f9",
   "metadata": {},
   "outputs": [
    {
     "data": {
      "text/plain": [
       "Date\n",
       "2025-08-01 00:00:00+09:00    40799.601562\n",
       "Name: Close, dtype: float64"
      ]
     },
     "execution_count": 72,
     "metadata": {},
     "output_type": "execute_result"
    }
   ],
   "source": [
    "# 過去一週間のデータを取得\n",
    "td = datetime.timedelta(days=7)\n",
    "dt_first = df.index[0]\n",
    "dt_prev = dt_first - td\n",
    "df_last = ticker.history(period=\"1d\", interval=\"1d\", start=str(dt_prev.date()))\n",
    "n = len(df_last)\n",
    "lastclose = df_last[n - 2 : n - 1][\"Close\"].iloc[0]\n",
    "# 確認のため出力\n",
    "df_last[n - 2 : n - 1][\"Close\"]"
   ]
  },
  {
   "cell_type": "markdown",
   "id": "432d492c-6e58-46b6-8004-044d4419c02c",
   "metadata": {},
   "source": [
    "## ローソク足チャート（小さいサイズ）"
   ]
  },
  {
   "cell_type": "code",
   "execution_count": 73,
   "id": "f4d0b7d0-b14a-4bfd-949a-c03ee4a578a0",
   "metadata": {},
   "outputs": [
    {
     "data": {
      "image/png": "[encoded data removed]",
      "text/plain": [
       "<Figure size 300x200 with 1 Axes>"
      ]
     },
     "metadata": {},
     "output_type": "display_data"
    }
   ],
   "source": [
    "FONT_PATH = \"../fonts/RictyDiminished-Regular.ttf\"\n",
    "fm.fontManager.addfont(FONT_PATH)\n",
    "\n",
    "# FontPropertiesオブジェクト生成（名前の取得のため）\n",
    "font_prop = fm.FontProperties(fname=FONT_PATH)\n",
    "font_prop.get_name()\n",
    "\n",
    "plt.rcParams[\"font.family\"] = font_prop.get_name()\n",
    "plt.rcParams[\"font.size\"] = 9\n",
    "\n",
    "fig, ax = plt.subplots(figsize=(3, 2))\n",
    "mpf.plot(\n",
    "    df,\n",
    "    type=\"candle\",\n",
    "    style=\"default\",\n",
    "    datetime_format=\"%H:%M\",\n",
    "    xrotation=0,\n",
    "    update_width_config=dict(candle_linewidth=0.75),\n",
    "    ax=ax,\n",
    ")\n",
    "ax.axhline(y=lastclose, color=\"red\", linewidth=0.75)\n",
    "ax.set_ylabel(None)\n",
    "ax.grid()\n",
    "\n",
    "if \"shortName\" in ticker.info:\n",
    "    ax.set_title(f\"{ticker.info['shortName']} ({symbol})\")\n",
    "elif \"longName\" in ticker.info:\n",
    "    ax.set_title(f\"{ticker.info['longName']} ({symbol})\")\n",
    "else:\n",
    "    ax.set_title(f\"{symbol}\")\n",
    "\n",
    "plt.tight_layout()\n",
    "plt.savefig(get_name_15min_chart(code, dt_first))\n",
    "plt.show()"
   ]
  },
  {
   "cell_type": "code",
   "execution_count": null,
   "id": "f18e1ab8-e1be-4684-a805-0584f61e0488",
   "metadata": {},
   "outputs": [],
   "source": []
  }
 ],
 "metadata": {
  "kernelspec": {
   "display_name": "Python 3 (ipykernel)",
   "language": "python",
   "name": "python3"
  },
  "language_info": {
   "codemirror_mode": {
    "name": "ipython",
    "version": 3
   },
   "file_extension": ".py",
   "mimetype": "text/x-python",
   "name": "python",
   "nbconvert_exporter": "python",
   "pygments_lexer": "ipython3",
   "version": "3.13.5"
  }
 },
 "nbformat": 4,
 "nbformat_minor": 5
}
