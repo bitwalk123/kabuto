{
 "cells": [
  {
   "cell_type": "markdown",
   "id": "07ceea52-6536-47e0-81aa-30c017b5bfc5",
   "metadata": {},
   "source": [
    "# 日経平均株価 15分足"
   ]
  },
  {
   "cell_type": "markdown",
   "id": "8a363236-5477-4a61-99da-bf92362631f4",
   "metadata": {},
   "source": [
    "### 一つ上のディレクトリをパスに追加"
   ]
  },
  {
   "cell_type": "code",
   "execution_count": 49,
   "id": "f1f6d8b7-4107-4a29-ae60-f3cbfa1f5a38",
   "metadata": {},
   "outputs": [],
   "source": [
    "import sys\n",
    "\n",
    "path_up = \"..\"\n",
    "if not path_up in sys.path:\n",
    "    sys.path.append(path_up)"
   ]
  },
  {
   "cell_type": "markdown",
   "id": "19d64844-3cbf-4a92-827e-43c425e34eb6",
   "metadata": {},
   "source": [
    "### ライブラリをここで一括インポート"
   ]
  },
  {
   "cell_type": "code",
   "execution_count": 50,
   "id": "3421a3f8-52ac-41e8-8e08-921ddaa4b37a",
   "metadata": {},
   "outputs": [],
   "source": [
    "import datetime\n",
    "\n",
    "import matplotlib.font_manager as fm\n",
    "import matplotlib.pyplot as plt\n",
    "import mplfinance as mpf\n",
    "import numpy as np\n",
    "import pandas as pd\n",
    "import yfinance as yf\n",
    "\n",
    "from funcs.common import get_name_15min_chart, get_name_15min_chart_now"
   ]
  },
  {
   "cell_type": "markdown",
   "id": "8efa7b4f-c5a5-45df-bcbc-c689517b5fb2",
   "metadata": {},
   "source": [
    "## yfinance による株価データの取得"
   ]
  },
  {
   "cell_type": "code",
   "execution_count": 51,
   "id": "513d138a-5223-48b6-868d-a4e49a86c6b6",
   "metadata": {},
   "outputs": [
    {
     "data": {
      "text/html": [
       "<div>\n",
       "<style scoped>\n",
       "    .dataframe tbody tr th:only-of-type {\n",
       "        vertical-align: middle;\n",
       "    }\n",
       "\n",
       "    .dataframe tbody tr th {\n",
       "        vertical-align: top;\n",
       "    }\n",
       "\n",
       "    .dataframe thead th {\n",
       "        text-align: right;\n",
       "    }\n",
       "</style>\n",
       "<table border=\"1\" class=\"dataframe\">\n",
       "  <thead>\n",
       "    <tr style=\"text-align: right;\">\n",
       "      <th></th>\n",
       "      <th>Open</th>\n",
       "      <th>High</th>\n",
       "      <th>Low</th>\n",
       "      <th>Close</th>\n",
       "      <th>Volume</th>\n",
       "      <th>Dividends</th>\n",
       "      <th>Stock Splits</th>\n",
       "    </tr>\n",
       "    <tr>\n",
       "      <th>Datetime</th>\n",
       "      <th></th>\n",
       "      <th></th>\n",
       "      <th></th>\n",
       "      <th></th>\n",
       "      <th></th>\n",
       "      <th></th>\n",
       "      <th></th>\n",
       "    </tr>\n",
       "  </thead>\n",
       "  <tbody>\n",
       "    <tr>\n",
       "      <th>2025-08-05 09:00:00+09:00</th>\n",
       "      <td>40521.000000</td>\n",
       "      <td>40524.750000</td>\n",
       "      <td>40431.320312</td>\n",
       "      <td>40442.000000</td>\n",
       "      <td>0</td>\n",
       "      <td>0.0</td>\n",
       "      <td>0.0</td>\n",
       "    </tr>\n",
       "    <tr>\n",
       "      <th>2025-08-05 09:15:00+09:00</th>\n",
       "      <td>40443.429688</td>\n",
       "      <td>40502.550781</td>\n",
       "      <td>40431.031250</td>\n",
       "      <td>40465.609375</td>\n",
       "      <td>0</td>\n",
       "      <td>0.0</td>\n",
       "      <td>0.0</td>\n",
       "    </tr>\n",
       "    <tr>\n",
       "      <th>2025-08-05 09:30:00+09:00</th>\n",
       "      <td>40467.199219</td>\n",
       "      <td>40594.378906</td>\n",
       "      <td>40467.199219</td>\n",
       "      <td>40593.078125</td>\n",
       "      <td>0</td>\n",
       "      <td>0.0</td>\n",
       "      <td>0.0</td>\n",
       "    </tr>\n",
       "    <tr>\n",
       "      <th>2025-08-05 09:45:00+09:00</th>\n",
       "      <td>40592.871094</td>\n",
       "      <td>40600.359375</td>\n",
       "      <td>40454.839844</td>\n",
       "      <td>40481.789062</td>\n",
       "      <td>0</td>\n",
       "      <td>0.0</td>\n",
       "      <td>0.0</td>\n",
       "    </tr>\n",
       "    <tr>\n",
       "      <th>2025-08-05 10:00:00+09:00</th>\n",
       "      <td>40480.050781</td>\n",
       "      <td>40530.671875</td>\n",
       "      <td>40451.820312</td>\n",
       "      <td>40497.011719</td>\n",
       "      <td>0</td>\n",
       "      <td>0.0</td>\n",
       "      <td>0.0</td>\n",
       "    </tr>\n",
       "    <tr>\n",
       "      <th>2025-08-05 10:15:00+09:00</th>\n",
       "      <td>40501.558594</td>\n",
       "      <td>40501.558594</td>\n",
       "      <td>40421.878906</td>\n",
       "      <td>40459.851562</td>\n",
       "      <td>0</td>\n",
       "      <td>0.0</td>\n",
       "      <td>0.0</td>\n",
       "    </tr>\n",
       "    <tr>\n",
       "      <th>2025-08-05 10:30:00+09:00</th>\n",
       "      <td>40457.308594</td>\n",
       "      <td>40519.859375</td>\n",
       "      <td>40444.828125</td>\n",
       "      <td>40514.679688</td>\n",
       "      <td>0</td>\n",
       "      <td>0.0</td>\n",
       "      <td>0.0</td>\n",
       "    </tr>\n",
       "    <tr>\n",
       "      <th>2025-08-05 10:45:00+09:00</th>\n",
       "      <td>40512.601562</td>\n",
       "      <td>40516.281250</td>\n",
       "      <td>40480.718750</td>\n",
       "      <td>40503.460938</td>\n",
       "      <td>0</td>\n",
       "      <td>0.0</td>\n",
       "      <td>0.0</td>\n",
       "    </tr>\n",
       "    <tr>\n",
       "      <th>2025-08-05 11:00:00+09:00</th>\n",
       "      <td>40505.828125</td>\n",
       "      <td>40560.839844</td>\n",
       "      <td>40505.828125</td>\n",
       "      <td>40546.980469</td>\n",
       "      <td>0</td>\n",
       "      <td>0.0</td>\n",
       "      <td>0.0</td>\n",
       "    </tr>\n",
       "    <tr>\n",
       "      <th>2025-08-05 11:15:00+09:00</th>\n",
       "      <td>40543.230469</td>\n",
       "      <td>40558.761719</td>\n",
       "      <td>40512.929688</td>\n",
       "      <td>40548.531250</td>\n",
       "      <td>0</td>\n",
       "      <td>0.0</td>\n",
       "      <td>0.0</td>\n",
       "    </tr>\n",
       "    <tr>\n",
       "      <th>2025-08-05 11:30:00+09:00</th>\n",
       "      <td>40545.511719</td>\n",
       "      <td>40545.511719</td>\n",
       "      <td>40544.988281</td>\n",
       "      <td>40544.988281</td>\n",
       "      <td>0</td>\n",
       "      <td>0.0</td>\n",
       "      <td>0.0</td>\n",
       "    </tr>\n",
       "    <tr>\n",
       "      <th>2025-08-05 12:30:00+09:00</th>\n",
       "      <td>40590.089844</td>\n",
       "      <td>40649.378906</td>\n",
       "      <td>40575.671875</td>\n",
       "      <td>40595.859375</td>\n",
       "      <td>0</td>\n",
       "      <td>0.0</td>\n",
       "      <td>0.0</td>\n",
       "    </tr>\n",
       "    <tr>\n",
       "      <th>2025-08-05 12:45:00+09:00</th>\n",
       "      <td>40596.750000</td>\n",
       "      <td>40600.031250</td>\n",
       "      <td>40587.710938</td>\n",
       "      <td>40594.781250</td>\n",
       "      <td>0</td>\n",
       "      <td>0.0</td>\n",
       "      <td>0.0</td>\n",
       "    </tr>\n",
       "  </tbody>\n",
       "</table>\n",
       "</div>"
      ],
      "text/plain": [
       "                                   Open          High           Low  \\\n",
       "Datetime                                                              \n",
       "2025-08-05 09:00:00+09:00  40521.000000  40524.750000  40431.320312   \n",
       "2025-08-05 09:15:00+09:00  40443.429688  40502.550781  40431.031250   \n",
       "2025-08-05 09:30:00+09:00  40467.199219  40594.378906  40467.199219   \n",
       "2025-08-05 09:45:00+09:00  40592.871094  40600.359375  40454.839844   \n",
       "2025-08-05 10:00:00+09:00  40480.050781  40530.671875  40451.820312   \n",
       "2025-08-05 10:15:00+09:00  40501.558594  40501.558594  40421.878906   \n",
       "2025-08-05 10:30:00+09:00  40457.308594  40519.859375  40444.828125   \n",
       "2025-08-05 10:45:00+09:00  40512.601562  40516.281250  40480.718750   \n",
       "2025-08-05 11:00:00+09:00  40505.828125  40560.839844  40505.828125   \n",
       "2025-08-05 11:15:00+09:00  40543.230469  40558.761719  40512.929688   \n",
       "2025-08-05 11:30:00+09:00  40545.511719  40545.511719  40544.988281   \n",
       "2025-08-05 12:30:00+09:00  40590.089844  40649.378906  40575.671875   \n",
       "2025-08-05 12:45:00+09:00  40596.750000  40600.031250  40587.710938   \n",
       "\n",
       "                                  Close  Volume  Dividends  Stock Splits  \n",
       "Datetime                                                                  \n",
       "2025-08-05 09:00:00+09:00  40442.000000       0        0.0           0.0  \n",
       "2025-08-05 09:15:00+09:00  40465.609375       0        0.0           0.0  \n",
       "2025-08-05 09:30:00+09:00  40593.078125       0        0.0           0.0  \n",
       "2025-08-05 09:45:00+09:00  40481.789062       0        0.0           0.0  \n",
       "2025-08-05 10:00:00+09:00  40497.011719       0        0.0           0.0  \n",
       "2025-08-05 10:15:00+09:00  40459.851562       0        0.0           0.0  \n",
       "2025-08-05 10:30:00+09:00  40514.679688       0        0.0           0.0  \n",
       "2025-08-05 10:45:00+09:00  40503.460938       0        0.0           0.0  \n",
       "2025-08-05 11:00:00+09:00  40546.980469       0        0.0           0.0  \n",
       "2025-08-05 11:15:00+09:00  40548.531250       0        0.0           0.0  \n",
       "2025-08-05 11:30:00+09:00  40544.988281       0        0.0           0.0  \n",
       "2025-08-05 12:30:00+09:00  40595.859375       0        0.0           0.0  \n",
       "2025-08-05 12:45:00+09:00  40594.781250       0        0.0           0.0  "
      ]
     },
     "execution_count": 51,
     "metadata": {},
     "output_type": "execute_result"
    }
   ],
   "source": [
    "code = \"N225\"\n",
    "symbol = f\"^{code}\"\n",
    "ticker = yf.Ticker(symbol)\n",
    "df = ticker.history(period=\"1d\", interval=\"15m\")\n",
    "df"
   ]
  },
  {
   "cell_type": "markdown",
   "id": "2b974883-632b-43cf-8f1b-9f3e4cededdd",
   "metadata": {},
   "source": [
    "## 前日終値の取得"
   ]
  },
  {
   "cell_type": "code",
   "execution_count": 52,
   "id": "cf79a23f-ac87-47e6-bd34-0746a65c86f9",
   "metadata": {},
   "outputs": [
    {
     "data": {
      "text/plain": [
       "Date\n",
       "2025-08-04 00:00:00+09:00    40290.699219\n",
       "Name: Close, dtype: float64"
      ]
     },
     "execution_count": 52,
     "metadata": {},
     "output_type": "execute_result"
    }
   ],
   "source": [
    "# 過去一週間のデータを取得\n",
    "td = datetime.timedelta(days=7)\n",
    "dt_first = df.index[0]\n",
    "dt_prev = dt_first - td\n",
    "df_last = ticker.history(period=\"1d\", interval=\"1d\", start=str(dt_prev.date()))\n",
    "n = len(df_last)\n",
    "lastclose = df_last[n - 2 : n - 1][\"Close\"].iloc[0]\n",
    "# 確認のため出力\n",
    "df_last[n - 2 : n - 1][\"Close\"]"
   ]
  },
  {
   "cell_type": "markdown",
   "id": "432d492c-6e58-46b6-8004-044d4419c02c",
   "metadata": {},
   "source": [
    "## ローソク足チャート（小さいサイズ）"
   ]
  },
  {
   "cell_type": "code",
   "execution_count": 53,
   "id": "f4d0b7d0-b14a-4bfd-949a-c03ee4a578a0",
   "metadata": {},
   "outputs": [
    {
     "data": {
      "image/png": "[encoded data removed]",
      "text/plain": [
       "<Figure size 300x200 with 1 Axes>"
      ]
     },
     "metadata": {},
     "output_type": "display_data"
    }
   ],
   "source": [
    "FONT_PATH = \"../fonts/RictyDiminished-Regular.ttf\"\n",
    "fm.fontManager.addfont(FONT_PATH)\n",
    "\n",
    "# FontPropertiesオブジェクト生成（名前の取得のため）\n",
    "font_prop = fm.FontProperties(fname=FONT_PATH)\n",
    "font_prop.get_name()\n",
    "\n",
    "plt.rcParams[\"font.family\"] = font_prop.get_name()\n",
    "plt.rcParams[\"font.size\"] = 9\n",
    "\n",
    "fig, ax = plt.subplots(figsize=(3, 2))\n",
    "mpf.plot(\n",
    "    df,\n",
    "    type=\"candle\",\n",
    "    style=\"default\",\n",
    "    datetime_format=\"%H:%M\",\n",
    "    xrotation=0,\n",
    "    update_width_config=dict(candle_linewidth=0.75),\n",
    "    ax=ax,\n",
    ")\n",
    "ax.axhline(y=lastclose, color=\"red\", linewidth=0.75)\n",
    "ax.set_ylabel(None)\n",
    "ax.grid()\n",
    "\n",
    "if \"shortName\" in ticker.info:\n",
    "    ax.set_title(f\"{ticker.info['shortName']} ({symbol})\")\n",
    "elif \"longName\" in ticker.info:\n",
    "    ax.set_title(f\"{ticker.info['longName']} ({symbol})\")\n",
    "else:\n",
    "    ax.set_title(f\"{symbol}\")\n",
    "\n",
    "plt.tight_layout()\n",
    "plt.savefig(get_name_15min_chart(code, dt_first))\n",
    "plt.show()"
   ]
  },
  {
   "cell_type": "code",
   "execution_count": null,
   "id": "f18e1ab8-e1be-4684-a805-0584f61e0488",
   "metadata": {},
   "outputs": [],
   "source": []
  }
 ],
 "metadata": {
  "kernelspec": {
   "display_name": "Python 3 (ipykernel)",
   "language": "python",
   "name": "python3"
  },
  "language_info": {
   "codemirror_mode": {
    "name": "ipython",
    "version": 3
   },
   "file_extension": ".py",
   "mimetype": "text/x-python",
   "name": "python",
   "nbconvert_exporter": "python",
   "pygments_lexer": "ipython3",
   "version": "3.13.5"
  }
 },
 "nbformat": 4,
 "nbformat_minor": 5
}
