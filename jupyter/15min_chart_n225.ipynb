{
 "cells": [
  {
   "cell_type": "markdown",
   "id": "07ceea52-6536-47e0-81aa-30c017b5bfc5",
   "metadata": {},
   "source": [
    "# 日経平均株価 15分足"
   ]
  },
  {
   "cell_type": "markdown",
   "id": "8a363236-5477-4a61-99da-bf92362631f4",
   "metadata": {},
   "source": [
    "### 一つ上のディレクトリをパスに追加"
   ]
  },
  {
   "cell_type": "code",
   "execution_count": 78,
   "id": "f1f6d8b7-4107-4a29-ae60-f3cbfa1f5a38",
   "metadata": {},
   "outputs": [],
   "source": [
    "import sys\n",
    "\n",
    "path_up = \"..\"\n",
    "if not path_up in sys.path:\n",
    "    sys.path.append(path_up)"
   ]
  },
  {
   "cell_type": "markdown",
   "id": "19d64844-3cbf-4a92-827e-43c425e34eb6",
   "metadata": {},
   "source": [
    "### ライブラリをここで一括インポート"
   ]
  },
  {
   "cell_type": "code",
   "execution_count": 79,
   "id": "3421a3f8-52ac-41e8-8e08-921ddaa4b37a",
   "metadata": {},
   "outputs": [],
   "source": [
    "import datetime\n",
    "\n",
    "import matplotlib.font_manager as fm\n",
    "import matplotlib.pyplot as plt\n",
    "import mplfinance as mpf\n",
    "import numpy as np\n",
    "import pandas as pd\n",
    "import yfinance as yf\n",
    "\n",
    "from funcs.common import get_name_15min_chart, get_name_15min_chart_now"
   ]
  },
  {
   "cell_type": "markdown",
   "id": "8efa7b4f-c5a5-45df-bcbc-c689517b5fb2",
   "metadata": {},
   "source": [
    "## yfinance による株価データの取得"
   ]
  },
  {
   "cell_type": "code",
   "execution_count": 80,
   "id": "513d138a-5223-48b6-868d-a4e49a86c6b6",
   "metadata": {},
   "outputs": [
    {
     "data": {
      "text/html": [
       "<div>\n",
       "<style scoped>\n",
       "    .dataframe tbody tr th:only-of-type {\n",
       "        vertical-align: middle;\n",
       "    }\n",
       "\n",
       "    .dataframe tbody tr th {\n",
       "        vertical-align: top;\n",
       "    }\n",
       "\n",
       "    .dataframe thead th {\n",
       "        text-align: right;\n",
       "    }\n",
       "</style>\n",
       "<table border=\"1\" class=\"dataframe\">\n",
       "  <thead>\n",
       "    <tr style=\"text-align: right;\">\n",
       "      <th></th>\n",
       "      <th>Open</th>\n",
       "      <th>High</th>\n",
       "      <th>Low</th>\n",
       "      <th>Close</th>\n",
       "      <th>Volume</th>\n",
       "      <th>Dividends</th>\n",
       "      <th>Stock Splits</th>\n",
       "    </tr>\n",
       "    <tr>\n",
       "      <th>Datetime</th>\n",
       "      <th></th>\n",
       "      <th></th>\n",
       "      <th></th>\n",
       "      <th></th>\n",
       "      <th></th>\n",
       "      <th></th>\n",
       "      <th></th>\n",
       "    </tr>\n",
       "  </thead>\n",
       "  <tbody>\n",
       "    <tr>\n",
       "      <th>2025-08-22 09:00:00+09:00</th>\n",
       "      <td>42629.808594</td>\n",
       "      <td>42720.570312</td>\n",
       "      <td>42392.460938</td>\n",
       "      <td>42393.210938</td>\n",
       "      <td>0</td>\n",
       "      <td>0.0</td>\n",
       "      <td>0.0</td>\n",
       "    </tr>\n",
       "    <tr>\n",
       "      <th>2025-08-22 09:15:00+09:00</th>\n",
       "      <td>42391.191406</td>\n",
       "      <td>42564.039062</td>\n",
       "      <td>42331.390625</td>\n",
       "      <td>42476.308594</td>\n",
       "      <td>0</td>\n",
       "      <td>0.0</td>\n",
       "      <td>0.0</td>\n",
       "    </tr>\n",
       "    <tr>\n",
       "      <th>2025-08-22 09:30:00+09:00</th>\n",
       "      <td>42480.988281</td>\n",
       "      <td>42622.660156</td>\n",
       "      <td>42480.988281</td>\n",
       "      <td>42579.871094</td>\n",
       "      <td>0</td>\n",
       "      <td>0.0</td>\n",
       "      <td>0.0</td>\n",
       "    </tr>\n",
       "    <tr>\n",
       "      <th>2025-08-22 09:45:00+09:00</th>\n",
       "      <td>42584.441406</td>\n",
       "      <td>42647.648438</td>\n",
       "      <td>42555.761719</td>\n",
       "      <td>42633.578125</td>\n",
       "      <td>0</td>\n",
       "      <td>0.0</td>\n",
       "      <td>0.0</td>\n",
       "    </tr>\n",
       "    <tr>\n",
       "      <th>2025-08-22 10:00:00+09:00</th>\n",
       "      <td>42632.878906</td>\n",
       "      <td>42645.371094</td>\n",
       "      <td>42534.238281</td>\n",
       "      <td>42585.378906</td>\n",
       "      <td>0</td>\n",
       "      <td>0.0</td>\n",
       "      <td>0.0</td>\n",
       "    </tr>\n",
       "    <tr>\n",
       "      <th>2025-08-22 10:15:00+09:00</th>\n",
       "      <td>42579.871094</td>\n",
       "      <td>42662.429688</td>\n",
       "      <td>42562.871094</td>\n",
       "      <td>42649.199219</td>\n",
       "      <td>0</td>\n",
       "      <td>0.0</td>\n",
       "      <td>0.0</td>\n",
       "    </tr>\n",
       "    <tr>\n",
       "      <th>2025-08-22 10:30:00+09:00</th>\n",
       "      <td>42652.441406</td>\n",
       "      <td>42685.011719</td>\n",
       "      <td>42623.628906</td>\n",
       "      <td>42671.601562</td>\n",
       "      <td>0</td>\n",
       "      <td>0.0</td>\n",
       "      <td>0.0</td>\n",
       "    </tr>\n",
       "    <tr>\n",
       "      <th>2025-08-22 10:45:00+09:00</th>\n",
       "      <td>42672.398438</td>\n",
       "      <td>42672.398438</td>\n",
       "      <td>42596.050781</td>\n",
       "      <td>42619.828125</td>\n",
       "      <td>0</td>\n",
       "      <td>0.0</td>\n",
       "      <td>0.0</td>\n",
       "    </tr>\n",
       "    <tr>\n",
       "      <th>2025-08-22 11:00:00+09:00</th>\n",
       "      <td>42621.308594</td>\n",
       "      <td>42694.398438</td>\n",
       "      <td>42619.441406</td>\n",
       "      <td>42684.089844</td>\n",
       "      <td>0</td>\n",
       "      <td>0.0</td>\n",
       "      <td>0.0</td>\n",
       "    </tr>\n",
       "    <tr>\n",
       "      <th>2025-08-22 11:15:00+09:00</th>\n",
       "      <td>42681.871094</td>\n",
       "      <td>42713.070312</td>\n",
       "      <td>42599.050781</td>\n",
       "      <td>42616.488281</td>\n",
       "      <td>0</td>\n",
       "      <td>0.0</td>\n",
       "      <td>0.0</td>\n",
       "    </tr>\n",
       "    <tr>\n",
       "      <th>2025-08-22 11:30:00+09:00</th>\n",
       "      <td>42614.101562</td>\n",
       "      <td>42615.089844</td>\n",
       "      <td>42614.101562</td>\n",
       "      <td>42615.089844</td>\n",
       "      <td>0</td>\n",
       "      <td>0.0</td>\n",
       "      <td>0.0</td>\n",
       "    </tr>\n",
       "    <tr>\n",
       "      <th>2025-08-22 12:30:00+09:00</th>\n",
       "      <td>42586.828125</td>\n",
       "      <td>42601.621094</td>\n",
       "      <td>42549.929688</td>\n",
       "      <td>42558.929688</td>\n",
       "      <td>0</td>\n",
       "      <td>0.0</td>\n",
       "      <td>0.0</td>\n",
       "    </tr>\n",
       "    <tr>\n",
       "      <th>2025-08-22 12:45:00+09:00</th>\n",
       "      <td>42560.308594</td>\n",
       "      <td>42570.648438</td>\n",
       "      <td>42545.351562</td>\n",
       "      <td>42561.968750</td>\n",
       "      <td>0</td>\n",
       "      <td>0.0</td>\n",
       "      <td>0.0</td>\n",
       "    </tr>\n",
       "  </tbody>\n",
       "</table>\n",
       "</div>"
      ],
      "text/plain": [
       "                                   Open          High           Low  \\\n",
       "Datetime                                                              \n",
       "2025-08-22 09:00:00+09:00  42629.808594  42720.570312  42392.460938   \n",
       "2025-08-22 09:15:00+09:00  42391.191406  42564.039062  42331.390625   \n",
       "2025-08-22 09:30:00+09:00  42480.988281  42622.660156  42480.988281   \n",
       "2025-08-22 09:45:00+09:00  42584.441406  42647.648438  42555.761719   \n",
       "2025-08-22 10:00:00+09:00  42632.878906  42645.371094  42534.238281   \n",
       "2025-08-22 10:15:00+09:00  42579.871094  42662.429688  42562.871094   \n",
       "2025-08-22 10:30:00+09:00  42652.441406  42685.011719  42623.628906   \n",
       "2025-08-22 10:45:00+09:00  42672.398438  42672.398438  42596.050781   \n",
       "2025-08-22 11:00:00+09:00  42621.308594  42694.398438  42619.441406   \n",
       "2025-08-22 11:15:00+09:00  42681.871094  42713.070312  42599.050781   \n",
       "2025-08-22 11:30:00+09:00  42614.101562  42615.089844  42614.101562   \n",
       "2025-08-22 12:30:00+09:00  42586.828125  42601.621094  42549.929688   \n",
       "2025-08-22 12:45:00+09:00  42560.308594  42570.648438  42545.351562   \n",
       "\n",
       "                                  Close  Volume  Dividends  Stock Splits  \n",
       "Datetime                                                                  \n",
       "2025-08-22 09:00:00+09:00  42393.210938       0        0.0           0.0  \n",
       "2025-08-22 09:15:00+09:00  42476.308594       0        0.0           0.0  \n",
       "2025-08-22 09:30:00+09:00  42579.871094       0        0.0           0.0  \n",
       "2025-08-22 09:45:00+09:00  42633.578125       0        0.0           0.0  \n",
       "2025-08-22 10:00:00+09:00  42585.378906       0        0.0           0.0  \n",
       "2025-08-22 10:15:00+09:00  42649.199219       0        0.0           0.0  \n",
       "2025-08-22 10:30:00+09:00  42671.601562       0        0.0           0.0  \n",
       "2025-08-22 10:45:00+09:00  42619.828125       0        0.0           0.0  \n",
       "2025-08-22 11:00:00+09:00  42684.089844       0        0.0           0.0  \n",
       "2025-08-22 11:15:00+09:00  42616.488281       0        0.0           0.0  \n",
       "2025-08-22 11:30:00+09:00  42615.089844       0        0.0           0.0  \n",
       "2025-08-22 12:30:00+09:00  42558.929688       0        0.0           0.0  \n",
       "2025-08-22 12:45:00+09:00  42561.968750       0        0.0           0.0  "
      ]
     },
     "execution_count": 80,
     "metadata": {},
     "output_type": "execute_result"
    }
   ],
   "source": [
    "code = \"N225\"\n",
    "symbol = f\"^{code}\"\n",
    "ticker = yf.Ticker(symbol)\n",
    "df = ticker.history(period=\"1d\", interval=\"15m\")\n",
    "df"
   ]
  },
  {
   "cell_type": "markdown",
   "id": "2b974883-632b-43cf-8f1b-9f3e4cededdd",
   "metadata": {},
   "source": [
    "## 前日終値の取得"
   ]
  },
  {
   "cell_type": "code",
   "execution_count": 81,
   "id": "cf79a23f-ac87-47e6-bd34-0746a65c86f9",
   "metadata": {},
   "outputs": [
    {
     "name": "stdout",
     "output_type": "stream",
     "text": [
      "Date\n",
      "2025-08-15 00:00:00+09:00    43378.308594\n",
      "2025-08-18 00:00:00+09:00    43714.308594\n",
      "2025-08-19 00:00:00+09:00    43546.289062\n",
      "2025-08-20 00:00:00+09:00    42888.550781\n",
      "2025-08-21 00:00:00+09:00    42610.171875\n",
      "2025-08-22 00:00:00+09:00    42561.968750\n",
      "Name: Close, dtype: float64\n"
     ]
    },
    {
     "data": {
      "text/plain": [
       "Date\n",
       "2025-08-21 00:00:00+09:00    42610.171875\n",
       "Name: Close, dtype: float64"
      ]
     },
     "execution_count": 81,
     "metadata": {},
     "output_type": "execute_result"
    }
   ],
   "source": [
    "# 過去一週間のデータを取得\n",
    "td = datetime.timedelta(days=7)\n",
    "dt_first = df.index[0]\n",
    "dt_prev = dt_first - td\n",
    "df_last = ticker.history(interval=\"1d\", start=str(dt_prev.date()))\n",
    "print(df_last[\"Close\"])\n",
    "n = len(df_last)\n",
    "lastclose = df_last[n - 2 : n - 1][\"Close\"].iloc[0]\n",
    "# 確認のため出力\n",
    "df_last[n - 2 : n - 1][\"Close\"]"
   ]
  },
  {
   "cell_type": "markdown",
   "id": "432d492c-6e58-46b6-8004-044d4419c02c",
   "metadata": {},
   "source": [
    "## ローソク足チャート（小さいサイズ）"
   ]
  },
  {
   "cell_type": "code",
   "execution_count": 82,
   "id": "f4d0b7d0-b14a-4bfd-949a-c03ee4a578a0",
   "metadata": {},
   "outputs": [
    {
     "data": {
      "image/png": "[encoded data removed]",
      "text/plain": [
       "<Figure size 300x200 with 1 Axes>"
      ]
     },
     "metadata": {},
     "output_type": "display_data"
    }
   ],
   "source": [
    "FONT_PATH = \"../fonts/RictyDiminished-Regular.ttf\"\n",
    "fm.fontManager.addfont(FONT_PATH)\n",
    "\n",
    "# FontPropertiesオブジェクト生成（名前の取得のため）\n",
    "font_prop = fm.FontProperties(fname=FONT_PATH)\n",
    "font_prop.get_name()\n",
    "\n",
    "plt.rcParams[\"font.family\"] = font_prop.get_name()\n",
    "plt.rcParams[\"font.size\"] = 9\n",
    "\n",
    "fig, ax = plt.subplots(figsize=(3, 2))\n",
    "mpf.plot(\n",
    "    df,\n",
    "    type=\"candle\",\n",
    "    style=\"default\",\n",
    "    datetime_format=\"%H:%M\",\n",
    "    xrotation=0,\n",
    "    update_width_config=dict(candle_linewidth=0.75),\n",
    "    ax=ax,\n",
    ")\n",
    "ax.axhline(y=lastclose, color=\"red\", linewidth=0.75)\n",
    "ax.set_ylabel(None)\n",
    "ax.grid()\n",
    "\n",
    "if \"shortName\" in ticker.info:\n",
    "    ax.set_title(f\"{ticker.info['shortName']} ({symbol})\")\n",
    "elif \"longName\" in ticker.info:\n",
    "    ax.set_title(f\"{ticker.info['longName']} ({symbol})\")\n",
    "else:\n",
    "    ax.set_title(f\"{symbol}\")\n",
    "\n",
    "plt.tight_layout()\n",
    "plt.savefig(get_name_15min_chart(code, dt_first))\n",
    "plt.show()"
   ]
  },
  {
   "cell_type": "code",
   "execution_count": null,
   "id": "f18e1ab8-e1be-4684-a805-0584f61e0488",
   "metadata": {},
   "outputs": [],
   "source": []
  }
 ],
 "metadata": {
  "kernelspec": {
   "display_name": "Python 3 (ipykernel)",
   "language": "python",
   "name": "python3"
  },
  "language_info": {
   "codemirror_mode": {
    "name": "ipython",
    "version": 3
   },
   "file_extension": ".py",
   "mimetype": "text/x-python",
   "name": "python",
   "nbconvert_exporter": "python",
   "pygments_lexer": "ipython3",
   "version": "3.13.6"
  }
 },
 "nbformat": 4,
 "nbformat_minor": 5
}
