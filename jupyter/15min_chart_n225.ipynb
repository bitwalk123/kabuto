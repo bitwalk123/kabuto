{
 "cells": [
  {
   "cell_type": "markdown",
   "id": "07ceea52-6536-47e0-81aa-30c017b5bfc5",
   "metadata": {},
   "source": [
    "# 日経平均株価 15分足"
   ]
  },
  {
   "cell_type": "markdown",
   "id": "8a363236-5477-4a61-99da-bf92362631f4",
   "metadata": {},
   "source": [
    "### 一つ上のディレクトリをパスに追加"
   ]
  },
  {
   "cell_type": "code",
   "execution_count": 115,
   "id": "f1f6d8b7-4107-4a29-ae60-f3cbfa1f5a38",
   "metadata": {},
   "outputs": [],
   "source": [
    "import sys\n",
    "\n",
    "path_up = \"..\"\n",
    "if not path_up in sys.path:\n",
    "    sys.path.append(path_up)"
   ]
  },
  {
   "cell_type": "markdown",
   "id": "19d64844-3cbf-4a92-827e-43c425e34eb6",
   "metadata": {},
   "source": [
    "### ライブラリをここで一括インポート"
   ]
  },
  {
   "cell_type": "code",
   "execution_count": 116,
   "id": "3421a3f8-52ac-41e8-8e08-921ddaa4b37a",
   "metadata": {},
   "outputs": [],
   "source": [
    "import datetime\n",
    "\n",
    "import matplotlib.font_manager as fm\n",
    "import matplotlib.pyplot as plt\n",
    "import mplfinance as mpf\n",
    "import numpy as np\n",
    "import pandas as pd\n",
    "import yfinance as yf\n",
    "\n",
    "from funcs.common import get_name_15min_chart, get_name_15min_chart_now"
   ]
  },
  {
   "cell_type": "markdown",
   "id": "8efa7b4f-c5a5-45df-bcbc-c689517b5fb2",
   "metadata": {},
   "source": [
    "## yfinance による株価データの取得"
   ]
  },
  {
   "cell_type": "code",
   "execution_count": 117,
   "id": "513d138a-5223-48b6-868d-a4e49a86c6b6",
   "metadata": {},
   "outputs": [
    {
     "data": {
      "text/html": [
       "<div>\n",
       "<style scoped>\n",
       "    .dataframe tbody tr th:only-of-type {\n",
       "        vertical-align: middle;\n",
       "    }\n",
       "\n",
       "    .dataframe tbody tr th {\n",
       "        vertical-align: top;\n",
       "    }\n",
       "\n",
       "    .dataframe thead th {\n",
       "        text-align: right;\n",
       "    }\n",
       "</style>\n",
       "<table border=\"1\" class=\"dataframe\">\n",
       "  <thead>\n",
       "    <tr style=\"text-align: right;\">\n",
       "      <th></th>\n",
       "      <th>Open</th>\n",
       "      <th>High</th>\n",
       "      <th>Low</th>\n",
       "      <th>Close</th>\n",
       "      <th>Volume</th>\n",
       "      <th>Dividends</th>\n",
       "      <th>Stock Splits</th>\n",
       "    </tr>\n",
       "    <tr>\n",
       "      <th>Datetime</th>\n",
       "      <th></th>\n",
       "      <th></th>\n",
       "      <th></th>\n",
       "      <th></th>\n",
       "      <th></th>\n",
       "      <th></th>\n",
       "      <th></th>\n",
       "    </tr>\n",
       "  </thead>\n",
       "  <tbody>\n",
       "    <tr>\n",
       "      <th>2025-09-10 09:00:00+09:00</th>\n",
       "      <td>43513.160156</td>\n",
       "      <td>43657.921875</td>\n",
       "      <td>43509.019531</td>\n",
       "      <td>43657.921875</td>\n",
       "      <td>0</td>\n",
       "      <td>0.0</td>\n",
       "      <td>0.0</td>\n",
       "    </tr>\n",
       "    <tr>\n",
       "      <th>2025-09-10 09:15:00+09:00</th>\n",
       "      <td>43652.691406</td>\n",
       "      <td>43709.769531</td>\n",
       "      <td>43619.519531</td>\n",
       "      <td>43665.398438</td>\n",
       "      <td>0</td>\n",
       "      <td>0.0</td>\n",
       "      <td>0.0</td>\n",
       "    </tr>\n",
       "    <tr>\n",
       "      <th>2025-09-10 09:30:00+09:00</th>\n",
       "      <td>43657.390625</td>\n",
       "      <td>43713.019531</td>\n",
       "      <td>43632.589844</td>\n",
       "      <td>43711.070312</td>\n",
       "      <td>0</td>\n",
       "      <td>0.0</td>\n",
       "      <td>0.0</td>\n",
       "    </tr>\n",
       "    <tr>\n",
       "      <th>2025-09-10 09:45:00+09:00</th>\n",
       "      <td>43707.511719</td>\n",
       "      <td>43733.691406</td>\n",
       "      <td>43642.109375</td>\n",
       "      <td>43654.179688</td>\n",
       "      <td>0</td>\n",
       "      <td>0.0</td>\n",
       "      <td>0.0</td>\n",
       "    </tr>\n",
       "    <tr>\n",
       "      <th>2025-09-10 10:00:00+09:00</th>\n",
       "      <td>43658.539062</td>\n",
       "      <td>43709.871094</td>\n",
       "      <td>43649.578125</td>\n",
       "      <td>43675.320312</td>\n",
       "      <td>0</td>\n",
       "      <td>0.0</td>\n",
       "      <td>0.0</td>\n",
       "    </tr>\n",
       "    <tr>\n",
       "      <th>2025-09-10 10:15:00+09:00</th>\n",
       "      <td>43674.488281</td>\n",
       "      <td>43682.808594</td>\n",
       "      <td>43535.160156</td>\n",
       "      <td>43570.371094</td>\n",
       "      <td>0</td>\n",
       "      <td>0.0</td>\n",
       "      <td>0.0</td>\n",
       "    </tr>\n",
       "    <tr>\n",
       "      <th>2025-09-10 10:30:00+09:00</th>\n",
       "      <td>43571.660156</td>\n",
       "      <td>43629.058594</td>\n",
       "      <td>43549.339844</td>\n",
       "      <td>43588.839844</td>\n",
       "      <td>0</td>\n",
       "      <td>0.0</td>\n",
       "      <td>0.0</td>\n",
       "    </tr>\n",
       "    <tr>\n",
       "      <th>2025-09-10 10:45:00+09:00</th>\n",
       "      <td>43594.078125</td>\n",
       "      <td>43619.269531</td>\n",
       "      <td>43557.191406</td>\n",
       "      <td>43604.078125</td>\n",
       "      <td>0</td>\n",
       "      <td>0.0</td>\n",
       "      <td>0.0</td>\n",
       "    </tr>\n",
       "    <tr>\n",
       "      <th>2025-09-10 11:00:00+09:00</th>\n",
       "      <td>43605.089844</td>\n",
       "      <td>43631.320312</td>\n",
       "      <td>43582.871094</td>\n",
       "      <td>43609.269531</td>\n",
       "      <td>0</td>\n",
       "      <td>0.0</td>\n",
       "      <td>0.0</td>\n",
       "    </tr>\n",
       "    <tr>\n",
       "      <th>2025-09-10 11:15:00+09:00</th>\n",
       "      <td>43609.839844</td>\n",
       "      <td>43687.128906</td>\n",
       "      <td>43603.761719</td>\n",
       "      <td>43676.218750</td>\n",
       "      <td>0</td>\n",
       "      <td>0.0</td>\n",
       "      <td>0.0</td>\n",
       "    </tr>\n",
       "    <tr>\n",
       "      <th>2025-09-10 11:30:00+09:00</th>\n",
       "      <td>43674.359375</td>\n",
       "      <td>43684.289062</td>\n",
       "      <td>43674.359375</td>\n",
       "      <td>43684.289062</td>\n",
       "      <td>0</td>\n",
       "      <td>0.0</td>\n",
       "      <td>0.0</td>\n",
       "    </tr>\n",
       "    <tr>\n",
       "      <th>2025-09-10 12:30:00+09:00</th>\n",
       "      <td>43718.949219</td>\n",
       "      <td>43752.921875</td>\n",
       "      <td>43706.558594</td>\n",
       "      <td>43748.109375</td>\n",
       "      <td>0</td>\n",
       "      <td>0.0</td>\n",
       "      <td>0.0</td>\n",
       "    </tr>\n",
       "    <tr>\n",
       "      <th>2025-09-10 12:45:00+09:00</th>\n",
       "      <td>43746.558594</td>\n",
       "      <td>43788.339844</td>\n",
       "      <td>43731.171875</td>\n",
       "      <td>43783.558594</td>\n",
       "      <td>0</td>\n",
       "      <td>0.0</td>\n",
       "      <td>0.0</td>\n",
       "    </tr>\n",
       "    <tr>\n",
       "      <th>2025-09-10 13:00:00+09:00</th>\n",
       "      <td>43784.351562</td>\n",
       "      <td>43802.281250</td>\n",
       "      <td>43736.351562</td>\n",
       "      <td>43752.578125</td>\n",
       "      <td>0</td>\n",
       "      <td>0.0</td>\n",
       "      <td>0.0</td>\n",
       "    </tr>\n",
       "    <tr>\n",
       "      <th>2025-09-10 13:15:00+09:00</th>\n",
       "      <td>43752.808594</td>\n",
       "      <td>43776.210938</td>\n",
       "      <td>43727.988281</td>\n",
       "      <td>43750.289062</td>\n",
       "      <td>0</td>\n",
       "      <td>0.0</td>\n",
       "      <td>0.0</td>\n",
       "    </tr>\n",
       "    <tr>\n",
       "      <th>2025-09-10 13:30:00+09:00</th>\n",
       "      <td>43750.011719</td>\n",
       "      <td>43776.640625</td>\n",
       "      <td>43745.871094</td>\n",
       "      <td>43767.058594</td>\n",
       "      <td>0</td>\n",
       "      <td>0.0</td>\n",
       "      <td>0.0</td>\n",
       "    </tr>\n",
       "    <tr>\n",
       "      <th>2025-09-10 13:45:00+09:00</th>\n",
       "      <td>43767.000000</td>\n",
       "      <td>43789.640625</td>\n",
       "      <td>43762.308594</td>\n",
       "      <td>43781.121094</td>\n",
       "      <td>0</td>\n",
       "      <td>0.0</td>\n",
       "      <td>0.0</td>\n",
       "    </tr>\n",
       "  </tbody>\n",
       "</table>\n",
       "</div>"
      ],
      "text/plain": [
       "                                   Open          High           Low  \\\n",
       "Datetime                                                              \n",
       "2025-09-10 09:00:00+09:00  43513.160156  43657.921875  43509.019531   \n",
       "2025-09-10 09:15:00+09:00  43652.691406  43709.769531  43619.519531   \n",
       "2025-09-10 09:30:00+09:00  43657.390625  43713.019531  43632.589844   \n",
       "2025-09-10 09:45:00+09:00  43707.511719  43733.691406  43642.109375   \n",
       "2025-09-10 10:00:00+09:00  43658.539062  43709.871094  43649.578125   \n",
       "2025-09-10 10:15:00+09:00  43674.488281  43682.808594  43535.160156   \n",
       "2025-09-10 10:30:00+09:00  43571.660156  43629.058594  43549.339844   \n",
       "2025-09-10 10:45:00+09:00  43594.078125  43619.269531  43557.191406   \n",
       "2025-09-10 11:00:00+09:00  43605.089844  43631.320312  43582.871094   \n",
       "2025-09-10 11:15:00+09:00  43609.839844  43687.128906  43603.761719   \n",
       "2025-09-10 11:30:00+09:00  43674.359375  43684.289062  43674.359375   \n",
       "2025-09-10 12:30:00+09:00  43718.949219  43752.921875  43706.558594   \n",
       "2025-09-10 12:45:00+09:00  43746.558594  43788.339844  43731.171875   \n",
       "2025-09-10 13:00:00+09:00  43784.351562  43802.281250  43736.351562   \n",
       "2025-09-10 13:15:00+09:00  43752.808594  43776.210938  43727.988281   \n",
       "2025-09-10 13:30:00+09:00  43750.011719  43776.640625  43745.871094   \n",
       "2025-09-10 13:45:00+09:00  43767.000000  43789.640625  43762.308594   \n",
       "\n",
       "                                  Close  Volume  Dividends  Stock Splits  \n",
       "Datetime                                                                  \n",
       "2025-09-10 09:00:00+09:00  43657.921875       0        0.0           0.0  \n",
       "2025-09-10 09:15:00+09:00  43665.398438       0        0.0           0.0  \n",
       "2025-09-10 09:30:00+09:00  43711.070312       0        0.0           0.0  \n",
       "2025-09-10 09:45:00+09:00  43654.179688       0        0.0           0.0  \n",
       "2025-09-10 10:00:00+09:00  43675.320312       0        0.0           0.0  \n",
       "2025-09-10 10:15:00+09:00  43570.371094       0        0.0           0.0  \n",
       "2025-09-10 10:30:00+09:00  43588.839844       0        0.0           0.0  \n",
       "2025-09-10 10:45:00+09:00  43604.078125       0        0.0           0.0  \n",
       "2025-09-10 11:00:00+09:00  43609.269531       0        0.0           0.0  \n",
       "2025-09-10 11:15:00+09:00  43676.218750       0        0.0           0.0  \n",
       "2025-09-10 11:30:00+09:00  43684.289062       0        0.0           0.0  \n",
       "2025-09-10 12:30:00+09:00  43748.109375       0        0.0           0.0  \n",
       "2025-09-10 12:45:00+09:00  43783.558594       0        0.0           0.0  \n",
       "2025-09-10 13:00:00+09:00  43752.578125       0        0.0           0.0  \n",
       "2025-09-10 13:15:00+09:00  43750.289062       0        0.0           0.0  \n",
       "2025-09-10 13:30:00+09:00  43767.058594       0        0.0           0.0  \n",
       "2025-09-10 13:45:00+09:00  43781.121094       0        0.0           0.0  "
      ]
     },
     "execution_count": 117,
     "metadata": {},
     "output_type": "execute_result"
    }
   ],
   "source": [
    "code = \"N225\"\n",
    "symbol = f\"^{code}\"\n",
    "ticker = yf.Ticker(symbol)\n",
    "df = ticker.history(period=\"1d\", interval=\"15m\")\n",
    "df"
   ]
  },
  {
   "cell_type": "markdown",
   "id": "2b974883-632b-43cf-8f1b-9f3e4cededdd",
   "metadata": {},
   "source": [
    "## 前日終値の取得"
   ]
  },
  {
   "cell_type": "code",
   "execution_count": 118,
   "id": "cf79a23f-ac87-47e6-bd34-0746a65c86f9",
   "metadata": {},
   "outputs": [
    {
     "name": "stdout",
     "output_type": "stream",
     "text": [
      "Date\n",
      "2025-09-03 00:00:00+09:00    41938.890625\n",
      "2025-09-04 00:00:00+09:00    42580.269531\n",
      "2025-09-05 00:00:00+09:00    43018.750000\n",
      "2025-09-08 00:00:00+09:00    43643.808594\n",
      "2025-09-09 00:00:00+09:00    43459.289062\n",
      "2025-09-10 00:00:00+09:00    43781.121094\n",
      "Name: Close, dtype: float64\n"
     ]
    },
    {
     "data": {
      "text/plain": [
       "Date\n",
       "2025-09-09 00:00:00+09:00    43459.289062\n",
       "Name: Close, dtype: float64"
      ]
     },
     "execution_count": 118,
     "metadata": {},
     "output_type": "execute_result"
    }
   ],
   "source": [
    "# 過去一週間のデータを取得\n",
    "td = datetime.timedelta(days=7)\n",
    "dt_first = df.index[0]\n",
    "dt_prev = dt_first - td\n",
    "df_last = ticker.history(interval=\"1d\", start=str(dt_prev.date()))\n",
    "print(df_last[\"Close\"])\n",
    "n = len(df_last)\n",
    "lastclose = df_last[n - 2 : n - 1][\"Close\"].iloc[0]\n",
    "# 確認のため出力\n",
    "df_last[n - 2 : n - 1][\"Close\"]"
   ]
  },
  {
   "cell_type": "markdown",
   "id": "e41961ad-e3e5-4055-a368-6295b0c73219",
   "metadata": {},
   "source": [
    "### 当日始値 - 前日終値"
   ]
  },
  {
   "cell_type": "code",
   "execution_count": 119,
   "id": "0acbf95b-3e5c-4df6-a7dc-c3e4f82578af",
   "metadata": {},
   "outputs": [
    {
     "name": "stdout",
     "output_type": "stream",
     "text": [
      "+53.87\n"
     ]
    }
   ],
   "source": [
    "delta_open = df.head(1)[\"Open\"].iloc[0] - lastclose\n",
    "print(f\"{delta_open:+.2f}\")"
   ]
  },
  {
   "cell_type": "markdown",
   "id": "432d492c-6e58-46b6-8004-044d4419c02c",
   "metadata": {},
   "source": [
    "## ローソク足チャート（小さいサイズ）"
   ]
  },
  {
   "cell_type": "code",
   "execution_count": 120,
   "id": "f4d0b7d0-b14a-4bfd-949a-c03ee4a578a0",
   "metadata": {},
   "outputs": [
    {
     "data": {
      "image/png": "[encoded data removed]",
      "text/plain": [
       "<Figure size 300x200 with 1 Axes>"
      ]
     },
     "metadata": {},
     "output_type": "display_data"
    }
   ],
   "source": [
    "FONT_PATH = \"../fonts/RictyDiminished-Regular.ttf\"\n",
    "fm.fontManager.addfont(FONT_PATH)\n",
    "\n",
    "# FontPropertiesオブジェクト生成（名前の取得のため）\n",
    "font_prop = fm.FontProperties(fname=FONT_PATH)\n",
    "font_prop.get_name()\n",
    "\n",
    "plt.rcParams[\"font.family\"] = font_prop.get_name()\n",
    "plt.rcParams[\"font.size\"] = 9\n",
    "\n",
    "fig, ax = plt.subplots(figsize=(3, 2))\n",
    "mpf.plot(\n",
    "    df,\n",
    "    type=\"candle\",\n",
    "    style=\"default\",\n",
    "    datetime_format=\"%H:%M\",\n",
    "    xrotation=0,\n",
    "    update_width_config=dict(candle_linewidth=0.75),\n",
    "    ax=ax,\n",
    ")\n",
    "ax.axhline(y=lastclose, color=\"red\", linewidth=0.75)\n",
    "ax.set_ylabel(None)\n",
    "ax.grid()\n",
    "\n",
    "if \"shortName\" in ticker.info:\n",
    "    ax.set_title(f\"{ticker.info['shortName']} ({symbol})\")\n",
    "elif \"longName\" in ticker.info:\n",
    "    ax.set_title(f\"{ticker.info['longName']} ({symbol})\")\n",
    "else:\n",
    "    ax.set_title(f\"{symbol}\")\n",
    "\n",
    "plt.tight_layout()\n",
    "plt.savefig(get_name_15min_chart(code, dt_first))\n",
    "plt.show()"
   ]
  },
  {
   "cell_type": "code",
   "execution_count": null,
   "id": "f18e1ab8-e1be-4684-a805-0584f61e0488",
   "metadata": {},
   "outputs": [],
   "source": []
  }
 ],
 "metadata": {
  "kernelspec": {
   "display_name": "Python 3 (ipykernel)",
   "language": "python",
   "name": "python3"
  },
  "language_info": {
   "codemirror_mode": {
    "name": "ipython",
    "version": 3
   },
   "file_extension": ".py",
   "mimetype": "text/x-python",
   "name": "python",
   "nbconvert_exporter": "python",
   "pygments_lexer": "ipython3",
   "version": "3.13.7"
  }
 },
 "nbformat": 4,
 "nbformat_minor": 5
}
