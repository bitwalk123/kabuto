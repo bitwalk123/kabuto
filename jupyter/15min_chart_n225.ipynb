{
 "cells": [
  {
   "cell_type": "markdown",
   "id": "07ceea52-6536-47e0-81aa-30c017b5bfc5",
   "metadata": {},
   "source": [
    "# 日経平均株価 15分足"
   ]
  },
  {
   "cell_type": "markdown",
   "id": "8a363236-5477-4a61-99da-bf92362631f4",
   "metadata": {},
   "source": [
    "### 一つ上のディレクトリをパスに追加"
   ]
  },
  {
   "cell_type": "code",
   "execution_count": 85,
   "id": "f1f6d8b7-4107-4a29-ae60-f3cbfa1f5a38",
   "metadata": {},
   "outputs": [],
   "source": [
    "import sys\n",
    "\n",
    "path_up = \"..\"\n",
    "if not path_up in sys.path:\n",
    "    sys.path.append(path_up)"
   ]
  },
  {
   "cell_type": "markdown",
   "id": "19d64844-3cbf-4a92-827e-43c425e34eb6",
   "metadata": {},
   "source": [
    "### ライブラリをここで一括インポート"
   ]
  },
  {
   "cell_type": "code",
   "execution_count": 86,
   "id": "3421a3f8-52ac-41e8-8e08-921ddaa4b37a",
   "metadata": {},
   "outputs": [],
   "source": [
    "import datetime\n",
    "\n",
    "import matplotlib.font_manager as fm\n",
    "import matplotlib.pyplot as plt\n",
    "import mplfinance as mpf\n",
    "import numpy as np\n",
    "import pandas as pd\n",
    "import yfinance as yf\n",
    "\n",
    "from funcs.common import get_name_15min_chart, get_name_15min_chart_now"
   ]
  },
  {
   "cell_type": "code",
   "execution_count": 87,
   "id": "e0d1a2c2-64b7-4973-be5d-5b1e2da63c82",
   "metadata": {},
   "outputs": [
    {
     "data": {
      "text/plain": [
       "numpy.ndarray"
      ]
     },
     "execution_count": 87,
     "metadata": {},
     "output_type": "execute_result"
    }
   ],
   "source": [
    "type(np.array([1, 0, 0, 0], dtype=np.int8))"
   ]
  },
  {
   "cell_type": "markdown",
   "id": "8efa7b4f-c5a5-45df-bcbc-c689517b5fb2",
   "metadata": {},
   "source": [
    "## yfinance による株価データの取得"
   ]
  },
  {
   "cell_type": "code",
   "execution_count": 88,
   "id": "513d138a-5223-48b6-868d-a4e49a86c6b6",
   "metadata": {},
   "outputs": [
    {
     "data": {
      "text/html": [
       "<div>\n",
       "<style scoped>\n",
       "    .dataframe tbody tr th:only-of-type {\n",
       "        vertical-align: middle;\n",
       "    }\n",
       "\n",
       "    .dataframe tbody tr th {\n",
       "        vertical-align: top;\n",
       "    }\n",
       "\n",
       "    .dataframe thead th {\n",
       "        text-align: right;\n",
       "    }\n",
       "</style>\n",
       "<table border=\"1\" class=\"dataframe\">\n",
       "  <thead>\n",
       "    <tr style=\"text-align: right;\">\n",
       "      <th></th>\n",
       "      <th>Open</th>\n",
       "      <th>High</th>\n",
       "      <th>Low</th>\n",
       "      <th>Close</th>\n",
       "      <th>Volume</th>\n",
       "      <th>Dividends</th>\n",
       "      <th>Stock Splits</th>\n",
       "    </tr>\n",
       "    <tr>\n",
       "      <th>Datetime</th>\n",
       "      <th></th>\n",
       "      <th></th>\n",
       "      <th></th>\n",
       "      <th></th>\n",
       "      <th></th>\n",
       "      <th></th>\n",
       "      <th></th>\n",
       "    </tr>\n",
       "  </thead>\n",
       "  <tbody>\n",
       "    <tr>\n",
       "      <th>2025-09-25 09:00:00+09:00</th>\n",
       "      <td>45600.070312</td>\n",
       "      <td>45746.078125</td>\n",
       "      <td>45582.890625</td>\n",
       "      <td>45667.871094</td>\n",
       "      <td>0</td>\n",
       "      <td>0.0</td>\n",
       "      <td>0.0</td>\n",
       "    </tr>\n",
       "    <tr>\n",
       "      <th>2025-09-25 09:15:00+09:00</th>\n",
       "      <td>45658.921875</td>\n",
       "      <td>45676.808594</td>\n",
       "      <td>45503.308594</td>\n",
       "      <td>45516.449219</td>\n",
       "      <td>0</td>\n",
       "      <td>0.0</td>\n",
       "      <td>0.0</td>\n",
       "    </tr>\n",
       "    <tr>\n",
       "      <th>2025-09-25 09:30:00+09:00</th>\n",
       "      <td>45520.500000</td>\n",
       "      <td>45650.949219</td>\n",
       "      <td>45509.761719</td>\n",
       "      <td>45614.300781</td>\n",
       "      <td>0</td>\n",
       "      <td>0.0</td>\n",
       "      <td>0.0</td>\n",
       "    </tr>\n",
       "    <tr>\n",
       "      <th>2025-09-25 09:45:00+09:00</th>\n",
       "      <td>45615.671875</td>\n",
       "      <td>45630.738281</td>\n",
       "      <td>45531.730469</td>\n",
       "      <td>45579.851562</td>\n",
       "      <td>0</td>\n",
       "      <td>0.0</td>\n",
       "      <td>0.0</td>\n",
       "    </tr>\n",
       "    <tr>\n",
       "      <th>2025-09-25 10:00:00+09:00</th>\n",
       "      <td>45578.500000</td>\n",
       "      <td>45615.828125</td>\n",
       "      <td>45512.011719</td>\n",
       "      <td>45602.828125</td>\n",
       "      <td>0</td>\n",
       "      <td>0.0</td>\n",
       "      <td>0.0</td>\n",
       "    </tr>\n",
       "    <tr>\n",
       "      <th>2025-09-25 10:15:00+09:00</th>\n",
       "      <td>45604.660156</td>\n",
       "      <td>45690.421875</td>\n",
       "      <td>45598.398438</td>\n",
       "      <td>45682.988281</td>\n",
       "      <td>0</td>\n",
       "      <td>0.0</td>\n",
       "      <td>0.0</td>\n",
       "    </tr>\n",
       "    <tr>\n",
       "      <th>2025-09-25 10:30:00+09:00</th>\n",
       "      <td>45683.011719</td>\n",
       "      <td>45738.488281</td>\n",
       "      <td>45683.011719</td>\n",
       "      <td>45737.648438</td>\n",
       "      <td>0</td>\n",
       "      <td>0.0</td>\n",
       "      <td>0.0</td>\n",
       "    </tr>\n",
       "    <tr>\n",
       "      <th>2025-09-25 10:45:00+09:00</th>\n",
       "      <td>45740.109375</td>\n",
       "      <td>45807.890625</td>\n",
       "      <td>45740.109375</td>\n",
       "      <td>45801.859375</td>\n",
       "      <td>0</td>\n",
       "      <td>0.0</td>\n",
       "      <td>0.0</td>\n",
       "    </tr>\n",
       "    <tr>\n",
       "      <th>2025-09-25 11:00:00+09:00</th>\n",
       "      <td>45801.890625</td>\n",
       "      <td>45824.691406</td>\n",
       "      <td>45696.398438</td>\n",
       "      <td>45701.839844</td>\n",
       "      <td>0</td>\n",
       "      <td>0.0</td>\n",
       "      <td>0.0</td>\n",
       "    </tr>\n",
       "    <tr>\n",
       "      <th>2025-09-25 11:15:00+09:00</th>\n",
       "      <td>45702.500000</td>\n",
       "      <td>45751.148438</td>\n",
       "      <td>45655.718750</td>\n",
       "      <td>45717.730469</td>\n",
       "      <td>0</td>\n",
       "      <td>0.0</td>\n",
       "      <td>0.0</td>\n",
       "    </tr>\n",
       "    <tr>\n",
       "      <th>2025-09-25 11:30:00+09:00</th>\n",
       "      <td>45717.828125</td>\n",
       "      <td>45719.710938</td>\n",
       "      <td>45717.828125</td>\n",
       "      <td>45719.710938</td>\n",
       "      <td>0</td>\n",
       "      <td>0.0</td>\n",
       "      <td>0.0</td>\n",
       "    </tr>\n",
       "    <tr>\n",
       "      <th>2025-09-25 12:30:00+09:00</th>\n",
       "      <td>45698.480469</td>\n",
       "      <td>45751.179688</td>\n",
       "      <td>45652.238281</td>\n",
       "      <td>45708.851562</td>\n",
       "      <td>0</td>\n",
       "      <td>0.0</td>\n",
       "      <td>0.0</td>\n",
       "    </tr>\n",
       "    <tr>\n",
       "      <th>2025-09-25 12:45:00+09:00</th>\n",
       "      <td>45703.441406</td>\n",
       "      <td>45741.640625</td>\n",
       "      <td>45700.621094</td>\n",
       "      <td>45728.441406</td>\n",
       "      <td>0</td>\n",
       "      <td>0.0</td>\n",
       "      <td>0.0</td>\n",
       "    </tr>\n",
       "    <tr>\n",
       "      <th>2025-09-25 13:00:00+09:00</th>\n",
       "      <td>45729.160156</td>\n",
       "      <td>45792.511719</td>\n",
       "      <td>45705.500000</td>\n",
       "      <td>45742.929688</td>\n",
       "      <td>0</td>\n",
       "      <td>0.0</td>\n",
       "      <td>0.0</td>\n",
       "    </tr>\n",
       "    <tr>\n",
       "      <th>2025-09-25 13:15:00+09:00</th>\n",
       "      <td>45743.101562</td>\n",
       "      <td>45770.578125</td>\n",
       "      <td>45717.898438</td>\n",
       "      <td>45757.050781</td>\n",
       "      <td>0</td>\n",
       "      <td>0.0</td>\n",
       "      <td>0.0</td>\n",
       "    </tr>\n",
       "    <tr>\n",
       "      <th>2025-09-25 13:30:00+09:00</th>\n",
       "      <td>45757.320312</td>\n",
       "      <td>45764.671875</td>\n",
       "      <td>45704.871094</td>\n",
       "      <td>45711.031250</td>\n",
       "      <td>0</td>\n",
       "      <td>0.0</td>\n",
       "      <td>0.0</td>\n",
       "    </tr>\n",
       "    <tr>\n",
       "      <th>2025-09-25 13:45:00+09:00</th>\n",
       "      <td>45710.210938</td>\n",
       "      <td>45711.500000</td>\n",
       "      <td>45619.218750</td>\n",
       "      <td>45666.890625</td>\n",
       "      <td>0</td>\n",
       "      <td>0.0</td>\n",
       "      <td>0.0</td>\n",
       "    </tr>\n",
       "    <tr>\n",
       "      <th>2025-09-25 14:00:00+09:00</th>\n",
       "      <td>45665.890625</td>\n",
       "      <td>45696.738281</td>\n",
       "      <td>45636.109375</td>\n",
       "      <td>45687.718750</td>\n",
       "      <td>0</td>\n",
       "      <td>0.0</td>\n",
       "      <td>0.0</td>\n",
       "    </tr>\n",
       "    <tr>\n",
       "      <th>2025-09-25 14:15:00+09:00</th>\n",
       "      <td>45687.218750</td>\n",
       "      <td>45755.011719</td>\n",
       "      <td>45685.488281</td>\n",
       "      <td>45755.011719</td>\n",
       "      <td>0</td>\n",
       "      <td>0.0</td>\n",
       "      <td>0.0</td>\n",
       "    </tr>\n",
       "  </tbody>\n",
       "</table>\n",
       "</div>"
      ],
      "text/plain": [
       "                                   Open          High           Low  \\\n",
       "Datetime                                                              \n",
       "2025-09-25 09:00:00+09:00  45600.070312  45746.078125  45582.890625   \n",
       "2025-09-25 09:15:00+09:00  45658.921875  45676.808594  45503.308594   \n",
       "2025-09-25 09:30:00+09:00  45520.500000  45650.949219  45509.761719   \n",
       "2025-09-25 09:45:00+09:00  45615.671875  45630.738281  45531.730469   \n",
       "2025-09-25 10:00:00+09:00  45578.500000  45615.828125  45512.011719   \n",
       "2025-09-25 10:15:00+09:00  45604.660156  45690.421875  45598.398438   \n",
       "2025-09-25 10:30:00+09:00  45683.011719  45738.488281  45683.011719   \n",
       "2025-09-25 10:45:00+09:00  45740.109375  45807.890625  45740.109375   \n",
       "2025-09-25 11:00:00+09:00  45801.890625  45824.691406  45696.398438   \n",
       "2025-09-25 11:15:00+09:00  45702.500000  45751.148438  45655.718750   \n",
       "2025-09-25 11:30:00+09:00  45717.828125  45719.710938  45717.828125   \n",
       "2025-09-25 12:30:00+09:00  45698.480469  45751.179688  45652.238281   \n",
       "2025-09-25 12:45:00+09:00  45703.441406  45741.640625  45700.621094   \n",
       "2025-09-25 13:00:00+09:00  45729.160156  45792.511719  45705.500000   \n",
       "2025-09-25 13:15:00+09:00  45743.101562  45770.578125  45717.898438   \n",
       "2025-09-25 13:30:00+09:00  45757.320312  45764.671875  45704.871094   \n",
       "2025-09-25 13:45:00+09:00  45710.210938  45711.500000  45619.218750   \n",
       "2025-09-25 14:00:00+09:00  45665.890625  45696.738281  45636.109375   \n",
       "2025-09-25 14:15:00+09:00  45687.218750  45755.011719  45685.488281   \n",
       "\n",
       "                                  Close  Volume  Dividends  Stock Splits  \n",
       "Datetime                                                                  \n",
       "2025-09-25 09:00:00+09:00  45667.871094       0        0.0           0.0  \n",
       "2025-09-25 09:15:00+09:00  45516.449219       0        0.0           0.0  \n",
       "2025-09-25 09:30:00+09:00  45614.300781       0        0.0           0.0  \n",
       "2025-09-25 09:45:00+09:00  45579.851562       0        0.0           0.0  \n",
       "2025-09-25 10:00:00+09:00  45602.828125       0        0.0           0.0  \n",
       "2025-09-25 10:15:00+09:00  45682.988281       0        0.0           0.0  \n",
       "2025-09-25 10:30:00+09:00  45737.648438       0        0.0           0.0  \n",
       "2025-09-25 10:45:00+09:00  45801.859375       0        0.0           0.0  \n",
       "2025-09-25 11:00:00+09:00  45701.839844       0        0.0           0.0  \n",
       "2025-09-25 11:15:00+09:00  45717.730469       0        0.0           0.0  \n",
       "2025-09-25 11:30:00+09:00  45719.710938       0        0.0           0.0  \n",
       "2025-09-25 12:30:00+09:00  45708.851562       0        0.0           0.0  \n",
       "2025-09-25 12:45:00+09:00  45728.441406       0        0.0           0.0  \n",
       "2025-09-25 13:00:00+09:00  45742.929688       0        0.0           0.0  \n",
       "2025-09-25 13:15:00+09:00  45757.050781       0        0.0           0.0  \n",
       "2025-09-25 13:30:00+09:00  45711.031250       0        0.0           0.0  \n",
       "2025-09-25 13:45:00+09:00  45666.890625       0        0.0           0.0  \n",
       "2025-09-25 14:00:00+09:00  45687.718750       0        0.0           0.0  \n",
       "2025-09-25 14:15:00+09:00  45755.011719       0        0.0           0.0  "
      ]
     },
     "execution_count": 88,
     "metadata": {},
     "output_type": "execute_result"
    }
   ],
   "source": [
    "code = \"N225\"\n",
    "symbol = f\"^{code}\"\n",
    "ticker = yf.Ticker(symbol)\n",
    "df = ticker.history(period=\"1d\", interval=\"15m\")\n",
    "df"
   ]
  },
  {
   "cell_type": "markdown",
   "id": "2b974883-632b-43cf-8f1b-9f3e4cededdd",
   "metadata": {},
   "source": [
    "## 前日終値の取得"
   ]
  },
  {
   "cell_type": "code",
   "execution_count": 89,
   "id": "cf79a23f-ac87-47e6-bd34-0746a65c86f9",
   "metadata": {},
   "outputs": [
    {
     "name": "stdout",
     "output_type": "stream",
     "text": [
      "Date\n",
      "2025-09-18 00:00:00+09:00    45303.429688\n",
      "2025-09-19 00:00:00+09:00    45045.808594\n",
      "2025-09-22 00:00:00+09:00    45493.660156\n",
      "2025-09-24 00:00:00+09:00    45630.308594\n",
      "2025-09-25 00:00:00+09:00    45755.011719\n",
      "Name: Close, dtype: float64\n"
     ]
    },
    {
     "data": {
      "text/plain": [
       "Date\n",
       "2025-09-24 00:00:00+09:00    45630.308594\n",
       "Name: Close, dtype: float64"
      ]
     },
     "execution_count": 89,
     "metadata": {},
     "output_type": "execute_result"
    }
   ],
   "source": [
    "# 過去一週間のデータを取得\n",
    "td = datetime.timedelta(days=7)\n",
    "dt_first = df.index[0]\n",
    "dt_prev = dt_first - td\n",
    "df_last = ticker.history(interval=\"1d\", start=str(dt_prev.date()))\n",
    "print(df_last[\"Close\"])\n",
    "n = len(df_last)\n",
    "lastclose = df_last[n - 2 : n - 1][\"Close\"].iloc[0]\n",
    "# lastclose = 44902.27 # 9/16 終値\n",
    "# 確認のため出力\n",
    "df_last[n - 2 : n - 1][\"Close\"]"
   ]
  },
  {
   "cell_type": "markdown",
   "id": "e41961ad-e3e5-4055-a368-6295b0c73219",
   "metadata": {},
   "source": [
    "### 当日始値 - 前日終値"
   ]
  },
  {
   "cell_type": "code",
   "execution_count": 90,
   "id": "0acbf95b-3e5c-4df6-a7dc-c3e4f82578af",
   "metadata": {},
   "outputs": [
    {
     "name": "stdout",
     "output_type": "stream",
     "text": [
      "-30.24\n"
     ]
    }
   ],
   "source": [
    "delta_open = df.head(1)[\"Open\"].iloc[0] - lastclose\n",
    "print(f\"{delta_open:+.2f}\")"
   ]
  },
  {
   "cell_type": "markdown",
   "id": "432d492c-6e58-46b6-8004-044d4419c02c",
   "metadata": {},
   "source": [
    "## ローソク足チャート（小さいサイズ）"
   ]
  },
  {
   "cell_type": "code",
   "execution_count": 91,
   "id": "f4d0b7d0-b14a-4bfd-949a-c03ee4a578a0",
   "metadata": {},
   "outputs": [
    {
     "data": {
      "image/png": "[encoded data removed]",
      "text/plain": [
       "<Figure size 300x200 with 1 Axes>"
      ]
     },
     "metadata": {},
     "output_type": "display_data"
    }
   ],
   "source": [
    "FONT_PATH = \"../fonts/RictyDiminished-Regular.ttf\"\n",
    "fm.fontManager.addfont(FONT_PATH)\n",
    "\n",
    "# FontPropertiesオブジェクト生成（名前の取得のため）\n",
    "font_prop = fm.FontProperties(fname=FONT_PATH)\n",
    "font_prop.get_name()\n",
    "\n",
    "plt.rcParams[\"font.family\"] = font_prop.get_name()\n",
    "plt.rcParams[\"font.size\"] = 9\n",
    "\n",
    "fig, ax = plt.subplots(figsize=(3, 2))\n",
    "mpf.plot(\n",
    "    df,\n",
    "    type=\"candle\",\n",
    "    style=\"default\",\n",
    "    datetime_format=\"%H:%M\",\n",
    "    xrotation=0,\n",
    "    update_width_config=dict(candle_linewidth=0.75),\n",
    "    ax=ax,\n",
    ")\n",
    "ax.axhline(y=lastclose, color=\"red\", linewidth=0.75)\n",
    "ax.set_ylabel(None)\n",
    "ax.grid()\n",
    "\n",
    "if \"shortName\" in ticker.info:\n",
    "    ax.set_title(f\"{ticker.info['shortName']} ({symbol})\")\n",
    "elif \"longName\" in ticker.info:\n",
    "    ax.set_title(f\"{ticker.info['longName']} ({symbol})\")\n",
    "else:\n",
    "    ax.set_title(f\"{symbol}\")\n",
    "\n",
    "plt.tight_layout()\n",
    "plt.savefig(get_name_15min_chart(code, dt_first))\n",
    "plt.show()"
   ]
  },
  {
   "cell_type": "code",
   "execution_count": null,
   "id": "f18e1ab8-e1be-4684-a805-0584f61e0488",
   "metadata": {},
   "outputs": [],
   "source": []
  }
 ],
 "metadata": {
  "kernelspec": {
   "display_name": "Python 3 (ipykernel)",
   "language": "python",
   "name": "python3"
  },
  "language_info": {
   "codemirror_mode": {
    "name": "ipython",
    "version": 3
   },
   "file_extension": ".py",
   "mimetype": "text/x-python",
   "name": "python",
   "nbconvert_exporter": "python",
   "pygments_lexer": "ipython3",
   "version": "3.13.7"
  }
 },
 "nbformat": 4,
 "nbformat_minor": 5
}
