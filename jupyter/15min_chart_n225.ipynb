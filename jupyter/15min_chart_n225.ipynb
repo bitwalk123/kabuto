{
 "cells": [
  {
   "cell_type": "markdown",
   "id": "07ceea52-6536-47e0-81aa-30c017b5bfc5",
   "metadata": {},
   "source": [
    "# 日経平均株価 15分足"
   ]
  },
  {
   "cell_type": "markdown",
   "id": "8a363236-5477-4a61-99da-bf92362631f4",
   "metadata": {},
   "source": [
    "### 一つ上のディレクトリをパスに追加"
   ]
  },
  {
   "cell_type": "code",
   "execution_count": 71,
   "id": "f1f6d8b7-4107-4a29-ae60-f3cbfa1f5a38",
   "metadata": {},
   "outputs": [],
   "source": [
    "import sys\n",
    "\n",
    "path_up = \"..\"\n",
    "if not path_up in sys.path:\n",
    "    sys.path.append(path_up)"
   ]
  },
  {
   "cell_type": "markdown",
   "id": "19d64844-3cbf-4a92-827e-43c425e34eb6",
   "metadata": {},
   "source": [
    "### ライブラリをここで一括インポート"
   ]
  },
  {
   "cell_type": "code",
   "execution_count": 72,
   "id": "3421a3f8-52ac-41e8-8e08-921ddaa4b37a",
   "metadata": {},
   "outputs": [],
   "source": [
    "import datetime\n",
    "\n",
    "import matplotlib.font_manager as fm\n",
    "import matplotlib.pyplot as plt\n",
    "import mplfinance as mpf\n",
    "import numpy as np\n",
    "import pandas as pd\n",
    "import yfinance as yf\n",
    "\n",
    "from funcs.common import get_name_15min_chart, get_name_15min_chart_now"
   ]
  },
  {
   "cell_type": "markdown",
   "id": "8efa7b4f-c5a5-45df-bcbc-c689517b5fb2",
   "metadata": {},
   "source": [
    "## yfinance による株価データの取得"
   ]
  },
  {
   "cell_type": "code",
   "execution_count": 73,
   "id": "513d138a-5223-48b6-868d-a4e49a86c6b6",
   "metadata": {},
   "outputs": [
    {
     "data": {
      "text/html": [
       "<div>\n",
       "<style scoped>\n",
       "    .dataframe tbody tr th:only-of-type {\n",
       "        vertical-align: middle;\n",
       "    }\n",
       "\n",
       "    .dataframe tbody tr th {\n",
       "        vertical-align: top;\n",
       "    }\n",
       "\n",
       "    .dataframe thead th {\n",
       "        text-align: right;\n",
       "    }\n",
       "</style>\n",
       "<table border=\"1\" class=\"dataframe\">\n",
       "  <thead>\n",
       "    <tr style=\"text-align: right;\">\n",
       "      <th></th>\n",
       "      <th>Open</th>\n",
       "      <th>High</th>\n",
       "      <th>Low</th>\n",
       "      <th>Close</th>\n",
       "      <th>Volume</th>\n",
       "      <th>Dividends</th>\n",
       "      <th>Stock Splits</th>\n",
       "    </tr>\n",
       "    <tr>\n",
       "      <th>Datetime</th>\n",
       "      <th></th>\n",
       "      <th></th>\n",
       "      <th></th>\n",
       "      <th></th>\n",
       "      <th></th>\n",
       "      <th></th>\n",
       "      <th></th>\n",
       "    </tr>\n",
       "  </thead>\n",
       "  <tbody>\n",
       "    <tr>\n",
       "      <th>2025-09-04 09:00:00+09:00</th>\n",
       "      <td>42093.699219</td>\n",
       "      <td>42355.781250</td>\n",
       "      <td>42066.589844</td>\n",
       "      <td>42351.441406</td>\n",
       "      <td>0</td>\n",
       "      <td>0.0</td>\n",
       "      <td>0.0</td>\n",
       "    </tr>\n",
       "    <tr>\n",
       "      <th>2025-09-04 09:15:00+09:00</th>\n",
       "      <td>42355.269531</td>\n",
       "      <td>42422.328125</td>\n",
       "      <td>42334.210938</td>\n",
       "      <td>42366.750000</td>\n",
       "      <td>0</td>\n",
       "      <td>0.0</td>\n",
       "      <td>0.0</td>\n",
       "    </tr>\n",
       "    <tr>\n",
       "      <th>2025-09-04 09:30:00+09:00</th>\n",
       "      <td>42364.468750</td>\n",
       "      <td>42424.261719</td>\n",
       "      <td>42352.718750</td>\n",
       "      <td>42389.699219</td>\n",
       "      <td>0</td>\n",
       "      <td>0.0</td>\n",
       "      <td>0.0</td>\n",
       "    </tr>\n",
       "    <tr>\n",
       "      <th>2025-09-04 09:45:00+09:00</th>\n",
       "      <td>42384.351562</td>\n",
       "      <td>42481.000000</td>\n",
       "      <td>42384.351562</td>\n",
       "      <td>42451.140625</td>\n",
       "      <td>0</td>\n",
       "      <td>0.0</td>\n",
       "      <td>0.0</td>\n",
       "    </tr>\n",
       "    <tr>\n",
       "      <th>2025-09-04 10:00:00+09:00</th>\n",
       "      <td>42453.761719</td>\n",
       "      <td>42453.761719</td>\n",
       "      <td>42392.238281</td>\n",
       "      <td>42405.199219</td>\n",
       "      <td>0</td>\n",
       "      <td>0.0</td>\n",
       "      <td>0.0</td>\n",
       "    </tr>\n",
       "    <tr>\n",
       "      <th>2025-09-04 10:15:00+09:00</th>\n",
       "      <td>42404.839844</td>\n",
       "      <td>42482.500000</td>\n",
       "      <td>42398.750000</td>\n",
       "      <td>42414.789062</td>\n",
       "      <td>0</td>\n",
       "      <td>0.0</td>\n",
       "      <td>0.0</td>\n",
       "    </tr>\n",
       "    <tr>\n",
       "      <th>2025-09-04 10:30:00+09:00</th>\n",
       "      <td>42415.429688</td>\n",
       "      <td>42424.921875</td>\n",
       "      <td>42358.621094</td>\n",
       "      <td>42416.601562</td>\n",
       "      <td>0</td>\n",
       "      <td>0.0</td>\n",
       "      <td>0.0</td>\n",
       "    </tr>\n",
       "    <tr>\n",
       "      <th>2025-09-04 10:45:00+09:00</th>\n",
       "      <td>42412.699219</td>\n",
       "      <td>42421.261719</td>\n",
       "      <td>42285.058594</td>\n",
       "      <td>42327.929688</td>\n",
       "      <td>0</td>\n",
       "      <td>0.0</td>\n",
       "      <td>0.0</td>\n",
       "    </tr>\n",
       "    <tr>\n",
       "      <th>2025-09-04 11:00:00+09:00</th>\n",
       "      <td>42327.351562</td>\n",
       "      <td>42462.371094</td>\n",
       "      <td>42326.851562</td>\n",
       "      <td>42454.109375</td>\n",
       "      <td>0</td>\n",
       "      <td>0.0</td>\n",
       "      <td>0.0</td>\n",
       "    </tr>\n",
       "    <tr>\n",
       "      <th>2025-09-04 11:15:00+09:00</th>\n",
       "      <td>42455.238281</td>\n",
       "      <td>42478.031250</td>\n",
       "      <td>42452.050781</td>\n",
       "      <td>42458.250000</td>\n",
       "      <td>0</td>\n",
       "      <td>0.0</td>\n",
       "      <td>0.0</td>\n",
       "    </tr>\n",
       "    <tr>\n",
       "      <th>2025-09-04 11:30:00+09:00</th>\n",
       "      <td>42453.750000</td>\n",
       "      <td>42456.160156</td>\n",
       "      <td>42453.750000</td>\n",
       "      <td>42456.160156</td>\n",
       "      <td>0</td>\n",
       "      <td>0.0</td>\n",
       "      <td>0.0</td>\n",
       "    </tr>\n",
       "    <tr>\n",
       "      <th>2025-09-04 12:30:00+09:00</th>\n",
       "      <td>42457.929688</td>\n",
       "      <td>42475.871094</td>\n",
       "      <td>42412.160156</td>\n",
       "      <td>42427.691406</td>\n",
       "      <td>0</td>\n",
       "      <td>0.0</td>\n",
       "      <td>0.0</td>\n",
       "    </tr>\n",
       "    <tr>\n",
       "      <th>2025-09-04 12:45:00+09:00</th>\n",
       "      <td>42426.910156</td>\n",
       "      <td>42452.449219</td>\n",
       "      <td>42423.218750</td>\n",
       "      <td>42444.339844</td>\n",
       "      <td>0</td>\n",
       "      <td>0.0</td>\n",
       "      <td>0.0</td>\n",
       "    </tr>\n",
       "    <tr>\n",
       "      <th>2025-09-04 13:00:00+09:00</th>\n",
       "      <td>42444.640625</td>\n",
       "      <td>42493.578125</td>\n",
       "      <td>42444.640625</td>\n",
       "      <td>42487.281250</td>\n",
       "      <td>0</td>\n",
       "      <td>0.0</td>\n",
       "      <td>0.0</td>\n",
       "    </tr>\n",
       "    <tr>\n",
       "      <th>2025-09-04 13:15:00+09:00</th>\n",
       "      <td>42485.238281</td>\n",
       "      <td>42500.640625</td>\n",
       "      <td>42482.820312</td>\n",
       "      <td>42499.078125</td>\n",
       "      <td>0</td>\n",
       "      <td>0.0</td>\n",
       "      <td>0.0</td>\n",
       "    </tr>\n",
       "  </tbody>\n",
       "</table>\n",
       "</div>"
      ],
      "text/plain": [
       "                                   Open          High           Low  \\\n",
       "Datetime                                                              \n",
       "2025-09-04 09:00:00+09:00  42093.699219  42355.781250  42066.589844   \n",
       "2025-09-04 09:15:00+09:00  42355.269531  42422.328125  42334.210938   \n",
       "2025-09-04 09:30:00+09:00  42364.468750  42424.261719  42352.718750   \n",
       "2025-09-04 09:45:00+09:00  42384.351562  42481.000000  42384.351562   \n",
       "2025-09-04 10:00:00+09:00  42453.761719  42453.761719  42392.238281   \n",
       "2025-09-04 10:15:00+09:00  42404.839844  42482.500000  42398.750000   \n",
       "2025-09-04 10:30:00+09:00  42415.429688  42424.921875  42358.621094   \n",
       "2025-09-04 10:45:00+09:00  42412.699219  42421.261719  42285.058594   \n",
       "2025-09-04 11:00:00+09:00  42327.351562  42462.371094  42326.851562   \n",
       "2025-09-04 11:15:00+09:00  42455.238281  42478.031250  42452.050781   \n",
       "2025-09-04 11:30:00+09:00  42453.750000  42456.160156  42453.750000   \n",
       "2025-09-04 12:30:00+09:00  42457.929688  42475.871094  42412.160156   \n",
       "2025-09-04 12:45:00+09:00  42426.910156  42452.449219  42423.218750   \n",
       "2025-09-04 13:00:00+09:00  42444.640625  42493.578125  42444.640625   \n",
       "2025-09-04 13:15:00+09:00  42485.238281  42500.640625  42482.820312   \n",
       "\n",
       "                                  Close  Volume  Dividends  Stock Splits  \n",
       "Datetime                                                                  \n",
       "2025-09-04 09:00:00+09:00  42351.441406       0        0.0           0.0  \n",
       "2025-09-04 09:15:00+09:00  42366.750000       0        0.0           0.0  \n",
       "2025-09-04 09:30:00+09:00  42389.699219       0        0.0           0.0  \n",
       "2025-09-04 09:45:00+09:00  42451.140625       0        0.0           0.0  \n",
       "2025-09-04 10:00:00+09:00  42405.199219       0        0.0           0.0  \n",
       "2025-09-04 10:15:00+09:00  42414.789062       0        0.0           0.0  \n",
       "2025-09-04 10:30:00+09:00  42416.601562       0        0.0           0.0  \n",
       "2025-09-04 10:45:00+09:00  42327.929688       0        0.0           0.0  \n",
       "2025-09-04 11:00:00+09:00  42454.109375       0        0.0           0.0  \n",
       "2025-09-04 11:15:00+09:00  42458.250000       0        0.0           0.0  \n",
       "2025-09-04 11:30:00+09:00  42456.160156       0        0.0           0.0  \n",
       "2025-09-04 12:30:00+09:00  42427.691406       0        0.0           0.0  \n",
       "2025-09-04 12:45:00+09:00  42444.339844       0        0.0           0.0  \n",
       "2025-09-04 13:00:00+09:00  42487.281250       0        0.0           0.0  \n",
       "2025-09-04 13:15:00+09:00  42499.078125       0        0.0           0.0  "
      ]
     },
     "execution_count": 73,
     "metadata": {},
     "output_type": "execute_result"
    }
   ],
   "source": [
    "code = \"N225\"\n",
    "symbol = f\"^{code}\"\n",
    "ticker = yf.Ticker(symbol)\n",
    "df = ticker.history(period=\"1d\", interval=\"15m\")\n",
    "df"
   ]
  },
  {
   "cell_type": "markdown",
   "id": "2b974883-632b-43cf-8f1b-9f3e4cededdd",
   "metadata": {},
   "source": [
    "## 前日終値の取得"
   ]
  },
  {
   "cell_type": "code",
   "execution_count": 74,
   "id": "cf79a23f-ac87-47e6-bd34-0746a65c86f9",
   "metadata": {},
   "outputs": [
    {
     "name": "stdout",
     "output_type": "stream",
     "text": [
      "Date\n",
      "2025-08-28 00:00:00+09:00    42828.789062\n",
      "2025-08-29 00:00:00+09:00    42718.468750\n",
      "2025-09-01 00:00:00+09:00    42188.789062\n",
      "2025-09-02 00:00:00+09:00    42310.488281\n",
      "2025-09-03 00:00:00+09:00    41938.890625\n",
      "2025-09-04 00:00:00+09:00    42499.078125\n",
      "Name: Close, dtype: float64\n"
     ]
    },
    {
     "data": {
      "text/plain": [
       "Date\n",
       "2025-09-03 00:00:00+09:00    41938.890625\n",
       "Name: Close, dtype: float64"
      ]
     },
     "execution_count": 74,
     "metadata": {},
     "output_type": "execute_result"
    }
   ],
   "source": [
    "# 過去一週間のデータを取得\n",
    "td = datetime.timedelta(days=7)\n",
    "dt_first = df.index[0]\n",
    "dt_prev = dt_first - td\n",
    "df_last = ticker.history(interval=\"1d\", start=str(dt_prev.date()))\n",
    "print(df_last[\"Close\"])\n",
    "n = len(df_last)\n",
    "lastclose = df_last[n - 2 : n - 1][\"Close\"].iloc[0]\n",
    "# 確認のため出力\n",
    "df_last[n - 2 : n - 1][\"Close\"]"
   ]
  },
  {
   "cell_type": "markdown",
   "id": "e41961ad-e3e5-4055-a368-6295b0c73219",
   "metadata": {},
   "source": [
    "### 当日始値 - 前日終値"
   ]
  },
  {
   "cell_type": "code",
   "execution_count": 75,
   "id": "0acbf95b-3e5c-4df6-a7dc-c3e4f82578af",
   "metadata": {},
   "outputs": [
    {
     "name": "stdout",
     "output_type": "stream",
     "text": [
      "+154.81\n"
     ]
    }
   ],
   "source": [
    "delta_open = df.head(1)[\"Open\"].iloc[0] - lastclose\n",
    "print(f\"{delta_open:+.2f}\")"
   ]
  },
  {
   "cell_type": "markdown",
   "id": "432d492c-6e58-46b6-8004-044d4419c02c",
   "metadata": {},
   "source": [
    "## ローソク足チャート（小さいサイズ）"
   ]
  },
  {
   "cell_type": "code",
   "execution_count": 76,
   "id": "f4d0b7d0-b14a-4bfd-949a-c03ee4a578a0",
   "metadata": {},
   "outputs": [
    {
     "data": {
      "image/png": "[encoded data removed]",
      "text/plain": [
       "<Figure size 300x200 with 1 Axes>"
      ]
     },
     "metadata": {},
     "output_type": "display_data"
    }
   ],
   "source": [
    "FONT_PATH = \"../fonts/RictyDiminished-Regular.ttf\"\n",
    "fm.fontManager.addfont(FONT_PATH)\n",
    "\n",
    "# FontPropertiesオブジェクト生成（名前の取得のため）\n",
    "font_prop = fm.FontProperties(fname=FONT_PATH)\n",
    "font_prop.get_name()\n",
    "\n",
    "plt.rcParams[\"font.family\"] = font_prop.get_name()\n",
    "plt.rcParams[\"font.size\"] = 9\n",
    "\n",
    "fig, ax = plt.subplots(figsize=(3, 2))\n",
    "mpf.plot(\n",
    "    df,\n",
    "    type=\"candle\",\n",
    "    style=\"default\",\n",
    "    datetime_format=\"%H:%M\",\n",
    "    xrotation=0,\n",
    "    update_width_config=dict(candle_linewidth=0.75),\n",
    "    ax=ax,\n",
    ")\n",
    "ax.axhline(y=lastclose, color=\"red\", linewidth=0.75)\n",
    "ax.set_ylabel(None)\n",
    "ax.grid()\n",
    "\n",
    "if \"shortName\" in ticker.info:\n",
    "    ax.set_title(f\"{ticker.info['shortName']} ({symbol})\")\n",
    "elif \"longName\" in ticker.info:\n",
    "    ax.set_title(f\"{ticker.info['longName']} ({symbol})\")\n",
    "else:\n",
    "    ax.set_title(f\"{symbol}\")\n",
    "\n",
    "plt.tight_layout()\n",
    "plt.savefig(get_name_15min_chart(code, dt_first))\n",
    "plt.show()"
   ]
  },
  {
   "cell_type": "code",
   "execution_count": null,
   "id": "f18e1ab8-e1be-4684-a805-0584f61e0488",
   "metadata": {},
   "outputs": [],
   "source": []
  }
 ],
 "metadata": {
  "kernelspec": {
   "display_name": "Python 3 (ipykernel)",
   "language": "python",
   "name": "python3"
  },
  "language_info": {
   "codemirror_mode": {
    "name": "ipython",
    "version": 3
   },
   "file_extension": ".py",
   "mimetype": "text/x-python",
   "name": "python",
   "nbconvert_exporter": "python",
   "pygments_lexer": "ipython3",
   "version": "3.13.7"
  }
 },
 "nbformat": 4,
 "nbformat_minor": 5
}
