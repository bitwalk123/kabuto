{
 "cells": [
  {
   "cell_type": "code",
   "execution_count": 1,
   "id": "b8e1d347-d591-45af-b0a4-08df4a99b77a",
   "metadata": {},
   "outputs": [],
   "source": [
    "import datetime\n",
    "import time"
   ]
  },
  {
   "cell_type": "code",
   "execution_count": 6,
   "id": "b4f5f16c-236b-45d1-9cb0-be8dae9e5234",
   "metadata": {},
   "outputs": [
    {
     "data": {
      "text/plain": [
       "float"
      ]
     },
     "execution_count": 6,
     "metadata": {},
     "output_type": "execute_result"
    }
   ],
   "source": [
    "ts = time.time()\n",
    "type(ts)"
   ]
  },
  {
   "cell_type": "code",
   "execution_count": 5,
   "id": "b2ebf242-8c17-49c1-8994-75abf39a4e11",
   "metadata": {},
   "outputs": [
    {
     "data": {
      "text/plain": [
       "datetime.datetime(2025, 6, 4, 14, 6, 36, 637766)"
      ]
     },
     "execution_count": 5,
     "metadata": {},
     "output_type": "execute_result"
    }
   ],
   "source": [
    "datetime.datetime.fromtimestamp(ts)"
   ]
  },
  {
   "cell_type": "code",
   "execution_count": null,
   "id": "d3946dfc-5523-4ac9-ad83-4d1a62771d49",
   "metadata": {},
   "outputs": [],
   "source": []
  }
 ],
 "metadata": {
  "kernelspec": {
   "display_name": "Python 3 (ipykernel)",
   "language": "python",
   "name": "python3"
  },
  "language_info": {
   "codemirror_mode": {
    "name": "ipython",
    "version": 3
   },
   "file_extension": ".py",
   "mimetype": "text/x-python",
   "name": "python",
   "nbconvert_exporter": "python",
   "pygments_lexer": "ipython3",
   "version": "3.13.3"
  }
 },
 "nbformat": 4,
 "nbformat_minor": 5
}
