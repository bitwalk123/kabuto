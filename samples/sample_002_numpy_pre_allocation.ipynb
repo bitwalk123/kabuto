{
 "cells": [
  {
   "cell_type": "code",
   "execution_count": 1,
   "id": "6133eb9d-0dac-4d12-8c7b-eeea8e28cd38",
   "metadata": {},
   "outputs": [],
   "source": [
    "import numpy as np"
   ]
  },
  {
   "cell_type": "code",
   "execution_count": 11,
   "id": "fd6aee4d-8aae-4053-98d6-a1ec115c0c94",
   "metadata": {},
   "outputs": [
    {
     "data": {
      "text/plain": [
       "array([4.0474e-320, 2.9249e-321, 0.0000e+000, ..., 0.0000e+000,\n",
       "       0.0000e+000, 0.0000e+000], shape=(19800,))"
      ]
     },
     "execution_count": 11,
     "metadata": {},
     "output_type": "execute_result"
    }
   ],
   "source": [
    "# 最大データ点数\n",
    "max_data_points = 19800\n",
    "# カウンター\n",
    "counter = 0\n",
    "# データ領域の確保\n",
    "data_x = np.empty(max_data_points, dtype=np.float64) # メモリを確保するだけで初期化しない\n",
    "data_x"
   ]
  },
  {
   "cell_type": "code",
   "execution_count": 13,
   "id": "598bf5fb-6e0c-490f-8824-b3a58787aa7a",
   "metadata": {},
   "outputs": [
    {
     "data": {
      "text/plain": [
       "array([ 0.56536372, -0.11640753])"
      ]
     },
     "execution_count": 13,
     "metadata": {},
     "output_type": "execute_result"
    }
   ],
   "source": [
    "data_x[counter] = np.random.randn()\n",
    "counter += 1\n",
    "data_x[0:counter]"
   ]
  },
  {
   "cell_type": "code",
   "execution_count": null,
   "id": "5e39398b-382d-477b-b748-548644035bdd",
   "metadata": {},
   "outputs": [],
   "source": []
  }
 ],
 "metadata": {
  "kernelspec": {
   "display_name": "Python 3 (ipykernel)",
   "language": "python",
   "name": "python3"
  },
  "language_info": {
   "codemirror_mode": {
    "name": "ipython",
    "version": 3
   },
   "file_extension": ".py",
   "mimetype": "text/x-python",
   "name": "python",
   "nbconvert_exporter": "python",
   "pygments_lexer": "ipython3",
   "version": "3.13.3"
  }
 },
 "nbformat": 4,
 "nbformat_minor": 5
}
