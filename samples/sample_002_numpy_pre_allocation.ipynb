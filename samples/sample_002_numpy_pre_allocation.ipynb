{
 "cells": [
  {
   "cell_type": "code",
   "execution_count": 14,
   "id": "6133eb9d-0dac-4d12-8c7b-eeea8e28cd38",
   "metadata": {},
   "outputs": [],
   "source": [
    "import numpy as np\n",
    "import pandas as pd"
   ]
  },
  {
   "cell_type": "code",
   "execution_count": 15,
   "id": "fd6aee4d-8aae-4053-98d6-a1ec115c0c94",
   "metadata": {},
   "outputs": [
    {
     "data": {
      "text/plain": [
       "array([6.91726385e-310, 6.91726385e-310, 6.91722394e-310, ...,\n",
       "       0.00000000e+000, 0.00000000e+000, 0.00000000e+000], shape=(19800,))"
      ]
     },
     "execution_count": 15,
     "metadata": {},
     "output_type": "execute_result"
    }
   ],
   "source": [
    "# 最大データ点数\n",
    "max_data_points = 19800\n",
    "# カウンター\n",
    "counter = 0\n",
    "# データ領域の確保\n",
    "data_x = np.empty(max_data_points, dtype=np.float64) # メモリを確保するだけで初期化しない\n",
    "data_x"
   ]
  },
  {
   "cell_type": "code",
   "execution_count": 16,
   "id": "598bf5fb-6e0c-490f-8824-b3a58787aa7a",
   "metadata": {},
   "outputs": [
    {
     "data": {
      "text/plain": [
       "array([0.20020467])"
      ]
     },
     "execution_count": 16,
     "metadata": {},
     "output_type": "execute_result"
    }
   ],
   "source": [
    "data_x[counter] = np.random.randn()\n",
    "counter += 1\n",
    "data_x[0:counter]"
   ]
  },
  {
   "cell_type": "code",
   "execution_count": 18,
   "id": "5e39398b-382d-477b-b748-548644035bdd",
   "metadata": {},
   "outputs": [
    {
     "data": {
      "text/html": [
       "<div>\n",
       "<style scoped>\n",
       "    .dataframe tbody tr th:only-of-type {\n",
       "        vertical-align: middle;\n",
       "    }\n",
       "\n",
       "    .dataframe tbody tr th {\n",
       "        vertical-align: top;\n",
       "    }\n",
       "\n",
       "    .dataframe thead th {\n",
       "        text-align: right;\n",
       "    }\n",
       "</style>\n",
       "<table border=\"1\" class=\"dataframe\">\n",
       "  <thead>\n",
       "    <tr style=\"text-align: right;\">\n",
       "      <th></th>\n",
       "      <th>Time</th>\n",
       "      <th>Price</th>\n",
       "    </tr>\n",
       "  </thead>\n",
       "  <tbody>\n",
       "    <tr>\n",
       "      <th>0</th>\n",
       "      <td>1.748477e+09</td>\n",
       "      <td>3305</td>\n",
       "    </tr>\n",
       "    <tr>\n",
       "      <th>1</th>\n",
       "      <td>1.748477e+09</td>\n",
       "      <td>3306</td>\n",
       "    </tr>\n",
       "    <tr>\n",
       "      <th>2</th>\n",
       "      <td>1.748477e+09</td>\n",
       "      <td>3306</td>\n",
       "    </tr>\n",
       "    <tr>\n",
       "      <th>3</th>\n",
       "      <td>1.748477e+09</td>\n",
       "      <td>3314</td>\n",
       "    </tr>\n",
       "    <tr>\n",
       "      <th>4</th>\n",
       "      <td>1.748477e+09</td>\n",
       "      <td>3314</td>\n",
       "    </tr>\n",
       "    <tr>\n",
       "      <th>...</th>\n",
       "      <td>...</td>\n",
       "      <td>...</td>\n",
       "    </tr>\n",
       "    <tr>\n",
       "      <th>18328</th>\n",
       "      <td>1.748500e+09</td>\n",
       "      <td>3296</td>\n",
       "    </tr>\n",
       "    <tr>\n",
       "      <th>18329</th>\n",
       "      <td>1.748500e+09</td>\n",
       "      <td>3296</td>\n",
       "    </tr>\n",
       "    <tr>\n",
       "      <th>18330</th>\n",
       "      <td>1.748500e+09</td>\n",
       "      <td>3296</td>\n",
       "    </tr>\n",
       "    <tr>\n",
       "      <th>18331</th>\n",
       "      <td>1.748500e+09</td>\n",
       "      <td>3296</td>\n",
       "    </tr>\n",
       "    <tr>\n",
       "      <th>18332</th>\n",
       "      <td>1.748500e+09</td>\n",
       "      <td>3296</td>\n",
       "    </tr>\n",
       "  </tbody>\n",
       "</table>\n",
       "<p>18333 rows × 2 columns</p>\n",
       "</div>"
      ],
      "text/plain": [
       "               Time  Price\n",
       "0      1.748477e+09   3305\n",
       "1      1.748477e+09   3306\n",
       "2      1.748477e+09   3306\n",
       "3      1.748477e+09   3314\n",
       "4      1.748477e+09   3314\n",
       "...             ...    ...\n",
       "18328  1.748500e+09   3296\n",
       "18329  1.748500e+09   3296\n",
       "18330  1.748500e+09   3296\n",
       "18331  1.748500e+09   3296\n",
       "18332  1.748500e+09   3296\n",
       "\n",
       "[18333 rows x 2 columns]"
      ]
     },
     "execution_count": 18,
     "metadata": {},
     "output_type": "execute_result"
    }
   ],
   "source": [
    "file_excel = \"../excel/trader_20250529.xlsx\"\n",
    "df = pd.read_excel(file_excel, sheet_name='7011')\n",
    "df"
   ]
  },
  {
   "cell_type": "code",
   "execution_count": 36,
   "id": "a4746294-a226-485e-bf0e-19a06e086a3c",
   "metadata": {},
   "outputs": [
    {
     "data": {
      "text/plain": [
       "np.float64(1748476802.723)"
      ]
     },
     "execution_count": 36,
     "metadata": {},
     "output_type": "execute_result"
    }
   ],
   "source": [
    "t = 1748476800.0\n",
    "df_tick = df[(t <= df['Time']) & (df['Time'] <= t + 3)]\n",
    "df_tick['Time'][0]"
   ]
  },
  {
   "cell_type": "code",
   "execution_count": null,
   "id": "61652b2f-aefb-4e19-aa98-8260a59a5284",
   "metadata": {},
   "outputs": [],
   "source": []
  }
 ],
 "metadata": {
  "kernelspec": {
   "display_name": "Python 3 (ipykernel)",
   "language": "python",
   "name": "python3"
  },
  "language_info": {
   "codemirror_mode": {
    "name": "ipython",
    "version": 3
   },
   "file_extension": ".py",
   "mimetype": "text/x-python",
   "name": "python",
   "nbconvert_exporter": "python",
   "pygments_lexer": "ipython3",
   "version": "3.13.3"
  }
 },
 "nbformat": 4,
 "nbformat_minor": 5
}
