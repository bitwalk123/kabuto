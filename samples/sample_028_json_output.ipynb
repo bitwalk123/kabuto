{
 "cells": [
  {
   "cell_type": "markdown",
   "id": "d1ea339a-ad90-4231-9f88-c7a6d5e5e9e5",
   "metadata": {},
   "source": [
    "# JSON 出力"
   ]
  },
  {
   "cell_type": "code",
   "execution_count": 1,
   "id": "1d0b5bbc-f247-4a6e-9b58-b307ab2ff695",
   "metadata": {},
   "outputs": [],
   "source": [
    "import json"
   ]
  },
  {
   "cell_type": "code",
   "execution_count": 2,
   "id": "c8485b6c-32bf-433b-85a5-5280a19ac8b9",
   "metadata": {},
   "outputs": [],
   "source": [
    "dict_server = {\n",
    "    \"ip\": \"192.168.0.38\",\n",
    "    \"port\": 12345,\n",
    "}"
   ]
  },
  {
   "cell_type": "code",
   "execution_count": 3,
   "id": "5d6d902e-78ed-43c3-84d9-56c0dfc44777",
   "metadata": {},
   "outputs": [
    {
     "data": {
      "text/plain": [
       "'{\"ip\": \"192.168.0.38\", \"port\": 12345}'"
      ]
     },
     "execution_count": 3,
     "metadata": {},
     "output_type": "execute_result"
    }
   ],
   "source": [
    "s = json.dumps(dict_server)\n",
    "s"
   ]
  },
  {
   "cell_type": "code",
   "execution_count": 4,
   "id": "ad0dbfc9-730d-4e57-ba8f-e7e14bb4dd9a",
   "metadata": {},
   "outputs": [
    {
     "data": {
      "text/plain": [
       "dict"
      ]
     },
     "execution_count": 4,
     "metadata": {},
     "output_type": "execute_result"
    }
   ],
   "source": [
    "d = json.loads(s)\n",
    "type(d)"
   ]
  },
  {
   "cell_type": "code",
   "execution_count": 5,
   "id": "8d9b4f46-3f05-4408-ad70-7b4a45e2c444",
   "metadata": {},
   "outputs": [
    {
     "data": {
      "text/plain": [
       "'{\"portfolio\": {\"list_ticker\": [\"1234\", \"5678\"], \"dict_name\": {\"1234\": \"\\\\u25cb\\\\u00d7\\\\u25b3\", \"5678\": \"\\\\u3042\\\\u3044\\\\u3046\\\\u3048\\\\u304a\"}}}'"
      ]
     },
     "execution_count": 5,
     "metadata": {},
     "output_type": "execute_result"
    }
   ],
   "source": [
    "list_ticker = [\"1234\", \"5678\"]\n",
    "dict_name = {\n",
    "    \"1234\": \"○×△\",\n",
    "    \"5678\": \"あいうえお\",\n",
    "}\n",
    "dict_portfolio = {\n",
    "    \"portfolio\": {\n",
    "        \"list_ticker\": list_ticker,\n",
    "        \"dict_name\" : dict_name,\n",
    "    }\n",
    "}\n",
    "s = json.dumps(dict_portfolio)\n",
    "s"
   ]
  },
  {
   "cell_type": "code",
   "execution_count": 6,
   "id": "c66b2320-50c5-402b-ad76-ea0c9c3cf154",
   "metadata": {},
   "outputs": [
    {
     "data": {
      "text/plain": [
       "{'portfolio': {'list_ticker': ['1234', '5678'],\n",
       "  'dict_name': {'1234': '○×△', '5678': 'あいうえお'}}}"
      ]
     },
     "execution_count": 6,
     "metadata": {},
     "output_type": "execute_result"
    }
   ],
   "source": [
    "d = json.loads(s)\n",
    "d"
   ]
  },
  {
   "cell_type": "code",
   "execution_count": 9,
   "id": "867af94d-b97b-4c98-a379-fab3037a2c92",
   "metadata": {},
   "outputs": [
    {
     "data": {
      "text/plain": [
       "{'request': 'portfolio'}"
      ]
     },
     "execution_count": 9,
     "metadata": {},
     "output_type": "execute_result"
    }
   ],
   "source": [
    "dict_send = {\"request\": \"portfolio\"}\n",
    "dict_send"
   ]
  },
  {
   "cell_type": "code",
   "execution_count": 6,
   "id": "4fd36540-9659-438f-a8dd-8f0fd9db1bef",
   "metadata": {},
   "outputs": [],
   "source": [
    "with open('server.json', 'w') as f:\n",
    "    json.dump(dict_server, f)"
   ]
  },
  {
   "cell_type": "code",
   "execution_count": null,
   "id": "e84c3d07-b963-49ce-bdb0-9834e6e8e7cb",
   "metadata": {},
   "outputs": [],
   "source": []
  }
 ],
 "metadata": {
  "kernelspec": {
   "display_name": "Python 3 (ipykernel)",
   "language": "python",
   "name": "python3"
  },
  "language_info": {
   "codemirror_mode": {
    "name": "ipython",
    "version": 3
   },
   "file_extension": ".py",
   "mimetype": "text/x-python",
   "name": "python",
   "nbconvert_exporter": "python",
   "pygments_lexer": "ipython3",
   "version": "3.13.5"
  }
 },
 "nbformat": 4,
 "nbformat_minor": 5
}
