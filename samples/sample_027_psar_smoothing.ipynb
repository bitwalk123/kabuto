{
 "cells": [
  {
   "cell_type": "markdown",
   "id": "c1fd1af1-f30a-44ad-bfec-a16ca5110d2d",
   "metadata": {},
   "source": [
    "# beetle: PSAR smoothing の評価"
   ]
  },
  {
   "cell_type": "code",
   "execution_count": 33,
   "id": "ce154905-771c-48c0-bac9-16b955eaf8ab",
   "metadata": {},
   "outputs": [],
   "source": [
    "import sys\n",
    "\n",
    "path_up = \"..\"\n",
    "if not path_up in sys.path:\n",
    "    sys.path.append(path_up)"
   ]
  },
  {
   "cell_type": "code",
   "execution_count": 37,
   "id": "8808dc19-50ba-4dee-8503-4bac3be658a5",
   "metadata": {},
   "outputs": [],
   "source": [
    "from collections import deque\n",
    "import datetime\n",
    "import re\n",
    "from sys import stdout\n",
    "\n",
    "import matplotlib.font_manager as fm\n",
    "import matplotlib.pyplot as plt\n",
    "import numpy as np\n",
    "import pandas as pd\n",
    "from matplotlib import dates as mdates\n",
    "from scipy.interpolate import make_smoothing_spline\n",
    "\n",
    "from beetle.beetle_psar import RealtimePSAR\n",
    "from funcs.tse import get_ticker_name_list\n",
    "\n",
    "pattern = re.compile(r\".+([0-9]{4})([0-9]{2})([0-9]{2})\\.xlsx\")"
   ]
  },
  {
   "cell_type": "code",
   "execution_count": 35,
   "id": "224db59b-0f4c-43d9-97f4-b6ab1f008e50",
   "metadata": {},
   "outputs": [
    {
     "data": {
      "text/html": [
       "<div>\n",
       "<style scoped>\n",
       "    .dataframe tbody tr th:only-of-type {\n",
       "        vertical-align: middle;\n",
       "    }\n",
       "\n",
       "    .dataframe tbody tr th {\n",
       "        vertical-align: top;\n",
       "    }\n",
       "\n",
       "    .dataframe thead th {\n",
       "        text-align: right;\n",
       "    }\n",
       "</style>\n",
       "<table border=\"1\" class=\"dataframe\">\n",
       "  <thead>\n",
       "    <tr style=\"text-align: right;\">\n",
       "      <th></th>\n",
       "      <th>Time</th>\n",
       "      <th>Price</th>\n",
       "    </tr>\n",
       "  </thead>\n",
       "  <tbody>\n",
       "    <tr>\n",
       "      <th>2025-07-07 09:00:00.945624</th>\n",
       "      <td>1.751846e+09</td>\n",
       "      <td>3362</td>\n",
       "    </tr>\n",
       "    <tr>\n",
       "      <th>2025-07-07 09:00:02.343719</th>\n",
       "      <td>1.751846e+09</td>\n",
       "      <td>3362</td>\n",
       "    </tr>\n",
       "    <tr>\n",
       "      <th>2025-07-07 09:00:02.932775</th>\n",
       "      <td>1.751846e+09</td>\n",
       "      <td>3364</td>\n",
       "    </tr>\n",
       "    <tr>\n",
       "      <th>2025-07-07 09:00:03.937222</th>\n",
       "      <td>1.751846e+09</td>\n",
       "      <td>3364</td>\n",
       "    </tr>\n",
       "    <tr>\n",
       "      <th>2025-07-07 09:00:04.934612</th>\n",
       "      <td>1.751846e+09</td>\n",
       "      <td>3370</td>\n",
       "    </tr>\n",
       "    <tr>\n",
       "      <th>...</th>\n",
       "      <td>...</td>\n",
       "      <td>...</td>\n",
       "    </tr>\n",
       "    <tr>\n",
       "      <th>2025-07-07 15:24:45.933281</th>\n",
       "      <td>1.751869e+09</td>\n",
       "      <td>3406</td>\n",
       "    </tr>\n",
       "    <tr>\n",
       "      <th>2025-07-07 15:24:46.939378</th>\n",
       "      <td>1.751869e+09</td>\n",
       "      <td>3406</td>\n",
       "    </tr>\n",
       "    <tr>\n",
       "      <th>2025-07-07 15:24:47.943283</th>\n",
       "      <td>1.751869e+09</td>\n",
       "      <td>3407</td>\n",
       "    </tr>\n",
       "    <tr>\n",
       "      <th>2025-07-07 15:24:48.939748</th>\n",
       "      <td>1.751869e+09</td>\n",
       "      <td>3407</td>\n",
       "    </tr>\n",
       "    <tr>\n",
       "      <th>2025-07-07 15:24:49.945051</th>\n",
       "      <td>1.751869e+09</td>\n",
       "      <td>3405</td>\n",
       "    </tr>\n",
       "  </tbody>\n",
       "</table>\n",
       "<p>19410 rows × 2 columns</p>\n",
       "</div>"
      ],
      "text/plain": [
       "                                    Time  Price\n",
       "2025-07-07 09:00:00.945624  1.751846e+09   3362\n",
       "2025-07-07 09:00:02.343719  1.751846e+09   3362\n",
       "2025-07-07 09:00:02.932775  1.751846e+09   3364\n",
       "2025-07-07 09:00:03.937222  1.751846e+09   3364\n",
       "2025-07-07 09:00:04.934612  1.751846e+09   3370\n",
       "...                                  ...    ...\n",
       "2025-07-07 15:24:45.933281  1.751869e+09   3406\n",
       "2025-07-07 15:24:46.939378  1.751869e+09   3406\n",
       "2025-07-07 15:24:47.943283  1.751869e+09   3407\n",
       "2025-07-07 15:24:48.939748  1.751869e+09   3407\n",
       "2025-07-07 15:24:49.945051  1.751869e+09   3405\n",
       "\n",
       "[19410 rows x 2 columns]"
      ]
     },
     "execution_count": 35,
     "metadata": {},
     "output_type": "execute_result"
    }
   ],
   "source": [
    "name_excel = \"../excel/tick_20250707.xlsx\"\n",
    "ticker = \"7011\"\n",
    "#ticker = \"7203\"\n",
    "#ticker = \"8306\"\n",
    "\n",
    "m = pattern.match(name_excel)\n",
    "if m:\n",
    "    year = m.group(1)\n",
    "    month = m.group(2)\n",
    "    day = m.group(3)\n",
    "else:\n",
    "    year = \"1970\"\n",
    "    month = \"01\"\n",
    "    day = \"01\"\n",
    "date_str = f\"{year}-{month}-{day}\"\n",
    "df = pd.read_excel(name_excel, sheet_name=ticker)\n",
    "df.index = pd.to_datetime([datetime.datetime.fromtimestamp(t) for t in df[\"Time\"]])\n",
    "df"
   ]
  },
  {
   "cell_type": "markdown",
   "id": "75f781ad-9f0b-401c-a60b-dfe9ea562032",
   "metadata": {},
   "source": [
    "## スムージング処理"
   ]
  },
  {
   "cell_type": "code",
   "execution_count": null,
   "id": "19b24e8e-f2a3-420c-9bca-43d5a271acc5",
   "metadata": {},
   "outputs": [
    {
     "name": "stdout",
     "output_type": "stream",
     "text": [
      "824 / 19410 終了しました。"
     ]
    }
   ],
   "source": [
    "total = len(df)\n",
    "df[\"x\"] = [r for r in range(len(df))]\n",
    "\n",
    "n = 300\n",
    "xs_deque = deque(maxlen=n)\n",
    "prices_deque = deque(maxlen=n)\n",
    "\n",
    "for i, t in enumerate(df.index):\n",
    "    x = df.at[t, \"x\"]\n",
    "    price = df.at[t, \"Price\"]\n",
    "\n",
    "    xs_deque.append(x)\n",
    "    prices_deque.append(price)\n",
    "\n",
    "    if len(xs_deque) > 5:\n",
    "        #lam = 10**7\n",
    "        spl = make_smoothing_spline(xs_deque, prices_deque)\n",
    "        df.at[t, \"y\"] = spl(x)\n",
    "        stdout.write(f\"\\r{i + 1} / {total} 終了しました。\")\n",
    "        stdout.flush()\n",
    "df"
   ]
  },
  {
   "cell_type": "markdown",
   "id": "e4c7a671-b0c4-40e4-9297-046bdd5e65af",
   "metadata": {},
   "source": [
    "## チャート"
   ]
  },
  {
   "cell_type": "code",
   "execution_count": null,
   "id": "5bed1406-9597-410f-a9fd-b9eec9c35905",
   "metadata": {},
   "outputs": [],
   "source": [
    "FONT_PATH = \"../fonts/RictyDiminished-Regular.ttf\"\n",
    "fm.fontManager.addfont(FONT_PATH)\n",
    "\n",
    "# FontPropertiesオブジェクト生成（名前の取得のため）\n",
    "font_prop = fm.FontProperties(fname=FONT_PATH)\n",
    "font_prop.get_name()\n",
    "\n",
    "plt.rcParams[\"font.family\"] = font_prop.get_name()\n",
    "plt.rcParams[\"font.size\"] = 12\n",
    "# plt.style.use(\"dark_background\")\n",
    "\n",
    "ax = dict()\n",
    "n = 1\n",
    "\n",
    "if n > 1:\n",
    "    fig = plt.figure(figsize=(10, 8))\n",
    "    gs = fig.add_gridspec(\n",
    "        n,\n",
    "        1,\n",
    "        wspace=0.0,\n",
    "        hspace=0.0,\n",
    "        height_ratios=[3 if i == 0 else 1 for i in range(n)],\n",
    "    )\n",
    "    for i, axis in enumerate(gs.subplots(sharex=\"col\")):\n",
    "        ax[i] = axis\n",
    "        ax[i].grid()\n",
    "else:\n",
    "    fig, ax[0] = plt.subplots(figsize=(10, 5))\n",
    "    ax[0].grid()\n",
    "\n",
    "ax[0].plot(df[\"Price\"], color=\"lightgray\", linewidth=0.5)\n",
    "ax[0].plot(df[\"y\"], color=\"black\", linewidth=0.5)\n",
    "\n",
    "ax[0].xaxis.set_major_formatter(mdates.DateFormatter(\"%H:%M\"))\n",
    "dict_name = get_ticker_name_list([ticker])\n",
    "ax[0].set_title(f\"{dict_name[ticker]} ({ticker}) on {date_str}\")\n",
    "\n",
    "plt.tight_layout()\n",
    "# plt.savefig(f\"screenshots/psar_smoothing_{date_str}_{ticker}.png\")\n",
    "plt.show()"
   ]
  },
  {
   "cell_type": "code",
   "execution_count": null,
   "id": "f9cbe758-7572-4547-95df-fea4d5622107",
   "metadata": {},
   "outputs": [],
   "source": []
  }
 ],
 "metadata": {
  "kernelspec": {
   "display_name": "Python 3 (ipykernel)",
   "language": "python",
   "name": "python3"
  },
  "language_info": {
   "codemirror_mode": {
    "name": "ipython",
    "version": 3
   },
   "file_extension": ".py",
   "mimetype": "text/x-python",
   "name": "python",
   "nbconvert_exporter": "python",
   "pygments_lexer": "ipython3",
   "version": "3.13.5"
  }
 },
 "nbformat": 4,
 "nbformat_minor": 5
}
