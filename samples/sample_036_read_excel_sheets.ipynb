{
 "cells": [
  {
   "cell_type": "markdown",
   "id": "fcc738d3-2fda-446f-abc3-8358d9241f2c",
   "metadata": {},
   "source": [
    "# Excel シートの読み込み"
   ]
  },
  {
   "cell_type": "code",
   "execution_count": 1,
   "id": "bfa002b9-dc95-4a67-938a-3659c90862bf",
   "metadata": {},
   "outputs": [],
   "source": [
    "import sys\n",
    "\n",
    "path_up = \"..\"\n",
    "if not path_up in sys.path:\n",
    "    sys.path.append(path_up)"
   ]
  },
  {
   "cell_type": "code",
   "execution_count": 2,
   "id": "a4046f04-fc6a-4b5a-8494-887fc97b8004",
   "metadata": {},
   "outputs": [],
   "source": [
    "import os\n",
    "\n",
    "import pandas as pd\n",
    "\n",
    "from funcs.ios import get_excel_sheet"
   ]
  },
  {
   "cell_type": "code",
   "execution_count": 4,
   "id": "5887e23b-0455-449b-85c0-809b8eed79af",
   "metadata": {},
   "outputs": [
    {
     "data": {
      "text/html": [
       "<div>\n",
       "<style scoped>\n",
       "    .dataframe tbody tr th:only-of-type {\n",
       "        vertical-align: middle;\n",
       "    }\n",
       "\n",
       "    .dataframe tbody tr th {\n",
       "        vertical-align: top;\n",
       "    }\n",
       "\n",
       "    .dataframe thead th {\n",
       "        text-align: right;\n",
       "    }\n",
       "</style>\n",
       "<table border=\"1\" class=\"dataframe\">\n",
       "  <thead>\n",
       "    <tr style=\"text-align: right;\">\n",
       "      <th></th>\n",
       "      <th>Time</th>\n",
       "      <th>Price</th>\n",
       "      <th>Volume</th>\n",
       "    </tr>\n",
       "  </thead>\n",
       "  <tbody>\n",
       "    <tr>\n",
       "      <th>0</th>\n",
       "      <td>1.756253e+09</td>\n",
       "      <td>3788</td>\n",
       "      <td>543900</td>\n",
       "    </tr>\n",
       "    <tr>\n",
       "      <th>1</th>\n",
       "      <td>1.756253e+09</td>\n",
       "      <td>3787</td>\n",
       "      <td>566300</td>\n",
       "    </tr>\n",
       "    <tr>\n",
       "      <th>2</th>\n",
       "      <td>1.756253e+09</td>\n",
       "      <td>3787</td>\n",
       "      <td>566300</td>\n",
       "    </tr>\n",
       "    <tr>\n",
       "      <th>3</th>\n",
       "      <td>1.756253e+09</td>\n",
       "      <td>3787</td>\n",
       "      <td>566300</td>\n",
       "    </tr>\n",
       "    <tr>\n",
       "      <th>4</th>\n",
       "      <td>1.756253e+09</td>\n",
       "      <td>3779</td>\n",
       "      <td>589800</td>\n",
       "    </tr>\n",
       "    <tr>\n",
       "      <th>...</th>\n",
       "      <td>...</td>\n",
       "      <td>...</td>\n",
       "      <td>...</td>\n",
       "    </tr>\n",
       "    <tr>\n",
       "      <th>19351</th>\n",
       "      <td>1.756276e+09</td>\n",
       "      <td>3759</td>\n",
       "      <td>14975200</td>\n",
       "    </tr>\n",
       "    <tr>\n",
       "      <th>19352</th>\n",
       "      <td>1.756276e+09</td>\n",
       "      <td>3759</td>\n",
       "      <td>14977000</td>\n",
       "    </tr>\n",
       "    <tr>\n",
       "      <th>19353</th>\n",
       "      <td>1.756276e+09</td>\n",
       "      <td>3759</td>\n",
       "      <td>14977000</td>\n",
       "    </tr>\n",
       "    <tr>\n",
       "      <th>19354</th>\n",
       "      <td>1.756276e+09</td>\n",
       "      <td>3759</td>\n",
       "      <td>14978900</td>\n",
       "    </tr>\n",
       "    <tr>\n",
       "      <th>19355</th>\n",
       "      <td>1.756276e+09</td>\n",
       "      <td>3759</td>\n",
       "      <td>14978900</td>\n",
       "    </tr>\n",
       "  </tbody>\n",
       "</table>\n",
       "<p>19356 rows × 3 columns</p>\n",
       "</div>"
      ],
      "text/plain": [
       "               Time  Price    Volume\n",
       "0      1.756253e+09   3788    543900\n",
       "1      1.756253e+09   3787    566300\n",
       "2      1.756253e+09   3787    566300\n",
       "3      1.756253e+09   3787    566300\n",
       "4      1.756253e+09   3779    589800\n",
       "...             ...    ...       ...\n",
       "19351  1.756276e+09   3759  14975200\n",
       "19352  1.756276e+09   3759  14977000\n",
       "19353  1.756276e+09   3759  14977000\n",
       "19354  1.756276e+09   3759  14978900\n",
       "19355  1.756276e+09   3759  14978900\n",
       "\n",
       "[19356 rows x 3 columns]"
      ]
     },
     "execution_count": 4,
     "metadata": {},
     "output_type": "execute_result"
    }
   ],
   "source": [
    "file_excel = \"../collection/ticks_20250827.xlsx\"\n",
    "code = \"7011\"\n",
    "df = get_excel_sheet(file_excel, code)\n",
    "df"
   ]
  },
  {
   "cell_type": "code",
   "execution_count": 5,
   "id": "3f152056-8372-4433-8445-08db17c45eed",
   "metadata": {},
   "outputs": [
    {
     "data": {
      "text/plain": [
       "Index(['Time', 'Price', 'Volume'], dtype='object')"
      ]
     },
     "execution_count": 5,
     "metadata": {},
     "output_type": "execute_result"
    }
   ],
   "source": [
    "df.columns"
   ]
  },
  {
   "cell_type": "code",
   "execution_count": null,
   "id": "8f0c6886-a204-4fe6-8721-fc6bbb7973ad",
   "metadata": {},
   "outputs": [],
   "source": []
  }
 ],
 "metadata": {
  "kernelspec": {
   "display_name": "Python 3 (ipykernel)",
   "language": "python",
   "name": "python3"
  },
  "language_info": {
   "codemirror_mode": {
    "name": "ipython",
    "version": 3
   },
   "file_extension": ".py",
   "mimetype": "text/x-python",
   "name": "python",
   "nbconvert_exporter": "python",
   "pygments_lexer": "ipython3",
   "version": "3.13.7"
  }
 },
 "nbformat": 4,
 "nbformat_minor": 5
}
