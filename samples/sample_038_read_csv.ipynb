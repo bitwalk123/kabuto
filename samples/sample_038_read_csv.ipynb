{
 "cells": [
  {
   "cell_type": "markdown",
   "id": "fcc738d3-2fda-446f-abc3-8358d9241f2c",
   "metadata": {},
   "source": [
    "# CSVの読み込み"
   ]
  },
  {
   "cell_type": "code",
   "execution_count": 4,
   "id": "bfa002b9-dc95-4a67-938a-3659c90862bf",
   "metadata": {},
   "outputs": [],
   "source": [
    "import sys\n",
    "\n",
    "path_up = \"..\"\n",
    "if not path_up in sys.path:\n",
    "    sys.path.append(path_up)"
   ]
  },
  {
   "cell_type": "code",
   "execution_count": 5,
   "id": "a4046f04-fc6a-4b5a-8494-887fc97b8004",
   "metadata": {},
   "outputs": [],
   "source": [
    "import os\n",
    "\n",
    "import pandas as pd"
   ]
  },
  {
   "cell_type": "code",
   "execution_count": 15,
   "id": "5887e23b-0455-449b-85c0-809b8eed79af",
   "metadata": {},
   "outputs": [
    {
     "data": {
      "text/html": [
       "<div>\n",
       "<style scoped>\n",
       "    .dataframe tbody tr th:only-of-type {\n",
       "        vertical-align: middle;\n",
       "    }\n",
       "\n",
       "    .dataframe tbody tr th {\n",
       "        vertical-align: top;\n",
       "    }\n",
       "\n",
       "    .dataframe thead th {\n",
       "        text-align: right;\n",
       "    }\n",
       "</style>\n",
       "<table border=\"1\" class=\"dataframe\">\n",
       "  <thead>\n",
       "    <tr style=\"text-align: right;\">\n",
       "      <th></th>\n",
       "      <th>Unnamed: 0</th>\n",
       "      <th>Time</th>\n",
       "      <th>Price</th>\n",
       "      <th>Action</th>\n",
       "      <th>Profit</th>\n",
       "    </tr>\n",
       "  </thead>\n",
       "  <tbody>\n",
       "    <tr>\n",
       "      <th>0</th>\n",
       "      <td>0</td>\n",
       "      <td>1.756166e+09</td>\n",
       "      <td>3819.0</td>\n",
       "      <td>HOLD</td>\n",
       "      <td>0.0</td>\n",
       "    </tr>\n",
       "    <tr>\n",
       "      <th>1</th>\n",
       "      <td>1</td>\n",
       "      <td>1.756166e+09</td>\n",
       "      <td>3819.0</td>\n",
       "      <td>HOLD</td>\n",
       "      <td>0.0</td>\n",
       "    </tr>\n",
       "    <tr>\n",
       "      <th>2</th>\n",
       "      <td>2</td>\n",
       "      <td>1.756166e+09</td>\n",
       "      <td>3819.0</td>\n",
       "      <td>HOLD</td>\n",
       "      <td>0.0</td>\n",
       "    </tr>\n",
       "    <tr>\n",
       "      <th>3</th>\n",
       "      <td>3</td>\n",
       "      <td>1.756166e+09</td>\n",
       "      <td>3819.0</td>\n",
       "      <td>HOLD</td>\n",
       "      <td>0.0</td>\n",
       "    </tr>\n",
       "    <tr>\n",
       "      <th>4</th>\n",
       "      <td>4</td>\n",
       "      <td>1.756166e+09</td>\n",
       "      <td>3811.0</td>\n",
       "      <td>HOLD</td>\n",
       "      <td>0.0</td>\n",
       "    </tr>\n",
       "    <tr>\n",
       "      <th>...</th>\n",
       "      <td>...</td>\n",
       "      <td>...</td>\n",
       "      <td>...</td>\n",
       "      <td>...</td>\n",
       "      <td>...</td>\n",
       "    </tr>\n",
       "    <tr>\n",
       "      <th>19368</th>\n",
       "      <td>19368</td>\n",
       "      <td>1.756189e+09</td>\n",
       "      <td>3772.0</td>\n",
       "      <td>HOLD</td>\n",
       "      <td>-460.0</td>\n",
       "    </tr>\n",
       "    <tr>\n",
       "      <th>19369</th>\n",
       "      <td>19369</td>\n",
       "      <td>1.756189e+09</td>\n",
       "      <td>3772.0</td>\n",
       "      <td>HOLD</td>\n",
       "      <td>-460.0</td>\n",
       "    </tr>\n",
       "    <tr>\n",
       "      <th>19370</th>\n",
       "      <td>19370</td>\n",
       "      <td>1.756189e+09</td>\n",
       "      <td>3773.0</td>\n",
       "      <td>HOLD</td>\n",
       "      <td>-450.0</td>\n",
       "    </tr>\n",
       "    <tr>\n",
       "      <th>19371</th>\n",
       "      <td>19371</td>\n",
       "      <td>1.756189e+09</td>\n",
       "      <td>3773.0</td>\n",
       "      <td>HOLD</td>\n",
       "      <td>-450.0</td>\n",
       "    </tr>\n",
       "    <tr>\n",
       "      <th>19372</th>\n",
       "      <td>19372</td>\n",
       "      <td>1.756189e+09</td>\n",
       "      <td>3773.0</td>\n",
       "      <td>REPAY</td>\n",
       "      <td>-4600.0</td>\n",
       "    </tr>\n",
       "  </tbody>\n",
       "</table>\n",
       "<p>19373 rows × 5 columns</p>\n",
       "</div>"
      ],
      "text/plain": [
       "       Unnamed: 0          Time   Price Action  Profit\n",
       "0               0  1.756166e+09  3819.0   HOLD     0.0\n",
       "1               1  1.756166e+09  3819.0   HOLD     0.0\n",
       "2               2  1.756166e+09  3819.0   HOLD     0.0\n",
       "3               3  1.756166e+09  3819.0   HOLD     0.0\n",
       "4               4  1.756166e+09  3811.0   HOLD     0.0\n",
       "...           ...           ...     ...    ...     ...\n",
       "19368       19368  1.756189e+09  3772.0   HOLD  -460.0\n",
       "19369       19369  1.756189e+09  3772.0   HOLD  -460.0\n",
       "19370       19370  1.756189e+09  3773.0   HOLD  -450.0\n",
       "19371       19371  1.756189e+09  3773.0   HOLD  -450.0\n",
       "19372       19372  1.756189e+09  3773.0  REPAY -4600.0\n",
       "\n",
       "[19373 rows x 5 columns]"
      ]
     },
     "execution_count": 15,
     "metadata": {},
     "output_type": "execute_result"
    }
   ],
   "source": [
    "file_csv = \"../output/trade_results_025.csv\"\n",
    "df_transaction = pd.read_csv(file_csv)\n",
    "df_transaction"
   ]
  },
  {
   "cell_type": "code",
   "execution_count": 16,
   "id": "3f152056-8372-4433-8445-08db17c45eed",
   "metadata": {},
   "outputs": [
    {
     "data": {
      "text/plain": [
       "np.float64(-4600.0)"
      ]
     },
     "execution_count": 16,
     "metadata": {},
     "output_type": "execute_result"
    }
   ],
   "source": [
    "df_transaction[df_transaction[\"Action\"] == \"REPAY\"][\"Profit\"].sum()"
   ]
  },
  {
   "cell_type": "code",
   "execution_count": null,
   "id": "8f0c6886-a204-4fe6-8721-fc6bbb7973ad",
   "metadata": {},
   "outputs": [],
   "source": []
  }
 ],
 "metadata": {
  "kernelspec": {
   "display_name": "Python 3 (ipykernel)",
   "language": "python",
   "name": "python3"
  },
  "language_info": {
   "codemirror_mode": {
    "name": "ipython",
    "version": 3
   },
   "file_extension": ".py",
   "mimetype": "text/x-python",
   "name": "python",
   "nbconvert_exporter": "python",
   "pygments_lexer": "ipython3",
   "version": "3.13.7"
  }
 },
 "nbformat": 4,
 "nbformat_minor": 5
}
