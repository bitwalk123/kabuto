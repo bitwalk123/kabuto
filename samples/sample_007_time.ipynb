{
 "cells": [
  {
   "cell_type": "code",
   "execution_count": 2,
   "id": "54b7e6cb-d463-4aa7-ba31-d96f518ed57e",
   "metadata": {},
   "outputs": [],
   "source": [
    "import datetime"
   ]
  },
  {
   "cell_type": "code",
   "execution_count": 8,
   "id": "8a4d5915-8565-4b51-9ea2-4e8e1d6f999b",
   "metadata": {},
   "outputs": [
    {
     "data": {
      "text/plain": [
       "'13:24:35'"
      ]
     },
     "execution_count": 8,
     "metadata": {},
     "output_type": "execute_result"
    }
   ],
   "source": [
    "dt = datetime.datetime.now()\n",
    "f\"{dt.hour:02}:{dt.minute:02}:{dt.second:02}\""
   ]
  },
  {
   "cell_type": "code",
   "execution_count": null,
   "id": "21a2a509-7df4-4e12-862e-8f244431f7ef",
   "metadata": {},
   "outputs": [],
   "source": []
  }
 ],
 "metadata": {
  "kernelspec": {
   "display_name": "Python 3 (ipykernel)",
   "language": "python",
   "name": "python3"
  },
  "language_info": {
   "codemirror_mode": {
    "name": "ipython",
    "version": 3
   },
   "file_extension": ".py",
   "mimetype": "text/x-python",
   "name": "python",
   "nbconvert_exporter": "python",
   "pygments_lexer": "ipython3",
   "version": "3.13.3"
  }
 },
 "nbformat": 4,
 "nbformat_minor": 5
}
